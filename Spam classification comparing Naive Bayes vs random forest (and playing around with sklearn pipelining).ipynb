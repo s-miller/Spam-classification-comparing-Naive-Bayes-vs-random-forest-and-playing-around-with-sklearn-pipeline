{
 "cells": [
  {
   "cell_type": "markdown",
   "metadata": {
    "collapsed": true
   },
   "source": [
    "# Spam classifier comparing Naive Bayes vs random forest (and playing around with sklearn pipelining)"
   ]
  },
  {
   "cell_type": "markdown",
   "metadata": {},
   "source": [
    "Notebook looking at the UCI SMS Spam Collection data, using an NLP approach to build a spam detector based on Naive Bayes classifier.   \n",
    "\n",
    "URL for dataset: https://archive.ics.uci.edu/ml/datasets/SMS+Spam+Collection"
   ]
  },
  {
   "cell_type": "markdown",
   "metadata": {},
   "source": [
    "## 1) Import libraries"
   ]
  },
  {
   "cell_type": "code",
   "execution_count": 73,
   "metadata": {
    "collapsed": true
   },
   "outputs": [],
   "source": [
    "import pandas as pd\n",
    "\n",
    "import matplotlib.pyplot as plt\n",
    "import seaborn as sns\n",
    "\n",
    "%matplotlib inline"
   ]
  },
  {
   "cell_type": "code",
   "execution_count": 74,
   "metadata": {
    "collapsed": true
   },
   "outputs": [],
   "source": [
    "import nltk # natural language toolkit"
   ]
  },
  {
   "cell_type": "markdown",
   "metadata": {
    "collapsed": false
   },
   "source": [
    "_nltk.download()_ gives you the downloader shell, from where we installed the 'stopwords' package."
   ]
  },
  {
   "cell_type": "markdown",
   "metadata": {},
   "source": [
    "## 2) Get data"
   ]
  },
  {
   "cell_type": "code",
   "execution_count": 75,
   "metadata": {
    "collapsed": true
   },
   "outputs": [],
   "source": [
    "messages = [line.rstrip() for line in open('smsspamcollection/SMSSpamCollection')]\n",
    "#rstrip removes any ending spaces eg 'hello  ' -> 'hello'"
   ]
  },
  {
   "cell_type": "markdown",
   "metadata": {},
   "source": [
    "## 3) Exploratory data analysis"
   ]
  },
  {
   "cell_type": "code",
   "execution_count": 76,
   "metadata": {
    "collapsed": false
   },
   "outputs": [
    {
     "name": "stdout",
     "output_type": "stream",
     "text": [
      "5574\n"
     ]
    }
   ],
   "source": [
    "print(len(messages))"
   ]
  },
  {
   "cell_type": "markdown",
   "metadata": {},
   "source": [
    "We can see we have 5572 df.  Let's have a look at the file in our text editor..."
   ]
  },
  {
   "cell_type": "code",
   "execution_count": 12,
   "metadata": {
    "collapsed": true
   },
   "outputs": [],
   "source": [
    "! subl smsspamcollection/SMSSpamCollection"
   ]
  },
  {
   "cell_type": "markdown",
   "metadata": {},
   "source": [
    "Let's see what sort an object _messages_ is..."
   ]
  },
  {
   "cell_type": "code",
   "execution_count": 77,
   "metadata": {
    "collapsed": false
   },
   "outputs": [
    {
     "data": {
      "text/plain": [
       "list"
      ]
     },
     "execution_count": 77,
     "metadata": {},
     "output_type": "execute_result"
    }
   ],
   "source": [
    "type(messages)"
   ]
  },
  {
   "cell_type": "markdown",
   "metadata": {},
   "source": [
    "Let's  see what some of the dataset looks like, now we've read the file in..."
   ]
  },
  {
   "cell_type": "code",
   "execution_count": 78,
   "metadata": {
    "collapsed": false
   },
   "outputs": [
    {
     "name": "stdout",
     "output_type": "stream",
     "text": [
      "0 ham\tGo until jurong point, crazy.. Available only in bugis n great world la e buffet... Cine there got amore wat... \n",
      "\n",
      "1 ham\tOk lar... Joking wif u oni... \n",
      "\n",
      "2 spam\tFree entry in 2 a wkly comp to win FA Cup final tkts 21st May 2005. Text FA to 87121 to receive entry question(std txt rate)T&C's apply 08452810075over18's \n",
      "\n",
      "3 ham\tU dun say so early hor... U c already then say... \n",
      "\n",
      "4 ham\tNah I don't think he goes to usf, he lives around here though \n",
      "\n",
      "5 spam\tFreeMsg Hey there darling it's been 3 week's now and no word back! I'd like some fun you up for it still? Tb ok! XxX std chgs to send, £1.50 to rcv \n",
      "\n",
      "6 ham\tEven my brother is not like to speak with me. They treat me like aids patent. \n",
      "\n",
      "7 ham\tAs per your request 'Melle Melle (Oru Minnaminunginte Nurungu Vettam)' has been set as your callertune for all Callers. Press *9 to copy your friends Callertune \n",
      "\n",
      "8 spam\tWINNER!! As a valued network customer you have been selected to receivea £900 prize reward! To claim call 09061701461. Claim code KL341. Valid 12 hours only. \n",
      "\n",
      "9 spam\tHad your mobile 11 months or more? U R entitled to Update to the latest colour mobiles with camera for Free! Call The Mobile Update Co FREE on 08002986030 \n",
      "\n"
     ]
    }
   ],
   "source": [
    "for mess_no, message in enumerate(messages[:10]):\n",
    "    print(mess_no, message, '\\n')"
   ]
  },
  {
   "cell_type": "markdown",
   "metadata": {},
   "source": [
    "Let's have a look at a single line..."
   ]
  },
  {
   "cell_type": "code",
   "execution_count": 79,
   "metadata": {
    "collapsed": false
   },
   "outputs": [
    {
     "data": {
      "text/plain": [
       "'ham\\tWhat you thinked about me. First time you saw me in class.'"
      ]
     },
     "execution_count": 79,
     "metadata": {},
     "output_type": "execute_result"
    }
   ],
   "source": [
    "messages[50]"
   ]
  },
  {
   "cell_type": "markdown",
   "metadata": {},
   "source": [
    "From the above, we can see that the file has its cols separated by tab i.e. \\t."
   ]
  },
  {
   "cell_type": "markdown",
   "metadata": {},
   "source": [
    "It may be easier to work with this data using pandas rather than parsing text file with Python. Let's import the data again, this time as a pandas dataframe..."
   ]
  },
  {
   "cell_type": "code",
   "execution_count": 80,
   "metadata": {
    "collapsed": true
   },
   "outputs": [],
   "source": [
    "df = pd.read_csv('smsspamcollection/SMSSpamCollection', sep ='\\t', names=['label','message'])"
   ]
  },
  {
   "cell_type": "markdown",
   "metadata": {},
   "source": [
    "### Let's have another exploratory look at the data using our pandas tools..."
   ]
  },
  {
   "cell_type": "code",
   "execution_count": 81,
   "metadata": {
    "collapsed": false
   },
   "outputs": [
    {
     "data": {
      "text/plain": [
       "Index(['label', 'message'], dtype='object')"
      ]
     },
     "execution_count": 81,
     "metadata": {},
     "output_type": "execute_result"
    }
   ],
   "source": [
    "df.columns"
   ]
  },
  {
   "cell_type": "code",
   "execution_count": 82,
   "metadata": {
    "collapsed": false
   },
   "outputs": [
    {
     "data": {
      "text/html": [
       "<div>\n",
       "<table border=\"1\" class=\"dataframe\">\n",
       "  <thead>\n",
       "    <tr style=\"text-align: right;\">\n",
       "      <th></th>\n",
       "      <th>label</th>\n",
       "      <th>message</th>\n",
       "    </tr>\n",
       "  </thead>\n",
       "  <tbody>\n",
       "    <tr>\n",
       "      <th>count</th>\n",
       "      <td>5572</td>\n",
       "      <td>5572</td>\n",
       "    </tr>\n",
       "    <tr>\n",
       "      <th>unique</th>\n",
       "      <td>2</td>\n",
       "      <td>5169</td>\n",
       "    </tr>\n",
       "    <tr>\n",
       "      <th>top</th>\n",
       "      <td>ham</td>\n",
       "      <td>Sorry, I'll call later</td>\n",
       "    </tr>\n",
       "    <tr>\n",
       "      <th>freq</th>\n",
       "      <td>4825</td>\n",
       "      <td>30</td>\n",
       "    </tr>\n",
       "  </tbody>\n",
       "</table>\n",
       "</div>"
      ],
      "text/plain": [
       "       label                 message\n",
       "count   5572                    5572\n",
       "unique     2                    5169\n",
       "top      ham  Sorry, I'll call later\n",
       "freq    4825                      30"
      ]
     },
     "execution_count": 82,
     "metadata": {},
     "output_type": "execute_result"
    }
   ],
   "source": [
    "df.describe()"
   ]
  },
  {
   "cell_type": "code",
   "execution_count": 83,
   "metadata": {
    "collapsed": false
   },
   "outputs": [
    {
     "data": {
      "text/html": [
       "<div>\n",
       "<table border=\"1\" class=\"dataframe\">\n",
       "  <thead>\n",
       "    <tr style=\"text-align: right;\">\n",
       "      <th></th>\n",
       "      <th>label</th>\n",
       "      <th>message</th>\n",
       "    </tr>\n",
       "  </thead>\n",
       "  <tbody>\n",
       "    <tr>\n",
       "      <th>0</th>\n",
       "      <td>ham</td>\n",
       "      <td>Go until jurong point, crazy.. Available only ...</td>\n",
       "    </tr>\n",
       "    <tr>\n",
       "      <th>1</th>\n",
       "      <td>ham</td>\n",
       "      <td>Ok lar... Joking wif u oni...</td>\n",
       "    </tr>\n",
       "    <tr>\n",
       "      <th>2</th>\n",
       "      <td>spam</td>\n",
       "      <td>Free entry in 2 a wkly comp to win FA Cup fina...</td>\n",
       "    </tr>\n",
       "    <tr>\n",
       "      <th>3</th>\n",
       "      <td>ham</td>\n",
       "      <td>U dun say so early hor... U c already then say...</td>\n",
       "    </tr>\n",
       "    <tr>\n",
       "      <th>4</th>\n",
       "      <td>ham</td>\n",
       "      <td>Nah I don't think he goes to usf, he lives aro...</td>\n",
       "    </tr>\n",
       "  </tbody>\n",
       "</table>\n",
       "</div>"
      ],
      "text/plain": [
       "  label                                            message\n",
       "0   ham  Go until jurong point, crazy.. Available only ...\n",
       "1   ham                      Ok lar... Joking wif u oni...\n",
       "2  spam  Free entry in 2 a wkly comp to win FA Cup fina...\n",
       "3   ham  U dun say so early hor... U c already then say...\n",
       "4   ham  Nah I don't think he goes to usf, he lives aro..."
      ]
     },
     "execution_count": 83,
     "metadata": {},
     "output_type": "execute_result"
    }
   ],
   "source": [
    "df.head()"
   ]
  },
  {
   "cell_type": "markdown",
   "metadata": {},
   "source": [
    "Let's group the messages by their classification..."
   ]
  },
  {
   "cell_type": "code",
   "execution_count": 84,
   "metadata": {
    "collapsed": false
   },
   "outputs": [
    {
     "data": {
      "text/html": [
       "<div>\n",
       "<table border=\"1\" class=\"dataframe\">\n",
       "  <thead>\n",
       "    <tr style=\"text-align: right;\">\n",
       "      <th></th>\n",
       "      <th></th>\n",
       "      <th>message</th>\n",
       "    </tr>\n",
       "    <tr>\n",
       "      <th>label</th>\n",
       "      <th></th>\n",
       "      <th></th>\n",
       "    </tr>\n",
       "  </thead>\n",
       "  <tbody>\n",
       "    <tr>\n",
       "      <th rowspan=\"4\" valign=\"top\">ham</th>\n",
       "      <th>count</th>\n",
       "      <td>4825</td>\n",
       "    </tr>\n",
       "    <tr>\n",
       "      <th>unique</th>\n",
       "      <td>4516</td>\n",
       "    </tr>\n",
       "    <tr>\n",
       "      <th>top</th>\n",
       "      <td>Sorry, I'll call later</td>\n",
       "    </tr>\n",
       "    <tr>\n",
       "      <th>freq</th>\n",
       "      <td>30</td>\n",
       "    </tr>\n",
       "    <tr>\n",
       "      <th rowspan=\"4\" valign=\"top\">spam</th>\n",
       "      <th>count</th>\n",
       "      <td>747</td>\n",
       "    </tr>\n",
       "    <tr>\n",
       "      <th>unique</th>\n",
       "      <td>653</td>\n",
       "    </tr>\n",
       "    <tr>\n",
       "      <th>top</th>\n",
       "      <td>Please call our customer service representativ...</td>\n",
       "    </tr>\n",
       "    <tr>\n",
       "      <th>freq</th>\n",
       "      <td>4</td>\n",
       "    </tr>\n",
       "  </tbody>\n",
       "</table>\n",
       "</div>"
      ],
      "text/plain": [
       "                                                        message\n",
       "label                                                          \n",
       "ham   count                                                4825\n",
       "      unique                                               4516\n",
       "      top                                Sorry, I'll call later\n",
       "      freq                                                   30\n",
       "spam  count                                                 747\n",
       "      unique                                                653\n",
       "      top     Please call our customer service representativ...\n",
       "      freq                                                    4"
      ]
     },
     "execution_count": 84,
     "metadata": {},
     "output_type": "execute_result"
    }
   ],
   "source": [
    "df.groupby('label').describe()"
   ]
  },
  {
   "cell_type": "markdown",
   "metadata": {},
   "source": [
    "## 4) Feature engineering"
   ]
  },
  {
   "cell_type": "markdown",
   "metadata": {},
   "source": [
    "Let's create a new feature: message length (num chars)"
   ]
  },
  {
   "cell_type": "code",
   "execution_count": 85,
   "metadata": {
    "collapsed": true
   },
   "outputs": [],
   "source": [
    "df['length']=df.message.apply(len)"
   ]
  },
  {
   "cell_type": "code",
   "execution_count": 86,
   "metadata": {
    "collapsed": false
   },
   "outputs": [
    {
     "data": {
      "text/html": [
       "<div>\n",
       "<table border=\"1\" class=\"dataframe\">\n",
       "  <thead>\n",
       "    <tr style=\"text-align: right;\">\n",
       "      <th></th>\n",
       "      <th>label</th>\n",
       "      <th>message</th>\n",
       "      <th>length</th>\n",
       "    </tr>\n",
       "  </thead>\n",
       "  <tbody>\n",
       "    <tr>\n",
       "      <th>0</th>\n",
       "      <td>ham</td>\n",
       "      <td>Go until jurong point, crazy.. Available only ...</td>\n",
       "      <td>111</td>\n",
       "    </tr>\n",
       "    <tr>\n",
       "      <th>1</th>\n",
       "      <td>ham</td>\n",
       "      <td>Ok lar... Joking wif u oni...</td>\n",
       "      <td>29</td>\n",
       "    </tr>\n",
       "    <tr>\n",
       "      <th>2</th>\n",
       "      <td>spam</td>\n",
       "      <td>Free entry in 2 a wkly comp to win FA Cup fina...</td>\n",
       "      <td>155</td>\n",
       "    </tr>\n",
       "    <tr>\n",
       "      <th>3</th>\n",
       "      <td>ham</td>\n",
       "      <td>U dun say so early hor... U c already then say...</td>\n",
       "      <td>49</td>\n",
       "    </tr>\n",
       "    <tr>\n",
       "      <th>4</th>\n",
       "      <td>ham</td>\n",
       "      <td>Nah I don't think he goes to usf, he lives aro...</td>\n",
       "      <td>61</td>\n",
       "    </tr>\n",
       "  </tbody>\n",
       "</table>\n",
       "</div>"
      ],
      "text/plain": [
       "  label                                            message  length\n",
       "0   ham  Go until jurong point, crazy.. Available only ...     111\n",
       "1   ham                      Ok lar... Joking wif u oni...      29\n",
       "2  spam  Free entry in 2 a wkly comp to win FA Cup fina...     155\n",
       "3   ham  U dun say so early hor... U c already then say...      49\n",
       "4   ham  Nah I don't think he goes to usf, he lives aro...      61"
      ]
     },
     "execution_count": 86,
     "metadata": {},
     "output_type": "execute_result"
    }
   ],
   "source": [
    "df.head()"
   ]
  },
  {
   "cell_type": "markdown",
   "metadata": {},
   "source": [
    "With the above feature we can now more readily ask some more questions about our dataset:"
   ]
  },
  {
   "cell_type": "markdown",
   "metadata": {},
   "source": [
    "How many characters are present in _all_ our msgs?"
   ]
  },
  {
   "cell_type": "code",
   "execution_count": 87,
   "metadata": {
    "collapsed": false
   },
   "outputs": [
    {
     "data": {
      "text/plain": [
       "448490"
      ]
     },
     "execution_count": 87,
     "metadata": {},
     "output_type": "execute_result"
    }
   ],
   "source": [
    "sum(df.length)"
   ]
  },
  {
   "cell_type": "markdown",
   "metadata": {},
   "source": [
    "What's the total number of words in _all_ our messages?"
   ]
  },
  {
   "cell_type": "code",
   "execution_count": 88,
   "metadata": {
    "collapsed": false
   },
   "outputs": [
    {
     "data": {
      "text/plain": [
       "86909"
      ]
     },
     "execution_count": 88,
     "metadata": {},
     "output_type": "execute_result"
    }
   ],
   "source": [
    "sum(df.message.str.split().apply(len))"
   ]
  },
  {
   "cell_type": "markdown",
   "metadata": {},
   "source": [
    "What's the average number of characters in a word?"
   ]
  },
  {
   "cell_type": "code",
   "execution_count": 89,
   "metadata": {
    "collapsed": false
   },
   "outputs": [
    {
     "data": {
      "text/plain": [
       "5.1604551887606576"
      ]
     },
     "execution_count": 89,
     "metadata": {},
     "output_type": "execute_result"
    }
   ],
   "source": [
    "sum(df.length)/sum(df.message.str.split().apply(len))"
   ]
  },
  {
   "cell_type": "markdown",
   "metadata": {},
   "source": [
    "What's the average number of characters in a message?"
   ]
  },
  {
   "cell_type": "code",
   "execution_count": 90,
   "metadata": {
    "collapsed": false
   },
   "outputs": [
    {
     "data": {
      "text/html": [
       "<div>\n",
       "<table border=\"1\" class=\"dataframe\">\n",
       "  <thead>\n",
       "    <tr style=\"text-align: right;\">\n",
       "      <th></th>\n",
       "      <th>length</th>\n",
       "    </tr>\n",
       "  </thead>\n",
       "  <tbody>\n",
       "    <tr>\n",
       "      <th>count</th>\n",
       "      <td>5572.000000</td>\n",
       "    </tr>\n",
       "    <tr>\n",
       "      <th>mean</th>\n",
       "      <td>80.489950</td>\n",
       "    </tr>\n",
       "    <tr>\n",
       "      <th>std</th>\n",
       "      <td>59.942907</td>\n",
       "    </tr>\n",
       "    <tr>\n",
       "      <th>min</th>\n",
       "      <td>2.000000</td>\n",
       "    </tr>\n",
       "    <tr>\n",
       "      <th>25%</th>\n",
       "      <td>36.000000</td>\n",
       "    </tr>\n",
       "    <tr>\n",
       "      <th>50%</th>\n",
       "      <td>62.000000</td>\n",
       "    </tr>\n",
       "    <tr>\n",
       "      <th>75%</th>\n",
       "      <td>122.000000</td>\n",
       "    </tr>\n",
       "    <tr>\n",
       "      <th>max</th>\n",
       "      <td>910.000000</td>\n",
       "    </tr>\n",
       "  </tbody>\n",
       "</table>\n",
       "</div>"
      ],
      "text/plain": [
       "            length\n",
       "count  5572.000000\n",
       "mean     80.489950\n",
       "std      59.942907\n",
       "min       2.000000\n",
       "25%      36.000000\n",
       "50%      62.000000\n",
       "75%     122.000000\n",
       "max     910.000000"
      ]
     },
     "execution_count": 90,
     "metadata": {},
     "output_type": "execute_result"
    }
   ],
   "source": [
    "df.describe()"
   ]
  },
  {
   "cell_type": "markdown",
   "metadata": {},
   "source": [
    "Let's visualise the from our new feature..."
   ]
  },
  {
   "cell_type": "code",
   "execution_count": 91,
   "metadata": {
    "collapsed": false
   },
   "outputs": [
    {
     "data": {
      "text/plain": [
       "<matplotlib.axes._subplots.AxesSubplot at 0x7f0d47dc6908>"
      ]
     },
     "execution_count": 91,
     "metadata": {},
     "output_type": "execute_result"
    },
    {
     "data": {
      "image/png": "[encoded data removed]",
      "text/plain": [
       "<matplotlib.figure.Figure at 0x7f0d47dc69e8>"
      ]
     },
     "metadata": {},
     "output_type": "display_data"
    }
   ],
   "source": [
    "plt.figure(figsize=(12,8))\n",
    "df.length.plot.hist(bins=50)"
   ]
  },
  {
   "cell_type": "markdown",
   "metadata": {},
   "source": [
    "From the above plot, we can see what looks like it might be a bimodal distribution\n",
    "\n",
    "The distribution also looks long-tailed - skewed to low frequncy higher length df.\n",
    "\n",
    "Let's revisit df.describe() to get a handle on these long df."
   ]
  },
  {
   "cell_type": "code",
   "execution_count": 92,
   "metadata": {
    "collapsed": false
   },
   "outputs": [
    {
     "data": {
      "text/plain": [
       "count    5572.000000\n",
       "mean       80.489950\n",
       "std        59.942907\n",
       "min         2.000000\n",
       "25%        36.000000\n",
       "50%        62.000000\n",
       "75%       122.000000\n",
       "max       910.000000\n",
       "Name: length, dtype: float64"
      ]
     },
     "execution_count": 92,
     "metadata": {},
     "output_type": "execute_result"
    }
   ],
   "source": [
    "df.length.describe()"
   ]
  },
  {
   "cell_type": "markdown",
   "metadata": {},
   "source": [
    "** Let's find the long message **"
   ]
  },
  {
   "cell_type": "code",
   "execution_count": 93,
   "metadata": {
    "collapsed": false
   },
   "outputs": [
    {
     "data": {
      "text/html": [
       "<div>\n",
       "<table border=\"1\" class=\"dataframe\">\n",
       "  <thead>\n",
       "    <tr style=\"text-align: right;\">\n",
       "      <th></th>\n",
       "      <th>label</th>\n",
       "      <th>message</th>\n",
       "      <th>length</th>\n",
       "    </tr>\n",
       "  </thead>\n",
       "  <tbody>\n",
       "    <tr>\n",
       "      <th>1085</th>\n",
       "      <td>ham</td>\n",
       "      <td>For me the love should start with attraction.i...</td>\n",
       "      <td>910</td>\n",
       "    </tr>\n",
       "  </tbody>\n",
       "</table>\n",
       "</div>"
      ],
      "text/plain": [
       "     label                                            message  length\n",
       "1085   ham  For me the love should start with attraction.i...     910"
      ]
     },
     "execution_count": 93,
     "metadata": {},
     "output_type": "execute_result"
    }
   ],
   "source": [
    "df[df.length==910]  # simple pandas masking"
   ]
  },
  {
   "cell_type": "markdown",
   "metadata": {},
   "source": [
    "Let's get the full message..."
   ]
  },
  {
   "cell_type": "code",
   "execution_count": 94,
   "metadata": {
    "collapsed": false
   },
   "outputs": [
    {
     "data": {
      "text/plain": [
       "\"For me the love should start with attraction.i should feel that I need her every time around me.she should be the first thing which comes in my thoughts.I would start the day and end it with her.she should be there every time I dream.love will be then when my every breath has her name.my life should happen around her.my life will be named to her.I would cry for her.will give all my happiness and take all her sorrows.I will be ready to fight with anyone for her.I will be in love when I will be doing the craziest things for her.love will be when I don't have to proove anyone that my girl is the most beautiful lady on the whole planet.I will always be singing praises for her.love will be when I start up making chicken curry and end up makiing sambar.life will be the most beautiful then.will get every morning and thank god for the day because she is with me.I would like to say a lot..will tell later..\""
      ]
     },
     "execution_count": 94,
     "metadata": {},
     "output_type": "execute_result"
    }
   ],
   "source": [
    "df[df.length==910].iloc[0]['message']\n",
    "# By explicitly referncing the message col we get full data rather than abridged.\n",
    "# Note that \"df[df.length==910]\" is a df so we .iloc off that"
   ]
  },
  {
   "cell_type": "code",
   "execution_count": 95,
   "metadata": {
    "collapsed": false
   },
   "outputs": [
    {
     "data": {
      "text/plain": [
       "\"For me the love should start with attraction.i should feel that I need her every time around me.she should be the first thing which comes in my thoughts.I would start the day and end it with her.she should be there every time I dream.love will be then when my every breath has her name.my life should happen around her.my life will be named to her.I would cry for her.will give all my happiness and take all her sorrows.I will be ready to fight with anyone for her.I will be in love when I will be doing the craziest things for her.love will be when I don't have to proove anyone that my girl is the most beautiful lady on the whole planet.I will always be singing praises for her.love will be when I start up making chicken curry and end up makiing sambar.life will be the most beautiful then.will get every morning and thank god for the day because she is with me.I would like to say a lot..will tell later..\""
      ]
     },
     "execution_count": 95,
     "metadata": {},
     "output_type": "execute_result"
    }
   ],
   "source": [
    "# Alternatively provide the row number via .idxmax()\n",
    "df.iloc[df.length.idxmax()]['message']"
   ]
  },
  {
   "cell_type": "markdown",
   "metadata": {},
   "source": [
    "Message length might be a helpful factor in distinguishing between ham and spam.\n",
    "Let's compare distributions for our two labels..."
   ]
  },
  {
   "cell_type": "code",
   "execution_count": 196,
   "metadata": {
    "collapsed": false
   },
   "outputs": [
    {
     "data": {
      "text/plain": [
       "<matplotlib.text.Text at 0x7f0d4026f5f8>"
      ]
     },
     "execution_count": 196,
     "metadata": {},
     "output_type": "execute_result"
    },
    {
     "data": {
      "image/png": "[encoded data removed]",
      "text/plain": [
       "<matplotlib.figure.Figure at 0x7f0d4030d828>"
      ]
     },
     "metadata": {},
     "output_type": "display_data"
    }
   ],
   "source": [
    "df.hist(column='length', by = 'label', bins = 60, figsize=(12,4))\n",
    "plt.xlabel('length') \n",
    "# xlabel needs tweaking for pandas.hist when using by="
   ]
  },
  {
   "cell_type": "markdown",
   "metadata": {},
   "source": [
    "Whilst the scales are different, it does look like the mean message length values for \n",
    "spam are greater than ham.\n",
    "\n"
   ]
  },
  {
   "cell_type": "code",
   "execution_count": 97,
   "metadata": {
    "collapsed": false
   },
   "outputs": [
    {
     "data": {
      "text/plain": [
       "<seaborn.axisgrid.FacetGrid at 0x7f0d430f2dd8>"
      ]
     },
     "execution_count": 97,
     "metadata": {},
     "output_type": "execute_result"
    },
    {
     "data": {
      "image/png": "[encoded data removed]",
      "text/plain": [
       "<matplotlib.figure.Figure at 0x7f0d430f2320>"
      ]
     },
     "metadata": {},
     "output_type": "display_data"
    }
   ],
   "source": [
    "# Or alternatively creating same plot with seaborn using FacetGrid\n",
    "# ..x axis scales correspond and x labelling works\n",
    "g = sns.FacetGrid(df, col='label', size=5, sharey=False)\n",
    "g.map(plt.hist, 'length' , bins=60)\n",
    "#plt.tight_layout"
   ]
  },
  {
   "cell_type": "markdown",
   "metadata": {},
   "source": [
    "## 5) Data preparation"
   ]
  },
  {
   "cell_type": "markdown",
   "metadata": {},
   "source": [
    "#### Outline of approach:"
   ]
  },
  {
   "cell_type": "markdown",
   "metadata": {},
   "source": [
    "#### i) Text preprocessing"
   ]
  },
  {
   "cell_type": "markdown",
   "metadata": {},
   "source": [
    "Ultimately we need to convert strings to numerical features.  As a precursor to that we need to do some finessing of text items. This work considers for example, punctuation, case, and translating a message represented by a single string into a list of words. It's convenient to aggregate the work we do here in to a single function (this can then be called in the next step, by the method that converts the corpus to bag-of-words) "
   ]
  },
  {
   "cell_type": "markdown",
   "metadata": {},
   "source": [
    "#### ii) Entire corpus (all of the words in all the dataset messages) becomes a _bag-of-words_.  \n",
    "Each unique word in the corpus is given a unique number. <br>\n",
    "\n",
    "*bag\\_of\\_words\\_dict* = {'green': 5, 'fastest': 302, 'and': 17, 'airplane': 0 }  <br>\n",
    "*(NB Not in numerical order because dict)*"
   ]
  },
  {
   "cell_type": "markdown",
   "metadata": {},
   "source": [
    "####  iii) Tokenise the messages (translate each message into a list which provide ID and freq count of each word present within that message)"
   ]
  },
  {
   "cell_type": "markdown",
   "metadata": {},
   "source": [
    "\n",
    "Each message becomes a vector whereby each vector element corresponds to a feature (word_ID). We refer to the words represented in this way as *tokens*.\n",
    "<br> \n",
    "<br> \n",
    "Example:  Message 13 becomes the vector [0, 0, 1, 0, 5, 0, 0, 0, 0, 0, 0,...,0]:\n",
    "\n",
    "    0 in col 0 indicates bag_of_words word 0 is absent\n",
    "    0 in col 1 indicates bag_of_words word 0 is absent\n",
    "    1 in col 2 indicates bag_of_words word 2 is present once in message 13\n",
    "    0 in col 3 indicates bag_of_words word 3 is absent        \n",
    "    5 in col 4 indicates bag_of_words word 4 is present 5 times in message 13  \n",
    "    \n",
    "When a message becomes translated into a vector, word order is not preserved.  The vector only tells us about the words present and a count of how many times it is present."
   ]
  },
  {
   "cell_type": "markdown",
   "metadata": {},
   "source": [
    "#### iv) Term normalisation and weighting"
   ]
  },
  {
   "cell_type": "markdown",
   "metadata": {},
   "source": [
    "Essentially this addresses the effect whereby more common words tend to carry less information that is able to help the algorithm classify.  So we need to de-weight words that occur frequently in our corpus.\n",
    "\n",
    "Thinkabout it like this.  We find the word 'and' in our message several times.  If we scored words in a message based on the frequency of those words in the corpus, then the algorithm would simply identify messages with very common words in them.   We don't want the algorithm looking this up in the corpus and scoring a message containing  3 'and's highly on the basis of its frequency in the message.  "
   ]
  },
  {
   "cell_type": "markdown",
   "metadata": {},
   "source": [
    "We now work through the 4 steps outlined above..."
   ]
  },
  {
   "cell_type": "markdown",
   "metadata": {},
   "source": [
    "### i) Text preprocessing"
   ]
  },
  {
   "cell_type": "markdown",
   "metadata": {},
   "source": [
    "#### The following illustrates how we'll remove punctuation..."
   ]
  },
  {
   "cell_type": "code",
   "execution_count": 98,
   "metadata": {
    "collapsed": true
   },
   "outputs": [],
   "source": [
    "import string #pandas library"
   ]
  },
  {
   "cell_type": "code",
   "execution_count": 99,
   "metadata": {
    "collapsed": true
   },
   "outputs": [],
   "source": [
    "# Remove puctuation\n",
    "mess = \"Look at this! - It's got punctuation.\""
   ]
  },
  {
   "cell_type": "code",
   "execution_count": 100,
   "metadata": {
    "collapsed": false
   },
   "outputs": [
    {
     "data": {
      "text/plain": [
       "'!\"#$%&\\'()*+,-./:;<=>?@[\\\\]^_`{|}~'"
      ]
     },
     "execution_count": 100,
     "metadata": {},
     "output_type": "execute_result"
    }
   ],
   "source": [
    "string.punctuation # gives list of punctuation symbols"
   ]
  },
  {
   "cell_type": "code",
   "execution_count": 101,
   "metadata": {
    "collapsed": false
   },
   "outputs": [
    {
     "data": {
      "text/plain": [
       "['L',\n",
       " 'o',\n",
       " 'o',\n",
       " 'k',\n",
       " ' ',\n",
       " 'a',\n",
       " 't',\n",
       " ' ',\n",
       " 't',\n",
       " 'h',\n",
       " 'i',\n",
       " 's',\n",
       " ' ',\n",
       " ' ',\n",
       " 'I',\n",
       " 't',\n",
       " 's',\n",
       " ' ',\n",
       " 'g',\n",
       " 'o',\n",
       " 't',\n",
       " ' ',\n",
       " 'p',\n",
       " 'u',\n",
       " 'n',\n",
       " 'c',\n",
       " 't',\n",
       " 'u',\n",
       " 'a',\n",
       " 't',\n",
       " 'i',\n",
       " 'o',\n",
       " 'n']"
      ]
     },
     "execution_count": 101,
     "metadata": {},
     "output_type": "execute_result"
    }
   ],
   "source": [
    "nopunc = [c for c in mess if c not in string.punctuation]\n",
    "nopunc"
   ]
  },
  {
   "cell_type": "code",
   "execution_count": 102,
   "metadata": {
    "collapsed": false
   },
   "outputs": [
    {
     "data": {
      "text/plain": [
       "'Look at this  Its got punctuation'"
      ]
     },
     "execution_count": 102,
     "metadata": {},
     "output_type": "execute_result"
    }
   ],
   "source": [
    "nopunc=''.join(nopunc)\n",
    "nopunc"
   ]
  },
  {
   "cell_type": "markdown",
   "metadata": {},
   "source": [
    "#### This is how we split our string into words..."
   ]
  },
  {
   "cell_type": "code",
   "execution_count": 103,
   "metadata": {
    "collapsed": true
   },
   "outputs": [],
   "source": [
    "from nltk.corpus import stopwords"
   ]
  },
  {
   "cell_type": "code",
   "execution_count": 104,
   "metadata": {
    "collapsed": false
   },
   "outputs": [
    {
     "data": {
      "text/plain": [
       "['i',\n",
       " 'me',\n",
       " 'my',\n",
       " 'myself',\n",
       " 'we',\n",
       " 'our',\n",
       " 'ours',\n",
       " 'ourselves',\n",
       " 'you',\n",
       " 'your',\n",
       " 'yours',\n",
       " 'yourself',\n",
       " 'yourselves',\n",
       " 'he',\n",
       " 'him',\n",
       " 'his',\n",
       " 'himself',\n",
       " 'she',\n",
       " 'her',\n",
       " 'hers',\n",
       " 'herself',\n",
       " 'it',\n",
       " 'its',\n",
       " 'itself',\n",
       " 'they',\n",
       " 'them',\n",
       " 'their',\n",
       " 'theirs',\n",
       " 'themselves',\n",
       " 'what',\n",
       " 'which',\n",
       " 'who',\n",
       " 'whom',\n",
       " 'this',\n",
       " 'that',\n",
       " 'these',\n",
       " 'those',\n",
       " 'am',\n",
       " 'is',\n",
       " 'are',\n",
       " 'was',\n",
       " 'were',\n",
       " 'be',\n",
       " 'been',\n",
       " 'being',\n",
       " 'have',\n",
       " 'has',\n",
       " 'had',\n",
       " 'having',\n",
       " 'do',\n",
       " 'does',\n",
       " 'did',\n",
       " 'doing',\n",
       " 'a',\n",
       " 'an',\n",
       " 'the',\n",
       " 'and',\n",
       " 'but',\n",
       " 'if',\n",
       " 'or',\n",
       " 'because',\n",
       " 'as',\n",
       " 'until',\n",
       " 'while',\n",
       " 'of',\n",
       " 'at',\n",
       " 'by',\n",
       " 'for',\n",
       " 'with',\n",
       " 'about',\n",
       " 'against',\n",
       " 'between',\n",
       " 'into',\n",
       " 'through',\n",
       " 'during',\n",
       " 'before',\n",
       " 'after',\n",
       " 'above',\n",
       " 'below',\n",
       " 'to',\n",
       " 'from',\n",
       " 'up',\n",
       " 'down',\n",
       " 'in',\n",
       " 'out',\n",
       " 'on',\n",
       " 'off',\n",
       " 'over',\n",
       " 'under',\n",
       " 'again',\n",
       " 'further',\n",
       " 'then',\n",
       " 'once',\n",
       " 'here',\n",
       " 'there',\n",
       " 'when',\n",
       " 'where',\n",
       " 'why',\n",
       " 'how',\n",
       " 'all',\n",
       " 'any',\n",
       " 'both',\n",
       " 'each',\n",
       " 'few',\n",
       " 'more',\n",
       " 'most',\n",
       " 'other',\n",
       " 'some',\n",
       " 'such',\n",
       " 'no',\n",
       " 'nor',\n",
       " 'not',\n",
       " 'only',\n",
       " 'own',\n",
       " 'same',\n",
       " 'so',\n",
       " 'than',\n",
       " 'too',\n",
       " 'very',\n",
       " 's',\n",
       " 't',\n",
       " 'can',\n",
       " 'will',\n",
       " 'just',\n",
       " 'don',\n",
       " 'should',\n",
       " 'now',\n",
       " 'd',\n",
       " 'll',\n",
       " 'm',\n",
       " 'o',\n",
       " 're',\n",
       " 've',\n",
       " 'y',\n",
       " 'ain',\n",
       " 'aren',\n",
       " 'couldn',\n",
       " 'didn',\n",
       " 'doesn',\n",
       " 'hadn',\n",
       " 'hasn',\n",
       " 'haven',\n",
       " 'isn',\n",
       " 'ma',\n",
       " 'mightn',\n",
       " 'mustn',\n",
       " 'needn',\n",
       " 'shan',\n",
       " 'shouldn',\n",
       " 'wasn',\n",
       " 'weren',\n",
       " 'won',\n",
       " 'wouldn']"
      ]
     },
     "execution_count": 104,
     "metadata": {},
     "output_type": "execute_result"
    }
   ],
   "source": [
    "stopwords.words('english') # Note to get the list of stopwords we need to do 2 things:\n",
    "# i) we need to call the words method on stopwords\n",
    "# ii) we need to pass in the argument specifying we want 'english' stopwords"
   ]
  },
  {
   "cell_type": "code",
   "execution_count": 105,
   "metadata": {
    "collapsed": false
   },
   "outputs": [
    {
     "data": {
      "text/plain": [
       "'Look at this  Its got punctuation'"
      ]
     },
     "execution_count": 105,
     "metadata": {},
     "output_type": "execute_result"
    }
   ],
   "source": [
    "nopunc"
   ]
  },
  {
   "cell_type": "code",
   "execution_count": 106,
   "metadata": {
    "collapsed": false
   },
   "outputs": [
    {
     "data": {
      "text/plain": [
       "['Look', 'at', 'this', 'Its', 'got', 'punctuation']"
      ]
     },
     "execution_count": 106,
     "metadata": {},
     "output_type": "execute_result"
    }
   ],
   "source": [
    "nopunc.split() # .split() separates on space unless sep is set otherwise\n",
    "# Note: Does not change object.  Returns list of the split components "
   ]
  },
  {
   "cell_type": "code",
   "execution_count": 107,
   "metadata": {
    "collapsed": false
   },
   "outputs": [
    {
     "data": {
      "text/plain": [
       "'Look at this  Its got punctuation'"
      ]
     },
     "execution_count": 107,
     "metadata": {},
     "output_type": "execute_result"
    }
   ],
   "source": [
    "nopunc # Note nopunc is not split!"
   ]
  },
  {
   "cell_type": "markdown",
   "metadata": {},
   "source": [
    "#### This is how we will remove common words (stopwords)"
   ]
  },
  {
   "cell_type": "code",
   "execution_count": 108,
   "metadata": {
    "collapsed": false
   },
   "outputs": [],
   "source": [
    "clean_message = [word for word in nopunc.split() \n",
    "              if word.lower() not in stopwords.words('english')]"
   ]
  },
  {
   "cell_type": "code",
   "execution_count": 109,
   "metadata": {
    "collapsed": false
   },
   "outputs": [
    {
     "data": {
      "text/plain": [
       "['Look', 'got', 'punctuation']"
      ]
     },
     "execution_count": 109,
     "metadata": {},
     "output_type": "execute_result"
    }
   ],
   "source": [
    "clean_message"
   ]
  },
  {
   "cell_type": "markdown",
   "metadata": {
    "collapsed": true
   },
   "source": [
    "#### We now wrap the above into a function..."
   ]
  },
  {
   "cell_type": "code",
   "execution_count": 110,
   "metadata": {
    "collapsed": true
   },
   "outputs": [],
   "source": [
    "def process_text(message):\n",
    "    \"\"\"\n",
    "    1. convert string to single chars\n",
    "    2. remove punctuation marks\n",
    "    3. rejoin chars with ''.join(list of chars) to create unpunctuated string\n",
    "    2. split unpunctuated string into list of words (split on sep default=space)\n",
    "    2. remove stopwords\n",
    "    3. return list of remaining words\n",
    "       \n",
    "    A few instructive notes:\n",
    "    - We assume import string has been executed\n",
    "    \n",
    "    - The list comprehension will act on each element of whatever sequence provided.  \n",
    "    Thus if we supply a sequence that is a string, the list comp will iterate over individual chars\n",
    "    We therefore need to supply a list of words - hence the use of .split().\n",
    "    .split() converts a string to a list of strings (splitting on whatever sep delimiter is set to)   \n",
    "    \n",
    "    -''.join() uses whatever is in the quotes to join.  (So '>'.join(['a', 'b', 'c']) returns 'a>b>c') \n",
    "    \n",
    "    \"\"\"\n",
    "   \n",
    "    list_of_chars_no_punctuation = [char for char in message if char not in string.punctuation] \n",
    "    # breaks into single chars\n",
    "    \n",
    "    message_no_punc = ''.join(list_of_chars_no_punctuation) # rejoins so we get a single string\n",
    "    #print(mess_no_p)\n",
    "    \n",
    "    return [word for word in message_no_punc.split() if word.lower() not in stopwords.words('english')]"
   ]
  },
  {
   "cell_type": "markdown",
   "metadata": {},
   "source": [
    "Let's do a quick test of our function..."
   ]
  },
  {
   "cell_type": "code",
   "execution_count": 111,
   "metadata": {
    "collapsed": false
   },
   "outputs": [
    {
     "data": {
      "text/plain": [
       "['Dave', 'big', 'black', 'dog', 'sight', 'sore', 'eyes']"
      ]
     },
     "execution_count": 111,
     "metadata": {},
     "output_type": "execute_result"
    }
   ],
   "source": [
    "test_msg = 'Dave the big (black) dog: a sight for sore eyes!!'\n",
    "process_text(test_msg)"
   ]
  },
  {
   "cell_type": "markdown",
   "metadata": {},
   "source": [
    "We can also broadcast the function across multiple messages in our dataset using _.apply()_..."
   ]
  },
  {
   "cell_type": "code",
   "execution_count": 112,
   "metadata": {
    "collapsed": false
   },
   "outputs": [
    {
     "data": {
      "text/plain": [
       "0    [Go, jurong, point, crazy, Available, bugis, n...\n",
       "1                       [Ok, lar, Joking, wif, u, oni]\n",
       "2    [Free, entry, 2, wkly, comp, win, FA, Cup, fin...\n",
       "3        [U, dun, say, early, hor, U, c, already, say]\n",
       "4    [Nah, dont, think, goes, usf, lives, around, t...\n",
       "Name: message, dtype: object"
      ]
     },
     "execution_count": 112,
     "metadata": {},
     "output_type": "execute_result"
    }
   ],
   "source": [
    "df.message.head().apply(process_text) "
   ]
  },
  {
   "cell_type": "markdown",
   "metadata": {},
   "source": [
    "### ii) Convert entire corpus to bag-of-words"
   ]
  },
  {
   "cell_type": "markdown",
   "metadata": {},
   "source": [
    "First we import the vectoriser class.  This will be used to create a vectoriser object which will convert the corpus of messages to bag-of-words..."
   ]
  },
  {
   "cell_type": "code",
   "execution_count": 113,
   "metadata": {
    "collapsed": true
   },
   "outputs": [],
   "source": [
    "from sklearn.feature_extraction.text import CountVectorizer"
   ]
  },
  {
   "cell_type": "markdown",
   "metadata": {},
   "source": [
    "Next we instantiate an object based on the CountVectorizer class and we supply our *process\\_text()* function as an _analyzer_ with which the vectoriser can process the raw text strings..."
   ]
  },
  {
   "cell_type": "code",
   "execution_count": 114,
   "metadata": {
    "collapsed": false
   },
   "outputs": [],
   "source": [
    "bow_transformer = CountVectorizer(analyzer=process_text)"
   ]
  },
  {
   "cell_type": "markdown",
   "metadata": {},
   "source": [
    "And then we fit the created vectoriser object to our corpus..."
   ]
  },
  {
   "cell_type": "code",
   "execution_count": 115,
   "metadata": {
    "collapsed": false,
    "scrolled": false
   },
   "outputs": [
    {
     "data": {
      "text/plain": [
       "CountVectorizer(analyzer=<function process_text at 0x7f0d42fd80d0>,\n",
       "        binary=False, decode_error='strict', dtype=<class 'numpy.int64'>,\n",
       "        encoding='utf-8', input='content', lowercase=True, max_df=1.0,\n",
       "        max_features=None, min_df=1, ngram_range=(1, 1), preprocessor=None,\n",
       "        stop_words=None, strip_accents=None,\n",
       "        token_pattern='(?u)\\\\b\\\\w\\\\w+\\\\b', tokenizer=None, vocabulary=None)"
      ]
     },
     "execution_count": 115,
     "metadata": {},
     "output_type": "execute_result"
    }
   ],
   "source": [
    "bow_transformer.fit(df.message)"
   ]
  },
  {
   "cell_type": "markdown",
   "metadata": {},
   "source": [
    "Let's see what our generated dictionary for the entire corpus looks like using the object's *.vocabulary\\_* attribute? "
   ]
  },
  {
   "cell_type": "code",
   "execution_count": 123,
   "metadata": {
    "collapsed": false
   },
   "outputs": [
    {
     "name": "stdout",
     "output_type": "stream",
     "text": [
      "{'owed': 8678, 'DearMe': 1636, 'siguviri': 9776, '10K': 306, 'paypal': 8777, 'Balls': 1220, 'death': 5911, '07732584351': 29, 'politicians': 8923, 'tallent': 10308, 'saved': 9550, 'shrink': 9753, '40': 606, 'driver': 6169, 'Fails': 1892, 'WALES': 4196, 'SK3': 3496, 'corrupt': 5725, 'jog': 7520, 'fassyole': 6488, 'Valid': 4161, 'kz': 7664, 'Content': 1517, 'wwwcomuknet': 11230, 'fren': 6706, 'internal': 7397, 'aa': 4460, '42810': 622, 'dearslp': 5908, 'youdoing': 11320, 'cum': 5805, 'friends': 6719, 'GOSSIP': 2010, 'Dates': 1627, 'taxi': 10324, 'lazy': 7731, 'GANG': 1970, 'blog': 5080, '4WARD': 658, '24': 449, 'bedbut': 4974, 'ayo': 4879, 'dead': 5893, 'upgrade': 10764, 'GENT': 1979, 'brothas': 5192, 'cave': 5382, 'shoreThe': 9729, 'ibuprofens': 7280, 'mentionned': 8121, '86888': 866, 'age16': 4569, 'herwho': 7107, 'Credit': 1539, 'Wahleykkumsharing': 4255, 'responding': 9381, 'feng': 6528, 'mb': 8068, 'Box1146': 1293, 'Teacher': 3933, 'wan': 10942, 'Dat': 1625, 'Arms': 1088, 'trade': 10602, 'sfirst': 9677, 'winning': 11095, 'PO': 3136, 'leading': 7734, 'ache': 4501, 'ALERT': 958, 'Youve': 4444, 'ip': 7418, 'Thgt': 3976, 'dayexcept': 5883, 'scrappy': 9581, 'anna': 4676, 'gained': 6775, 'Glad': 2057, 'yahoo': 11281, 'sent': 9649, 'uncountable': 10723, '5Sankatmochan': 707, 'warned': 10953, 'Indians': 2367, 'entropication': 6330, 'GBP150week': 1974, 'HARDCORE': 2113, '7Children': 791, 'charts': 5431, 'ettans': 6362, 'Stream': 3789, 'applyed': 4733, 'jobs': 7517, 'afternon': 4562, 'track': 10601, 'especially': 6352, 'giv': 6849, 'Box334': 1296, 'PC': 3115, 'withdraw': 11110, 'ENJOYIN': 1730, 'safety': 9510, 'food': 6645, 'Crucify': 1542, 'URN': 4093, 'hollalater': 7156, 'Aft': 1019, 'cheetos': 5454, 'turkeys': 10671, 'wwwldewcom1win150ppmx3age16': 11237, 'renewing': 9333, 'Esplanade': 1794, 'XCLUSIVECLUBSAISAI': 4365, 'atlast': 4822, 'brats': 5156, '4mths': 669, 'Jackpot': 2421, 'gauge': 6797, 'mom': 8232, 'matric': 8054, 'KR': 2482, 'LOOK': 2577, 'Whenevr': 4307, 'MINI': 2723, 'stuffing': 10156, 'Isnt': 2386, 'pray': 8999, 'fried': 6716, 'r': 9171, 'POLYS': 3154, 'frying': 6741, 'imposed': 7321, 'nuerologist': 8506, 'working': 11160, 'heads': 7060, 'Services': 3635, 'praises': 8994, 'HMM': 2141, 'lambu': 7685, 'install': 7382, '£75000': 11409, 'bck': 4953, 'hex': 7113, 'Test': 3952, 'BANK': 1136, 'polypH': 8927, 'Yeshe': 4429, 'unlimited': 10750, 'jb': 7497, 'COOL': 1395, 'suzy': 10251, 'adress': 4538, 'tick': 10476, 'teenager': 10347, 'Would': 4351, 'approaches': 4739, 'artists': 4787, 'Bstfrnd': 1320, 'cool': 5709, 'eatin': 6236, 'lap': 7698, 'onedge': 8587, 'Tb': 3930, 'neglect': 8396, '18yrs': 394, 'motor': 8265, 'NICE': 2920, 'blocked': 5079, 'bags': 4901, 'prebook': 9004, 'Expression': 1828, 'DRAW': 1606, 'wlcome': 11126, 'thrown': 10464, '3030': 550, '1000': 295, 'Shoul': 3671, 'SN': 3508, 'cops': 5715, '5K': 706, '1s': 416, 'prompts': 9097, 'taste': 10317, 'finance': 6560, 'offered': 8547, 'downs': 6143, 'Everyone': 1809, 'Badrith': 1217, 'publish': 9120, 'happening': 7029, 'Chance': 1458, '87077': 870, '82277': 827, 'onto': 8597, 'gate': 6796, 'pilates': 8856, 'Bit': 1261, 'HOME': 2145, 'Lk': 2640, 'Wats': 4281, '5Gardener': 703, 'posting': 8967, 'leaving': 7744, 'drinking': 6165, 'Truthful': 4040, 'BETTERSN': 1158, 'wad': 10914, 'PopcornJust': 3260, 'Mah': 2777, 'bowa': 5136, 'lyk': 7961, 'GBP': 1973, 'pura': 9132, 'Hidid': 2227, 'iff': 7298, '69696': 747, 'rearrange': 9237, 'brum': 5203, 'mornin': 8255, 'Gnarls': 2059, 'wuldnt': 11207, 'occasion': 8533, 'HELP': 2130, 'teethis': 10350, 'deck': 5921, 'jelly': 7503, '415': 615, 'pleasant': 8893, 'Beerage': 1243, 'bit': 5053, 'Yet': 4436, 'posts': 8969, 'modl': 8225, 'alrightOkay': 4632, 'pattern': 8765, 'could': 5738, 'coveragd': 5754, 'Ku': 2534, 'subletting': 10168, 'tensed': 10367, 'taylors': 10328, 'amore': 4653, 'CC': 1357, 'Lions': 2635, 'cappuccino': 5327, 'refreshed': 9288, '10am9pm': 309, 'tea': 10332, 'Jersey': 2441, 'fringe': 6724, '100': 294, '4the': 675, 'MAKE': 2695, 'realise': 9227, 'CD': 1358, 'FREEFONE': 1867, 'unnecessarily': 10752, 'satsgettin': 9545, 'opinions': 8609, '£250k': 11386, 'science': 9573, 'ISVIMPORTANT': 2332, '4Cook': 648, 'Tuesday': 4053, '£250': 11385, '4a': 659, 'activate': 4513, 'thoughts': 10452, 'dehydrated': 5939, 'teacher': 10334, 'SCARY': 3459, 'speaking': 9972, 'nosh': 8474, 'rahul': 9178, 'stupid': 10161, 'smells': 9863, '08706091795': 90, 'entire': 6326, 'smell': 9862, 'NO910': 2931, 'please': 8894, 'HM': 2140, 'vs': 10907, 'vegetables': 10839, 'takenOnly': 10297, 'dat': 5869, 'console': 5680, 'versus': 10849, 'Problms': 3286, 'deartake': 5909, 'ashleys': 4796, 'thnk': 10445, 'vitamin': 10887, 'dept': 5969, 'RowW1JHL': 3437, 'rather': 9202, '89105': 892, 'go': 6864, 'got': 6906, 'informed': 7358, 'bone': 5105, 'fiendmake': 6537, 'lips': 7826, 'ecstasy': 6241, 'recovery': 9272, 'doublefaggot': 6135, 'carso': 5359, 'holla': 7155, 'dime': 6037, 'stuff42moro': 10154, '78': 787, 'toClaim': 10519, 'studying': 10151, 'National': 2954, 'NO165': 2927, 'stayin': 10070, 'half8th': 7005, 'Lessons': 2621, 'coach': 5565, 'starti': 10056, 'Presleys': 3277, 'beneficiary': 5011, 'stoners': 10103, 'resend': 9364, 'blessings': 5076, 'blanked': 5066, 'someone': 9909, 'Sony': 3732, 'httpwwwbubbletextcom': 7225, '28th': 473, 'waliking': 10927, 'recdthirtyeight': 9248, 'mack': 7973, '08708034412': 96, 'open': 8600, 'Map': 2790, 'Cust': 1552, 'firmware': 6582, 'o2coukgames': 8524, '09066358152': 255, '08712317606': 107, 'Football': 1929, 'denying': 5961, 'treat': 10629, 'herepls': 7100, 'anniversary': 4678, 'frog': 6734, 'bari': 4923, 'REVISION': 3347, 'caveboy': 5383, 'godnot': 6874, 'FRANYxxxxx': 1864, 'remain': 9316, 'LAPTOP': 2546, '150p': 356, 'person2die': 8813, 'youwanna': 11335, 'SavaMob': 3601, 'Bill': 1255, 'cashbalance': 5364, 'Tones': 4020, 'BCM4284': 1147, 'world': 11163, 'ave': 4861, '85023': 855, 'LISTENING': 2566, 'Sar': 3594, 'scratches': 9582, 'CRAZYIN': 1400, 'aathiwhere': 4462, 'G2': 1966, '£79': 11410, 'Txts': 4066, 'boytoy': 5147, 'stoptxtStop': 10110, 'Done': 1693, 'earlierwe': 6220, 'AFTERNOON': 946, 'L': 2537, 'idc': 7288, 'florida': 6619, 'swalpa': 10253, 'dice': 6009, 'subscrition': 10178, 'Spain': 3744, 'bellearlier': 5000, 'Mmm': 2843, 'txting': 10689, 'us': 10787, 'hungry': 7249, 'velachery': 10842, 'gon': 6886, 'suppliers': 10226, 'films': 6554, 'sirs': 9798, 'leaves': 7743, 'CHARITY': 1366, 'pop': 8941, 'DOWNON': 1603, 'BOOKS': 1174, 'entitled': 6328, 'makin': 8003, 'ACTION': 938, 'silently': 9779, 'GOWER': 2015, 'argentina': 4761, 'bleh': 5071, 'data': 5870, 'CDs': 1360, 'recount': 9271, 'wifi': 11076, 'unable': 10713, 'KING': 2475, 'current': 5813, 'Bye': 1336, '83383': 842, 'Box326': 1295, 'movie': 8273, 'prsn': 9114, '0871277810810': 122, 'castor': 5371, 'Velly': 4167, 'Search': 3615, 'play': 8884, 'Clos1': 1488, 'LOVEME': 2587, 'I\\x92LLSPEAK': 2397, 'surprised': 10244, 'investigate': 7408, 'sdryb8i': 9593, 'orchard': 8628, '946': 917, 'HOT': 2153, 'HouseMaid': 2276, 'disclose': 6064, 'Hoody': 2265, 'bollox': 5103, 'ip4': 7419, 'stripes': 10135, '£5000': 11399, 'dentist': 5959, 'hershe': 7106, 'tiring': 10502, 'holding': 7151, 'YOUCLEAN': 4401, 'Happy': 2186, 'wereare': 11032, 'Wewa': 4301, 'Fools': 1928, 'ms': 8282, 'Ffffffffff': 1905, 'losers': 7892, '7Romantic': 793, 'tests': 10376, 'head': 7056, 'gymnastics': 6989, 'fatty': 6498, 'jaklin': 7480, 'confirmdeny': 5663, 'sick': 9764, 'authorise': 4850, 'Prabu': 3266, 'ONLYFOUND': 3043, 'clash': 5526, 'fathima': 6496, 'date': 5871, 'hit': 7135, 'nobbing': 8449, 'captaining': 5330, 'msn': 8293, '09064017305': 241, 'w': 10910, 'Omg': 3074, 'hands': 7015, 'armand': 4771, 'Life': 2626, 'callurgent': 5299, 'Teach': 3932, 'aproach': 4748, '0789xxxxxxx': 44, 'TONIGHT': 3897, 'Sry': 3765, '£1500': 11372, 'poor': 8938, 'Terry': 3950, 'M95': 2690, 'Others': 3099, 'Bcoz': 1231, 'SPIDER': 3530, 'shouted': 9740, 'wat': 10965, 'Yen': 4423, 'forgot': 6666, 'kickboxing': 7607, 'BROTHER': 1196, 'pin': 8861, 'kalstiyathen': 7571, 'lines': 7814, 'Otherwise': 3100, 'lunchyou': 7949, 'ccna': 5386, 'Sara': 3595, 'diddy': 6013, 'pouts': 8978, 'Camera': 1430, 'cocksuckers': 5572, 'eyes': 6441, 'xx': 11270, 'minstexts': 8178, 'Play': 3232, 'noe': 8452, 'didn‘t': 6017, 'mayb': 8066, 'lor': 7888, 'unintentional': 10741, 'making': 8004, 'flies': 6607, 'motorola': 8266, 'SEX': 3475, 'cometil': 5606, 'Jon': 2453, 'choosing': 5502, 'poop': 8937, 'Jos': 2458, 'sat': 9539, 'accordin': 4493, 'PICSFREE1': 3127, '69101': 744, 'Teresa': 3947, 'lush': 7951, 'Greeni': 2089, 'MATCH': 2703, 'fb': 6508, 'FEELINGOOD': 1840, 'finally': 6559, 'Single': 3688, 'missing': 8195, '85555': 860, 'young': 11327, 'INC': 2313, 'bud': 5212, 'teluguthts': 10360, 'Block': 1270, 'Bin': 1256, 'Nickey': 2978, 'Phoenix': 3216, 'alsoor': 4636, 'Work': 4345, 'Ques': 3313, 'Adult': 1015, 'Pa': 3178, 'temp': 10362, 'beside': 5013, 'VIVEKANAND': 4156, 'Costs': 1526, 'kbut': 7585, 'thin': 10429, 'listed': 7829, '3SS': 585, 'dressed': 6161, 'Kay': 2492, 'Unfortunately': 4116, 'dt': 6191, '12': 326, 'easter': 6232, 'Box61M60': 1299, 'Bam': 1221, 'add': 4519, 'POLY': 3150, '09061743386': 223, 'sleepy': 9834, 'celeb4': 5391, 'Apply': 1078, 'muz': 8329, '2WATERSHD': 503, 'soiree': 9901, 'joinedso': 7527, '09094646899': 280, 'waheeda': 10919, 'Surely': 3823, 'forum': 6678, 'gving': 6987, 'confirmed': 5664, 'seem': 9618, 'advising': 4548, 'spirit': 9995, 'prediction': 9007, 'willpower': 11083, 'of£2000': 8562, 'PICK': 3125, 'good': 6892, 'farm': 6486, 'ridden': 9420, 'chickened': 5471, 'excited': 6402, 'Meds': 2810, 'ringing': 9428, 'Kick': 2505, 'priest': 9042, 'tiwary': 10508, 'Height': 2206, 'warm': 10951, 'standard': 10044, 'prove': 9109, 'probs': 9071, 'Europe': 1800, 'Sleeping': 3705, 'Piggy': 3223, 'brains': 5152, 'informedRgdsRakheshKerala': 7359, 'base': 4929, 'Lucy': 2678, 'olage': 8577, 'bf': 5024, 'land': 7687, 'avent': 4862, 'cheyyamoand': 5464, 'nig': 8426, 'CAME': 1345, 'tonsolitusaswell': 10563, 'hopeafternoon': 7179, 'yay': 11286, 'Dunno': 1715, 'Us': 4137, 'Old': 3072, 'Rock': 3428, 'cuddled': 5801, 'TCLLC': 3848, 'RECD': 3336, 'mt': 8294, 'reaction': 9219, 'flyim': 6628, 'Baaaaaaaabe': 1209, 'RowW1j6HL': 3438, 'CallFREEFONE': 1419, 'Avenge': 1112, 'scrounge': 9589, 'cooking': 5708, 'operator': 8607, 'maps': 8024, 'Smile': 3713, '£150wk': 11380, 'mag': 7983, 'readyall': 9225, 'US': 4095, 'rechargeRakhesh': 9261, 'umma': 10711, 'I‘ve': 2402, 'ba': 4884, 'Twiggs': 4058, 'seems': 9620, 'diapers': 6008, 'overemphasiseor': 8670, 'bfore': 5026, 'efreefone': 6257, 'knackered': 7634, 'Wed': 4286, 'Depends': 1651, 'victors': 10857, 'soon': 9931, 'bday': 4958, 'goalsteam': 6870, 'african': 4560, 'Okey': 3066, 'MojiBiola': 2860, 'forgive': 6663, 'underdtand': 10725, 'dedicated': 5925, '06': 18, 'MUCH': 2761, 'transfered': 10615, 'evry1': 6392, 'startedindia': 10055, 'cage': 5265, 'NIC': 2919, 'cantdo': 5321, 'copies': 5713, 'SERVs': 3474, 'friendship': 6721, 'jason': 7490, 'Mostly': 2876, 'That\\x92s': 3964, 'hum': 7241, 'minstand': 8177, 'Babe': 1211, 'punch': 9127, 'managed': 8012, 'attached': 4826, 'delivery': 5950, 'song': 9927, 'blown': 5092, 'reserve': 9367, '150pm': 365, 'properly': 9102, 'Delhi': 1644, 'naal': 8339, '4get': 664, '08081263000': 63, 'YES': 4388, 'supose': 10225, 'Goodmorning': 2071, 'FEEL': 1839, 'YET': 4396, 'quoting': 9170, 'Crack': 1535, 'already': 4629, 'deduct': 5926, 'happenin': 7028, 'embarassed': 6287, 'houseful': 7203, 'grow': 6959, 'trains': 10608, 'throws': 10465, 'FAR': 1838, 'Hey': 2222, 'Ab': 995, 'picTxt': 8843, 'applying': 4734, 'expert': 6423, 'abusers': 4477, '£450': 11394, 'toking': 10537, 'na': 8338, 'CUST': 1410, 'Hottest': 2275, 'attention': 4833, 'thesmszonecom': 10425, 'refund': 9289, 'availa': 4854, 'overtime': 8672, 'HTTPWWWURAWINNERCOM': 2161, '£600': 11406, 'HARD': 2112, 'neither': 8400, '09050001295': 186, 'blakes': 5063, 'texas': 10377, 'table': 10282, 'Cancer': 1435, 'worst': 11175, 'Noble': 2992, 'sept': 9654, 'BBC': 1140, 'nothin': 8479, 'Water': 4278, 'girld': 6844, '9funny': 928, 'look': 7880, 'durban': 6208, '750': 782, 'Birthday': 1259, 'repair': 9339, 'WAY': 4201, 'curtsey': 5816, 'wwwflirtpartyus': 11232, 'high': 7121, 'resubmit': 9396, 'That‘s': 3965, 'regards': 9295, 'charge': 5422, 'HELLOGORGEOUS': 2128, 'TRY': 3910, 'LUCYxx': 2595, 'shows': 9751, 'suits': 10202, 'lifted': 7794, 'path': 8762, 'govtinstituitions': 6914, 'Ring': 3423, 'Arcade': 1083, 'surname': 10242, 'shuhui': 9757, 'WOMEN': 4231, 'kittum': 7631, 'BOX139': 1181, 'rawring': 9204, 'chapel': 5417, 'barrel': 4926, 'custom': 5819, 'dob': 6088, 'conacted': 5646, '140': 347, '08717898035': 150, 'lovers': 7920, 'installation': 7383, 'Part': 3189, 'cud': 5799, 'pple': 8982, 'faglord': 6455, 'Arul': 1092, 'Feels': 1903, 'NYTHO': 2945, 'spile': 9993, 'cover': 5753, 'dartboard': 5868, 'specify': 9979, 'swann': 10254, 'honeymoon': 7169, 'upsetits': 10774, 'gibbs': 6836, 'GAIL': 1967, 'JANE': 2407, 'shrub': 9754, 'process': 9072, 'shits': 9716, 'auction': 4839, 'prem': 9011, 'taken': 10296, 'aretaking': 4760, 'funs': 6764, 'privacy': 9054, 'dobbys': 6090, 'attempt': 4828, '230ish': 448, '2u2': 537, 'TONITE': 3898, 'Pound': 3263, 'Total': 4024, 'great': 6937, 'tool': 10568, 'meetin': 8093, 'camcorder': 5302, 'inlude': 7368, '62468': 734, 'woot': 11146, 'reformat': 9287, 'Use': 4138, 'choice': 5499, 'East': 1757, 'walkin': 10931, 'jay': 7492, 'LUCKY': 2593, 'Kkim': 2522, 'meatballs': 8086, 'NITW': 2925, 'troubleshooting': 10645, 'hell': 7085, 'bell': 4999, 'Headin': 2197, '087104711148': 101, 'Ummmawill': 4111, 'Things': 3978, 'HIYA': 2138, 'loyalty': 7931, 'matters': 8057, 'okday': 8570, 'cam': 5301, 'em': 6284, 'insurance': 7388, 'BAK': 1134, 'urgentlyits': 10781, 'bomb': 5104, 'apology': 4722, 'hockey': 7146, '150': 353, 'Dasara': 1624, '35p': 568, 'Inclusive': 2359, 'HAVBEEN': 2119, 'portege': 8949, 'brother‘s': 5195, 'LIKE': 2560, 'Whats': 4304, 'shortly': 9734, 'modules': 8227, 'shindig': 9706, '09061744553': 227, 'SURPRISE': 3570, 'box245c2150pm': 5140, 'sry': 10029, 'Ssi': 3766, 'Wana': 4265, 'expiry': 6426, '09058097189': 208, 'willing': 11082, '69888Nyt': 753, 'Watching': 4277, 'transferacc': 10614, 'senrddnot': 9644, 'like': 7800, 'essay': 6355, 'busty': 5242, 'soundtrack': 9954, '\\x93Its': 11358, 'Ph08704050406': 3213, 'itLEAVE': 7446, '4041': 610, 'collection': 5589, 'trouble': 10644, 'secs': 9608, 'parents': 8731, 'misbehaved': 8187, 'Hiya': 2235, 'wtf': 11201, 'MATCHED': 2704, 'Best1': 1250, 'fluids': 6624, 'middle': 8151, '150pMTmsg': 358, 'SHIT': 3481, '542': 700, 'Po': 3242, 'scratching': 9583, 'heartheart': 7073, 'Kthen': 2533, '2yrs': 542, 'Plz': 3241, '09058091854': 196, 'PT2': 3174, 'Scotch': 3612, 'ONE': 3042, 'phasing': 8825, 'CAKE': 1339, 'dado': 5838, 'TheDailyDraw': 3966, 'cumin': 5806, 'EuroDisinc': 1799, 'Company': 1507, 'Sister': 3694, 'SPORTSx': 3536, 'wind': 11086, 'maaaan': 7967, 'end': 6298, 'SkilGme': 3698, '69855': 749, 'BTnationalrate': 1202, 'IThis': 2337, 'RGENT': 3350, 'broad': 5186, '2day': 509, 'favorite': 6505, 'cannt': 5319, 'eta': 6358, 'Help': 2213, '83600': 844, 'London': 2651, 'backa': 4894, 'signal': 9771, 'TX': 3915, 'admit': 4534, 'CHECKIN': 1369, 'small': 9854, 'wwwSMSacugoldviking': 11220, 'TULIP': 3912, '6986618': 750, '3100': 556, 'plural': 8905, 'itcould': 7450, 'Gopalettan': 2077, 'engagement': 6309, 'smiling': 9869, 'WEREBORED': 4212, 'LdnW15H': 2614, 'luks': 7946, 'Help08700621170150p': 2214, '“': 11421, 'thm': 10444, 'PS': 3171, 'snogs': 9888, 'difficult': 6030, 'Nt': 3020, 'thanxxx': 10397, 'PROBLEM': 3168, 'CLUB': 1380, 'prone': 9098, 'Skallis': 3697, 'representative': 9354, 'VIDEO': 4151, 'venaam': 10843, 'youve': 11334, 'secondary': 9602, 'LATER': 2549, 'rdy': 9212, 'SLEEPING': 3500, 'Foley': 1924, 'probably': 9063, 'swiss': 10269, 'ill': 7305, 'tobacco': 10523, 'LST': 2592, 'lets': 7770, 'Jordan': 2455, 'quizzes': 9168, 'wylie': 11259, '1148': 321, 'nowSavaMobmember': 8490, 'Prem': 3273, 'Bears': 1233, 'Txt': 4062, 'flowers': 6622, 'iPod': 7275, 'elsewhere': 6283, 'Nic': 2974, 'sum1': 10204, 'APRIL': 973, 'Spiderman': 3750, '80082': 808, 'Gain': 2026, 'Mmmm': 2844, 'REBEL': 3335, 'Audrey': 1105, 'Wow': 4352, 'gang': 6786, 'dined': 6041, 'WONT': 4232, '449071512431': 632, 'bathing': 4941, 'pick': 8844, 'Bite': 1262, 'Ü': 11415, 'marriage': 8034, 'unconditionally': 10719, 'ors': 8638, 'Hmmmstill': 2245, 'Nikiyu4net': 2983, 'COS': 1396, 'hate': 7045, 'join': 7524, 'newscaster': 8418, 'Ctter': 1548, 'tming': 10515, 'JANINExx': 2408, 'str8': 10118, 'Waste': 4273, 'cumming': 5807, 'tattoos': 10319, 'new': 8413, 'BOATIN': 1171, 'Brandy': 1303, 'agency': 4572, 'rimac': 9426, '\\x91rents': 11356, '3rd': 601, 'Partys': 3190, '121': 330, 'GROWRANDOM': 2020, 'covers': 5755, 'springs': 10020, '0776xxxxxxx': 33, 'teeth': 10348, 'hold': 7149, 'unless': 10749, '300603tcsBCM4235WC1N3XXcallcost150ppmmobilesvary': 548, '260305': 462, 'lionp': 7823, 'mitsake': 8206, 'get': 6824, 'peak': 8782, 'ubi': 10702, 'angels': 4670, 'Allo': 1050, 'tomo': 10546, 'Habit': 2169, 'Shesil': 3655, '5Terror': 708, 'infernal': 7352, 'Tease': 3937, 'expiredso': 6425, 'fineabsolutly': 6567, 'cabin': 5263, 'toothpaste': 10572, '8pm': 907, 'wwwcashbincouk': 11226, 'moneyi': 8242, 'preferably': 9010, 'FIFA': 1843, 'stopped': 10108, 'wonders': 11144, 'unemployed': 10732, 'cresubi': 5779, 'parco': 8728, '08000776320': 52, 'anyways': 4712, 'refundedThis': 9290, 'unhappiness': 10737, 'twins': 10684, 'CAREFUL': 1351, 'booty': 5117, 'people': 8794, 'sacked': 9505, 'MRNG': 2755, 'getting': 6832, 'somewhere': 9922, 'mis': 8186, '09065171142stopsms08718727870150ppm': 248, 'discount': 6066, 'bang': 4912, 'vic': 10855, 'Bx526': 1335, 'improved': 7329, 'INTERVIW': 2326, 'lecture': 7746, 'Game': 2029, 'danger': 5854, 'faber': 6445, 'BTooth': 1203, 'fakemy': 6463, '50': 685, 'stairs': 10038, 'sometimes': 9919, 'genus': 6821, 'bestrply': 5016, 'navigate': 8371, 'WEN': 4209, 'svc': 10252, 'lucky': 7944, 'alexs': 4608, 'sexiest': 9673, 'bottle': 5130, 'Aaooooright': 994, 'City': 1484, 'announcement': 4681, 'needa': 8387, 'telugu': 10359, 'force': 6654, 'series': 9656, 'dreamsMuah': 6157, 'TSCs': 3911, 'Price': 3280, 'Intelligent': 2376, 'tones': 10553, 'jp': 7542, 'chinchillas': 5493, 'helloed': 7088, 'Dear': 1634, 'CLAIM': 1378, 'hava': 7050, '1205': 329, 'candont': 5315, 'WERETHE': 4213, 'played': 8885, 'closingdate040902': 5552, 'RP176781': 3360, 'Nokias': 3004, 'instead': 7386, 'avin': 4864, 'albumquite': 4603, 'EXP': 1750, 'sehwag': 9625, 'tmr': 10516, 'Hockey': 2249, 'linear': 7811, '15pmin': 381, 'James': 2423, 'nange': 8354, 'JamsterGet': 2425, 'STRIKE': 3555, 'lonely': 7875, 'theres': 10421, 'Raviyog': 3380, 'Biro': 1258, 'ipod': 7424, 'live': 7839, 'pen': 8788, 'karo': 7582, 'shanghai': 9690, 'park6ph': 8735, 'POBOXox36504W45WQ': 3141, 'Means': 2807, 'MARRIED': 2700, 'Calls£1minMobsmore': 1426, '1172': 323, 'note': 8476, 'J': 2403, 'courage': 5748, 'checkup': 5448, 'cares': 5345, 'Feb': 1900, 'vldo': 10891, 'Goodnight': 2073, 'xy': 11278, 'starer': 10048, 'future': 6767, 'murder': 8316, 'responcewhat': 9379, 'throwing': 10463, 'BOX42WR29C': 1185, 'Holding': 2255, 'obey': 8528, 'Keepintouch': 2495, 'GMGNGEGN': 1990, 'grasp': 6931, 'nyc': 8519, 'completing': 5634, 'didt': 6018, 'announced': 4680, 'nurses': 8512, 'MONKEESPEOPLE': 2742, 'univ': 10746, 'Urgh': 4136, 'TMobile': 3886, 'correctionor': 5723, '83370': 841, 'resolved': 9375, 'hardly': 7039, 'Dial': 1660, 'acWicmb3cktz8r74': 4479, 'Youi': 4441, 'upcharge': 10762, 'blokes': 5083, 'singapore': 9790, 'Celebrated': 1453, 'Many': 2789, 'mths': 8296, '08719181513': 174, 'Interflora': 2377, 'tescos': 10373, 'grace': 6921, '0': 0, 'Refused': 3400, 'processnetworking': 9076, '7548': 783, 'dem': 5952, 'harder': 7038, 'replied': 9347, 'module': 8226, 'Ache': 1006, 'ends': 6304, 'nightnobody': 8431, 'box': 5139, '2morrow': 521, 'Iraq': 2381, 'dha': 5999, 'peaceful': 8781, 'scary': 9566, 'involved': 7416, 'cough': 5736, 'virgils': 10876, 'iccha': 7282, 'Kind': 2508, 'Made': 2776, 'rcd': 9208, 'hopeful': 7181, 'admiti': 4535, 'stones': 10104, 'offcampus': 8543, 'HIT': 2137, 'woken': 11135, 'smeone': 9864, 'boring': 5122, 'pleasured': 8897, 'atyour': 4838, 'BOX97N7QP': 1187, 'dosomething': 6132, 'Wife': 4317, 'made': 7978, 'capacity': 5325, 'oktake': 8573, 'plan': 8876, 'Pink': 3226, 'wondarfull': 11140, 'suffering': 10192, 'arrival': 4782, 'Cttargg': 1547, '5p': 718, 'Gudnite': 2098, 'isLOVE': 7433, 'Daddy': 1617, 'inch': 7332, 'placeNo': 8871, 'eerulli': 6253, 'row': 9472, 'fineInshah': 6566, 'BIT': 1165, 'darling': 5864, '09058094565': 201, 'buyer': 5249, 'ltgt': 7939, 'Gravity': 2086, 'Service': 3634, 'toughest': 10595, 'Jstfrnd': 2461, 'stomps': 10101, 'XXUK': 4368, 'dimension': 6038, 'journey': 7539, 'liver': 7841, 'NYs': 2947, 'NOWREPLY': 2938, 'related': 9303, 'closeby': 5547, 'moment': 8233, '»10': 11414, 'CHITCHAT': 1374, 'hubbys': 7233, 'recharge': 9260, 'buzy': 5252, 'forgotten': 6667, 'Bday': 1232, 'elliot': 6281, 'printed': 9049, 'borrow': 5124, 'Go': 2060, 'mundhe': 8314, 'resent': 9365, 'visitneed': 10884, 'couldnt': 5740, 'doubt': 6137, 'idu': 7296, '08081560665': 64, 'Doc': 1685, 'Ssindia': 3767, '9153': 912, 'Team': 3934, 'Terms': 3948, '2814032': 470, 'complimentary': 5636, 'MAD1': 2691, 'manageable': 8011, 'transcribing': 10612, 'Hmm': 2238, 'pubs': 9121, 'SNAP': 3509, 'Mileage': 2826, 'listener': 7831, 'Monday': 2865, 'patty': 8766, 'spaces': 9963, 'TxtNO': 4064, 'PX3748': 3177, 'Si': 3675, 'blank': 5065, 'PoBox202': 3246, 'EXTREME': 1753, 'puts': 9142, 'veggie': 10840, 'temales': 10361, 'push': 9138, 'Chk': 1476, 'SIM': 3490, 'firefox': 6579, 'AGAINcall': 948, 'bevieswaz': 5022, 'alert': 4605, 'loverakhesh': 7918, 'travelling': 10625, 'Arabian': 1082, 'EXACT': 1746, 'subs': 10171, 'freesend': 6704, 'officewhats': 8555, 'chinese': 5494, 'Put': 3302, 'grinder': 6949, 'nydc': 8520, 'Vatian': 4165, 'Horrible': 2269, 'dancing': 5851, 'load': 7849, 'Quick': 3316, 'faceasssssholeeee': 6447, 'howard': 7207, 'FRIENDS': 1876, 'deliver': 5948, '08701752560': 82, 'dec': 5913, 'BYATCH': 1208, 'cakes': 5268, 'man': 8009, 'avatar': 4859, 'dane': 5852, 'haunt': 7047, '6WU': 761, 'funeral': 6760, 'BOX95QU': 1186, 'girls': 6847, 'Havent': 2194, 'throwin': 10462, 'LORD': 2579, 'mjzgroup': 8209, 'bold2': 5102, '08718726970': 157, '69698': 748, 'Disconnect': 1675, 'GBP450week': 1975, 'dialogue': 6005, 'position': 8952, 'admission': 4533, 'isn\\x92t': 7441, 'bak': 4903, 'btw': 5209, 'champlaxigating': 5408, 'Suprman': 3821, 'Ummmmmaah': 4112, 'sq825': 10022, 'drama': 6146, 'Understand': 4115, 'nus': 8513, '2stoptxt': 535, '9AE': 923, 'guidance': 6977, 'recharged': 9262, 'built': 5221, 'key': 7597, 'Give': 2056, 'classmates': 5529, 'CRed': 1404, 'wearing': 10988, 'efficient': 6256, 'Barbie': 1225, 'rang': 9196, 'KATE': 2472, 'Congratulations': 1514, 'opener': 8602, 'said': 9512, 'Shinco': 3660, 'Tour': 4026, 'charged150pmsg2': 5424, 'YES434': 4390, 'SUPER': 3568, 'Allahmeet': 1049, 'POD': 3147, 'EXAMS': 1747, 'HIDE': 2136, 'distance': 6075, 'TALKBUT': 3839, 'available': 4855, 'alerts': 4606, 'physics': 8840, 'fundamentals': 6759, 'Cancel': 1434, 'lotwill': 7905, 'Dom': 1692, 'Nicenicehow': 2976, 'Tmr': 4006, 'old': 8580, 'aroundn': 4778, 'Gud': 2096, 'exposes': 6431, 'Saturday': 3600, 'ding': 6043, 'Norcorp': 3010, 'Congrats': 1513, 'MEMBERS': 2712, 'BluetoothHdset': 1275, 'coco': 5573, '84484': 852, 'Ya': 4407, '402': 609, 'himso': 7127, 'muchi': 8301, 'STOPBCM': 3551, 'printing': 9050, 'Cut': 1556, 'jeans': 7500, 'paragon': 8723, 'tag': 10290, 'ger': 6823, 'escape': 6349, 'complementary': 5629, 'shu': 9755, 'pleasure': 8896, 'women': 11138, 'arises': 4768, 'L8R': 2539, 'copied': 5712, 'Printer': 3282, 'mina': 8163, '195': 395, '09061790121': 229, 'consider': 5677, 'CAT': 1354, 'Thnx': 3984, 'ABOUTAS': 934, '6Ramaduth': 760, 'somewhereSomeone': 9923, 'repeat': 9341, 'treacle': 10626, '08712103738': 103, 'western': 11037, 'zealand': 11349, 'wifes': 11075, 'quite': 9164, 'chip': 5497, 'Worth': 4348, 'forgets': 6662, 'nike': 8438, 'Biola': 1257, '08450542832': 70, 'nat': 8361, '3650': 569, 'beggar': 4988, 'drinkin': 6164, 'Burger': 1328, 'Digital': 1665, 'online': 8592, 'convenience': 5696, '09065069154': 246, 'bsn': 5205, 'WK': 4226, 'quiz': 9166, 'prolly': 9089, 'murali': 8315, 'repairs': 9340, 'causing': 5381, 'Take': 3923, '£100': 11362, 'BUZ': 1207, 'shouting': 9741, 'Yar': 4411, 'swollen': 10271, 'fps': 6690, 'UAWAKEFEELLIKW': 4071, 'asks': 4804, 'wwwApplausestorecom': 11212, 'CHILLIN': 1373, 'dine': 6040, 'HOWU': 2158, 'adventuring': 4545, 'Santa': 3592, 'Statement': 3776, 'trust': 10652, 'Correct': 1522, 'bars': 4928, 'Gumbys': 2105, 'timin': 10495, 'canada': 5309, 'Right': 3421, '08715203685': 137, 'bar': 4919, '08452810075over18s': 73, 'masked': 8040, '09050090044': 191, 'Tues': 4052, 'thangam': 10390, 'animation': 4673, 'ec2a': 6239, 'division': 6081, 'Secret': 3617, 'imposter': 7323, 'DIDNT': 1583, 'peoples': 8795, 'chatter': 5437, 'checked': 5446, 'Wotz': 4350, 'tvhe': 10678, 'outages': 8652, 'credits': 5776, 'aka': 4599, '7Mahaveer': 792, 'staying': 10071, 'exercise': 6409, 'dance': 5849, 'ull': 10708, 'practicum': 8992, 'typelyk': 10695, 'BCMSFWC1N3XX': 1148, 'present': 9022, 'karnan': 7581, 'fool': 6646, 'parantella': 8726, 'replying': 9351, 'saturday': 9546, 'oral': 8625, 'Double': 1700, 'Lol': 2648, 'Henry': 2218, 'loxahatchee': 7929, 'smokes': 9872, 'intentions': 7392, 'faded': 6453, 'Msg150p': 2886, 'uniqueI': 10744, 'mine': 8168, 'Redim': 3395, 'L8r': 2541, 'Later': 2608, 'stink': 10095, 'shag': 9682, 'SLEEPSWEET': 3502, 'Really': 3388, 'shud': 9756, 'dancin': 5850, 'fired': 6578, 'IWANA': 2340, 'chill': 5489, 'cramps': 5761, 'thought': 10451, 'oil': 8566, '09061701461': 219, 'receive': 9252, 'doggy': 6106, 'YES165': 4389, 'prakasamanu': 8996, 'dudes': 6197, 'rents': 9338, 'SERVICES': 3473, 'lift': 7793, 'monday': 8237, 'kaypoh': 7583, 'pei': 8787, 'four': 6685, 'SITUATION': 3494, 'Shiny': 3661, 'SentDate': 3629, 'Sky': 3702, 'SEXYCHAT': 3476, 'SHESIL': 3480, 'Landline': 2602, 'RITE': 3356, 'listening': 7832, 'fell': 6524, 'semi': 9638, 'endof': 6302, 'rhode': 9415, 'global': 6860, 'sorrowsI': 9940, 'dsnt': 6190, 'inpersonation': 7376, 'jump': 7551, 'ntswt': 8502, '400': 607, 'CALL': 1341, 'whether': 11057, 'wrnog': 11194, 'Shola': 3665, 'constant': 5681, 'coast': 5566, 'TAROT': 3844, 'MATE': 2705, 'Unsecured': 4124, 'library': 7780, '215': 440, 'ahead': 4582, 'status': 10067, 'heaven': 7077, 'SW73SS': 3573, 'bcz': 4957, 'wait': 10921, 'Karaoke': 2488, 'get4an18th': 6825, 'lacking': 7672, 'Wk': 4331, 'certificate': 5401, 'FROMWRK': 1882, 'eldest': 6277, 'MobilesDirect': 2855, 'respectful': 9378, 'anthony': 4695, 'Pandy': 3183, '3DB': 578, 'Loved': 2663, 'SmithSwitch': 3717, 'outreach': 8661, 'Iwasmarinethat\\x92s': 2395, 'COLLEGE': 1385, 'john': 7522, 'Affectionsamp': 1018, '2nd': 526, 'Uni': 4117, 'wants': 10949, '07099833605': 25, 'modelsony': 8224, 'Free': 1941, 'DOT': 1601, 'fidalfication': 6535, 'place': 8870, 'roger': 9452, 'minute': 8181, 'Roger': 3432, 'Da': 1615, 'lover': 7917, 'HUNNYHOPE': 2166, 'N': 2902, 'todays': 10530, 'flowing': 6623, 'happier': 7031, 'credited': 5775, 'infront': 7364, 'found': 6684, 'senor': 9643, 'prior': 9051, 'Hmmmm': 2244, 'shall': 9687, 'excellent': 6399, 'mountain': 8267, 'appreciated': 4738, 'AlaikkumPride': 1041, 'squid': 10025, 'sitter': 9805, 'belly': 5002, 'CHEER': 1370, 'fink': 6575, 'calculation': 5271, 'Saeed': 3583, 'GOODMORNING': 2004, 'faster': 6490, 'WordsEvry': 4344, 'appt': 4746, 'Sender': 3624, 'correction': 5722, 'Truro': 4037, 'studyn': 10152, 'Ujhhhhhhh': 4105, 'Invaders': 2379, 'PoBox1': 3243, 'scared': 9565, 'NHS': 2918, 'Rodger': 3430, 'aint': 4592, 'PoBox12n146tf15': 3244, 'TERMINATEDWE': 3857, 'trusting': 10653, 'meaningless': 8082, 'deserve': 5976, 'nordstrom': 8465, 'technologies': 10346, 'stillmaybe': 10094, 'greece': 6943, 'SIX': 3495, 'emerging': 6292, 'building': 5220, 'Sugar': 3809, 'pass': 8750, 'iron': 7426, 'lifeyou': 7792, 'std': 10073, '08714712394': 128, 'Qatar': 3307, 'Line': 2632, 'min': 8161, 'Moon': 2869, 'need': 8386, 'PETROL': 3121, '255': 459, 'sunroof': 10216, 'valid': 10824, 'anybody': 4698, '88222': 881, 'RUDI': 3365, 'acknowledgement': 4504, 'mobiles': 8217, '2IM': 488, '£500000': 11400, 'keeping': 7589, 'INTELLIGENT': 2324, 'poker': 8919, 'Fills': 1909, 'earliest': 6221, 'help08700469649': 7090, 'overa': 8668, 'PERSON': 3118, 'SenderName': 3625, 'afraid': 4558, 'tomoCant': 10547, '2': 423, '5digital': 712, 'step': 10081, 'miracle': 8184, 'Forgets': 1933, 'Moment': 2862, 'crore': 5785, 'TALKIN': 3841, 'wwwfullonsmscom': 11233, 'length': 7758, 'FRESHERS': 1874, 'sack': 9504, 'goggles': 6878, '2wks': 539, 'wish': 11102, 'Cramps': 1537, 'arab': 4753, 'Earth': 1756, 'aspects': 4806, 'idiot': 7294, 'money': 8241, 'harlem': 7040, 'hwkeep': 7270, 'DOGBREATH': 1593, 'starve': 10059, 'ask': 4799, 'appendix': 4727, 'Singles': 3689, 'pierre': 8854, 'ROMCAPspam': 3357, 'Ultimately': 4109, 'Mother': 2877, 'advisors': 4549, '1225': 331, 'txtin': 10688, 'freefone': 6701, 'supports': 10231, 'TaDaaaaa': 3920, 'watevr': 10974, 'sleep': 9829, '1McFlyAll': 405, 'splwat': 10002, 'Fuuuuck': 1962, 'settling': 9669, 'lower': 7927, 'hmm': 7143, 'comes': 5605, '96': 919, 'KL341': 2477, 'spk': 9997, 'Indeed': 2362, '1': 292, 'conversations': 5697, '08718726270': 155, 'lst': 7932, 'bakra': 4904, 'nagar': 8342, 'maybe': 8067, 'mentor': 8122, '448712404000Please': 630, 'Shopping': 3668, 'Hii': 2229, 'republic': 9355, 'Ard': 1084, '7th': 802, 'Joys': 2459, 'playerwhy': 8888, 'jungle': 7554, 'rd': 9211, 'Hai': 2175, 'seemed': 9619, 'grandfather': 6926, 'wasted': 10963, 'interviews': 7401, 'herlove': 7103, 'alex': 4607, 'convincingjust': 5704, 'Awarded': 1113, 'woozles': 11148, 'STUDENT': 3557, 'nightsExcellent': 8433, 'Buffy': 1324, 'Nan': 2950, 'lk': 7844, 'wwworangecoukow': 11240, 'code': 5574, 'used': 10794, 'nowi': 8496, 'PROBTHAT': 3169, 'DON\\x92T': 1600, 'photos': 8837, 'gua': 6967, 'vital': 10886, 'stay': 10068, '46': 640, 'alot': 4628, 'although': 4639, '07XXXXXXXXX': 48, 'DAN': 1565, 'living': 7843, 'means': 8083, 'brison': 5184, 'Tmorrowpls': 4005, 'odalebeku': 8540, 'goodno': 6900, 'TONES2U': 3894, 'parachute': 8721, 'revision': 9412, 'anti': 4696, 'belovd': 5005, 'evng': 6390, 'marrgeremembr': 8033, 'token': 10536, 'worse': 11174, 'Package': 3179, 'da': 5832, 'Dating': 1628, 'Calls£1minmoremobsEMSPOBox45PO139WA': 1428, '07046744435': 22, 'bx420': 5255, '5pm': 719, 'goodmate': 6897, '1327': 344, '08712402902': 113, 'broken': 5188, 'Almost': 1051, 'Rally': 3374, '6HL': 758, 'suggest': 10197, 'bhayandar': 5028, 'Force': 1930, 'tons': 10562, 'Vodafone': 4180, 'flaked': 6597, 'men': 8115, 'Nasdaq': 2951, 'StdTxtRate': 3779, 'improve': 7328, 'LS1': 2589, 'animal': 4672, 'accept': 4484, 'edhae': 6243, 'accent': 4482, 'randy': 9195, 'character': 5420, 'LOL': 2574, 'mon': 8236, 'pdateNow': 8779, 'wc': 10981, 'absence': 4471, '47': 641, 'Rgds': 3419, 'silly': 9780, '08718729758': 164, 'loves': 7921, '92H': 914, 'browser': 5200, 'jus': 7556, 'mth': 8295, 'WORDS': 4233, '5Gently': 704, '4w': 681, 'DRIVE': 1610, 'CREDIT': 1401, 'ahgee': 4583, 'Ding': 1668, '80086': 809, 'Princess': 3281, 'trip': 10639, '150ppmsg': 372, 'NVQ': 2944, 'cannot': 5318, 'clip': 5543, 'direct': 6049, 'situations': 9809, 'BATH': 1139, 'secretary': 9605, 'Doctor': 1686, 'smacks': 9853, 'wife': 11073, '78pmin': 790, 'M6': 2689, 'un': 10712, 'coincidence': 5579, 'settle': 9667, 'PIC': 3124, '150pMt': 361, 'karaoke': 7580, 'shadow': 9681, 'watching': 10970, 'jot': 7538, 'raised': 9184, 'TBSPERSOLVO': 3846, 'shop': 9724, 'Celebrations': 1454, 'chg': 5466, 'order': 8629, 'taylor': 10327, 'plus': 8906, 'Dload': 1683, 'Okies': 3068, '4txtú120': 677, 'quickly': 9161, '3000': 546, 'worth': 11176, 'greet': 6945, 'despite': 5981, 'suitemates': 10201, 'fret': 6710, 'Manchester': 2786, 'po': 8910, 'laxinorficated': 7727, 'w8in': 10912, 'facilities': 6449, 'cancel': 5311, 'IJUST': 2300, 'seen': 9621, 'jap': 7489, 'Rayman': 3381, 'b4': 4881, 'sar': 9533, 'Bec': 1236, 'sumthin': 10208, 'arms': 4774, 'Said': 3586, '12price': 340, 'skills': 9815, 'Freeentry': 1946, 'WOT': 4239, 'sonathaya': 9926, 'Boooo': 1287, 'pockets': 8913, 'carolina': 5353, 'canteen': 5322, '80122300pwk': 810, 'nobody': 8450, 'compulsory': 5640, '8Lovable': 900, 'zac': 11348, 'balance': 4906, 'TsCs08714740323': 4046, '08002986906': 59, 'LOST': 2580, 'Woohoo': 4343, 'bpo': 5149, 'argue': 4763, 'galno': 6779, 'tackle': 10286, 'domain': 6118, 'PlanetTalkInstantcom': 3230, '67441233': 742, 'R': 3321, 'friday': 6712, 'Ni8': 2973, 'barred': 4925, 'drugs': 6182, 'weightHaha': 11016, 'apartment': 4715, 'haha': 6998, 'reLation': 9213, 'Careful': 1442, 'mytonecomenjoy': 8335, '10': 293, 'Guaranteed': 2095, 'aburo': 4475, 'sue': 10190, 'Ta': 3919, 'mumbai': 8310, 'SAM': 3450, 'themes': 10413, 'necessity': 8382, 'youTo': 11315, 'comin': 5609, 'Kkgoodstudy': 2520, 'todayFrom': 10525, 'Purpleu': 3300, 'Dear1': 1635, 'teaches': 10335, 'foreign': 6657, 'Yummmm': 4446, 'cashin': 5366, 'limit': 7806, 'irritating': 7429, 'aeroplane': 4550, 'measure': 8085, 'constantly': 5682, 'bloodblood': 5087, 'seh': 9624, 'sterm': 10085, 'outstanding': 8665, 'treatin': 10631, 'completely': 5632, 'WOTU': 4240, 'justthought': 7559, 'moving': 8276, 'Even': 1802, 'uif': 10705, 'Youll': 4442, 'handing': 7013, 'Syria': 3833, 'roast': 9444, 'Grumpy': 2092, 'spent': 9990, 'impress': 7324, 'BOYFRIEND': 1189, 'eggspert': 6263, 'nachos': 8340, 'rays': 9206, 'inviting': 7412, 'bite': 5056, 'Hahatake': 2174, 'tat': 10318, 'drug': 6180, 'invoices': 7414, 'Rate': 3378, 'died': 6020, 'No83355': 2990, '07815296484': 41, 'fml': 6631, 'january': 7488, 'processExcellent': 9073, 'VCo': 4149, 'experience': 6420, 'hont': 7170, 'chennai': 5455, 'okay': 8568, 'taxless': 10325, 'Genius': 2043, 'wrongly': 11196, 'percent': 8797, 'lamp': 7686, 'wifedont': 11074, 'Guide': 2103, 'armands': 4772, 'boost': 5116, 'pg': 8822, 'Ola': 3071, 'SEEMED': 3465, 'janarige': 7486, 'roles': 9454, 'doug': 6138, 'nanny': 8355, '211104': 439, 'Detroit': 1656, 'filthy': 6555, 'RIGHT': 3351, 'knows': 7643, 'Mallika': 2784, 'ecstacy': 6240, 'Gamestar': 2031, 'itlet': 7456, 'champneys': 5409, 'paying': 8773, 'commit': 5616, 'province': 9112, 'organise': 8634, 'smoke': 9870, 'VU': 4158, 'insects': 7377, 'papers': 8718, 'fave': 6503, 'DRUNK': 1611, 'groovy': 6954, 'property': 9103, '31pmsg150p': 559, 'job': 7516, 'hurry': 7258, 'Could': 1529, 'somtimes': 9925, 'understand': 10726, 'Brdget': 1306, 'Al': 1040, '1His': 402, 'STARS': 3544, 'FreeMsgFeelin': 1945, 'items': 7451, 'SWEET': 3577, 'Slowly': 3710, 'serving': 9663, 'salon': 9521, 'resubbing': 9395, 'differbe': 6026, 'HGSuite3422lands': 2134, 'openin': 8603, 'Delivery': 1648, 'games': 6783, 'BIRD': 1163, 'yi': 11303, 'Xmas': 4375, 'paracetamol': 8720, 'PAUL': 3112, 'headin': 7058, 'require': 9358, 'TAKE': 3837, 'usno': 10801, 'Much': 2888, 'imagine': 7311, '28thFebTCs': 474, 'lady': 7677, '4years': 683, 'DD': 1574, 'aathilove': 4461, 'fusion': 6766, 'samus': 9527, '2hrs': 516, 'EVERYTHIN': 1744, 'beehoon': 4980, 'matra': 8053, 'SPECIALE': 3528, 'weirdest': 11018, '24M': 454, 'deari': 5905, 'kalainar': 7568, 'killed': 7614, 'SELFINDEPENDENCE': 3468, 'BABES': 1126, 'ladiesU': 7676, 'turned': 10673, 'bb': 4949, 'jiayin': 7512, 'PISS': 3129, 'away': 4874, 'link': 7818, 'swhrt': 10265, 'Chasing': 1463, 'closed': 5548, 'DONE': 1596, 'suggestions': 10199, '4ui': 680, 'texting': 10383, 'wheres': 11055, 'gaytextbuddycom': 6804, '1U': 407, 'spot': 10014, 'subscription': 10176, 'walls': 10938, 'AUCTION': 983, 'Cant': 1437, 'vargu': 10831, 'Ldn': 2613, 'figure': 6544, 'WWWASJESUSCOM': 4251, 'talent': 10301, 'YM': 4397, 'wkTXT': 11120, 'FUCKIN': 1885, 'blessget': 5074, 'texts': 10385, 'road': 9441, 'give': 6850, 'Looking': 2654, 'Neva': 2965, 'applespairsall': 4729, 'floating': 6615, 'space': 9961, 'kama': 7572, 'sports': 10013, 'scrumptious': 9590, 'envy': 6334, '7250': 775, 'surgical': 10241, 'kip': 7625, 'ad': 4518, 'NytEC2A3LPmsg150p': 3029, 'dogg': 6103, 'evaluation': 6364, 'Nick': 2977, 'NO762': 2930, 'level': 7774, 'understood': 10728, 'internet': 7398, 'BangBabes': 1222, 'hills': 7125, 'lays': 7730, 'clue': 5559, 'RECPT': 3338, 'questionstd': 9159, 'statement': 10063, 'brainy': 5153, 'asda': 4794, 'together': 10532, 'reckon': 9264, 'caps': 5328, '£200': 11383, 'RSTM': 3361, 'doinnearly': 6113, 'United': 4118, '26th': 466, 'pan': 8708, 'Wrong': 4354, 'frndship': 6729, 'DoubleTxt': 1702, 'Solve': 3724, 'wildest': 11080, '4Pavanaputra': 654, 'wit': 11109, 'INR': 2322, 'bears': 4962, 'Txting': 4065, 'Scoring': 3611, 'Bought': 1291, 'appointment': 4735, 'internetservice': 7399, 'hitman': 7136, 'restWish': 9388, 'free': 6699, 'xam': 11262, 'speechless': 9981, 'mi': 8148, 'sittin': 9806, 'infotxt82228couk': 7360, 'around': 4777, 'phews': 8827, 'torrents': 10582, 'uve': 10811, 'bus': 5237, 'home': 7159, 'heat': 7075, 'embarrassed': 6289, 'Motherinlaw': 2878, 'features': 6511, 'ure': 10778, 'march': 8027, '008704050406': 1, 'transferred': 10616, 'Fri': 1950, 'captain': 5329, 'tui': 10667, 'Fair': 1893, 'whn': 11062, 'pehle': 8786, 'ajith': 4597, 'wetherspoons': 11041, 'Wipe': 4327, 'Bray': 1304, 'uks': 10707, 'tariffs': 10315, 'TEXTPOD': 3863, 'g': 6769, 'm8': 7965, 'V': 4145, 'jet': 7508, 'otherwise': 8645, '1000s': 297, 'june': 7553, 'awaiting': 4870, 'program': 9084, 'pours': 8977, 'display': 6074, 'role': 9453, 'iam': 7277, '08002986030': 58, '10ppm': 313, 'Hitler': 2233, 'delay': 5943, 'vehicle': 10841, 'apologize': 4721, 'trauma': 10621, 'wwwldewcom': 11236, 'VIA': 4150, 'pillows': 8858, 'Welp': 4294, 'arrived': 4784, 'ingredients': 7366, 'Latest': 2609, 'exmpel': 6415, 'Wanna': 4266, 'prabha': 8987, 'ability': 4466, 'taught': 10321, 'fgkslpo': 6533, 'Cutefrnd': 1558, 'snowball': 9890, 'gep': 6822, 'JSCO': 2416, 'P': 3103, 'easily': 6230, '18ptxt': 393, 'power': 8979, 'invnted': 7413, 'intrepid': 7403, 'dust': 6211, 'rajini': 9186, 'programs': 9085, 'Especially': 1793, 'FANCY': 1834, 'sub': 10166, '08712466669': 120, 'Kallis': 2486, 'Itz': 2391, 'Need': 2959, 'XXXX': 4371, 'Accident': 1002, 'Guild': 2104, 'possessive': 8956, 'relatives': 9306, 'wildlife': 11081, 'POINT': 3148, 'Yesterday': 4435, 'angry': 4671, 'blimey': 5077, 'coughing': 5737, 'locks': 7858, 'inconvenient': 7340, 'LONGER': 2576, 'simple': 9784, 'flurries': 6625, 'chance': 5410, 'password': 8758, 'peace': 8780, 'boggy': 5100, 'talents': 10302, 'upload': 10767, 'half': 7004, 'theater': 10409, 'fold': 6634, 'forget': 6661, 'ADRINK': 944, 'uni': 10739, '645': 738, 'Tenants': 3944, 'Keris': 2501, 'heartsnot': 7074, 'uses': 10798, 'sooo': 9934, 'directors': 6052, 'tog': 10531, '69988': 756, 'percentages': 8798, 'creative': 5772, 'RG21': 3349, 'crazy': 5769, 'shakara': 9684, 'garden': 6791, '3750': 574, 'mark': 8029, '450p': 637, '125gift': 334, '3mins': 598, 'INK': 2321, 'party': 8747, 'grr': 6963, 'billed': 5038, 'med': 8087, 'Ctagg': 1545, 'ü': 11418, 'HUNLOVE': 2164, '1956669': 396, 'anything': 4707, 'daurgent': 5877, 'homeleft': 7162, 'satanic': 9540, 'GORGEOUS': 2009, '350': 566, '2WU': 505, 'ppl': 8981, 'christ': 5508, 'caught': 5378, 'LUTON': 2597, 'url': 10784, 'roadsRVx': 9443, 'EyedDont': 1830, 'Gay': 2035, 'receipts—well': 9251, 'Send': 3623, 'doesn\\x92t': 6100, 'loads': 7850, 'txt': 10686, 'truth': 10654, 'steam': 10077, 'dump': 6203, 'ttyl': 10663, 'ST': 3541, 'Uptown': 4132, 'Waitshould': 4260, '020603': 8, 'complaining': 5627, 'wishlist': 11107, 'PHONE': 3122, 'Spose': 3758, 'lmao': 7846, 'prepayment': 9016, 'stand': 10043, '09066382422': 268, 'sheet': 9698, 'LCCLTD': 2551, 'Strokes': 3792, 'deal': 5895, 'keyword': 7600, 'Behind': 1244, 'UpgrdCentre': 4130, 'wwwshortbreaksorguk': 11247, 'LUV': 2598, 'Kkyesterday': 2529, 'ana': 4661, 'Staying': 3778, 'audreys': 4843, 'spell': 9985, 'supportvery': 10232, 'Simply': 3683, 'reffering': 9284, '80488': 815, 'pages': 8697, 'HATES': 2116, 'greatest': 6940, 'oga': 8563, 'ads': 4539, 'HAV': 2118, 'hole': 7152, 'hurried': 7257, 'needing': 8390, 'CULDNT': 1407, 'thanks2': 10394, 'rejected': 9302, 'tirunelvai': 10503, 'bluray': 5096, 'lonlines': 7878, 'StarWars3': 3771, 'Accept': 1001, 'WRC': 4244, 'software': 9899, 'marketing': 8031, 'massagetiepos': 8042, 'unconscious': 10720, 'Stay': 3777, '8007': 807, 'Bloody': 1271, 'Superb': 3820, 'yourinclusive': 11330, '08718738002': 168, 'Storming': 3788, 'NO440': 2929, 'weekly': 11010, 'panalambut': 8709, 'Luckily': 2675, 'IBH': 2292, 'conform': 5665, 'cards': 5335, 'oh': 8565, 'outgoing': 8657, 'survey': 10247, 'Expires': 1825, 'adewale': 4527, 'that‘s': 10406, 'Emotion': 1779, '08712402050': 110, 'accordingly': 4494, 'Insha': 2374, 'dating': 5873, 'Sian': 3677, 'assistance': 4810, 'ShrAcomOrSglSuplt10': 3673, 'storelike': 10113, 'everybodys': 6378, 'fond': 6641, 'rushing': 9498, 'Tel': 3939, 'wake': 10925, 'weaseling': 10989, 'negative': 8395, 'semiobscure': 9639, 'wesley': 11034, 'boston': 5126, 'personMeet': 8814, 'don‘t': 6126, 'Remind': 3408, 'surprise': 10243, 'READ': 3327, 'dear': 5902, 'color': 5593, 'Romantic': 3433, 'complaint': 5628, 'browsin': 5201, 'wwwsmsconet': 11248, 'mush': 8320, 'voted': 10901, 'Xx': 4378, 'AG': 947, 'Dileepthank': 1666, 'Ttyl': 4051, 'Pass': 3191, 'Kidz': 2507, '151': 377, 'Blacko': 1266, 'ZOE': 4453, 'Wat': 4275, 'Deal': 1633, '1Hanuman': 401, 'Best': 1249, 'Everybody': 1807, 'POBOX84': 3140, 'certainly': 5400, 'Phil': 3215, 'Available': 1110, 'see': 9613, 'cereals': 5399, 'httpwwwgr8prizescom': 7228, 'suffers': 10193, 'subject': 10167, 'wiskey': 11108, 'arrive': 4783, 'Fat': 1898, 'olave': 8578, 'radiator': 9173, 'MONL8RSx': 2744, 'WANNA': 4197, '0ANETWORKS': 291, 'dwn': 6214, 'panic': 8710, 'mutai': 8327, 'POKKIRI': 3149, 'headache': 7057, 'employers': 6295, 'second': 9601, 'vday': 10837, 'A21': 933, '447801259231': 628, 'Putting': 3303, '3GBP': 580, '2C': 480, 'outfor': 8656, 'waythis': 10980, '0871277810710pmin': 121, 'bc': 4951, '08719181503': 173, 'schedule': 9570, 'eventually': 6374, 'forgiveness': 6665, 'Maintain': 2779, 'mist': 8201, 'Waiti': 4258, 'vid': 10858, 'gays': 6803, 'lyricalladie21F': 7962, 'tuth': 10676, 'taxt': 10326, 'freek': 6702, 'adsense': 4540, '120': 327, 'hannaford': 7024, 'bathroom': 4942, 'tb': 10329, 'anymore': 4701, 'peeps': 8785, 'submitting': 10170, 'recorded': 9268, 'nitros': 8445, 'romantic': 9457, 'claypot': 5530, 'frankgood': 6693, 'oni': 8590, 'Student': 3794, 'lip': 7824, 'Westlife': 4298, 'dokey': 6115, 'lotr': 7899, 'gastroenteritis': 6795, 'optin': 8620, 'hooked': 7174, 'starring': 10050, 'Park': 3188, 'Touch': 4025, 'endless': 6301, 'cause': 5379, 'actor': 4515, 'impossible': 7322, 'Bt': 1321, 'urination': 10783, 'lasagna': 7705, 'SIB': 3489, 'Kkwhy': 2528, 'ericsson': 6339, 'crammed': 5760, 'occur': 8536, '69888': 752, 'includes': 7336, 'created': 5771, 'pig': 8855, 'broth': 5191, '09058095107': 206, 'uncle': 10716, 'Harishs': 2190, '9': 909, 'perpetual': 8810, 'bimbo': 5043, 'youhow': 11321, 'TCsC': 3852, 'sweets': 10263, 'chad': 5403, '09064012103': 237, 'coaxing': 5568, 'avo': 4865, 'Press': 3278, 'CR01327BT': 1398, 'ml': 8210, 'flip': 6611, 'tai': 10293, 'Watch': 4276, 'END': 1726, 'asking': 4803, 'yorge': 11313, 'Croydon': 1541, 'Children': 1473, 'MAN': 2697, 'DUE': 1612, 'RememberI': 3404, 'visitors': 10885, 'painful': 8701, '434': 624, 'hundreds': 7247, 'Girls': 2055, 'POWER': 3160, 'posted': 8965, 'air': 4593, 'chain': 5404, 'Police': 3252, 'MARCH': 2699, 'habbahw': 6993, 'pookie': 8935, 'POBox36504W45WQ': 3144, 'drawPlease': 6151, 'wwwLdewcomsubs161win150ppmx3': 11218, 'edwards': 6250, 'Special': 3748, 'dawhere': 5879, 'chez': 5465, 'snowboarding': 9891, 'everyone': 6381, 'badass': 4897, 'spiffing': 9992, 'K718': 2471, 'girl': 6843, 'tomorrowcall': 10550, 'adding': 4523, 'stuffleaving': 10157, 'expression': 6433, 'private': 9055, 'bought\\x94braindance\\x94a': 5133, 'alcohol': 4604, 'Slept': 3707, '8Attractive': 898, 'lose': 7891, 'innu': 7373, 'update': 10763, 'tortilla': 10583, 'ALSO': 962, 'chikkuB': 5475, 'given': 6851, 'strain': 10120, 'RTM': 3363, 'Pilates': 3224, 'HOWDY': 2156, 'IsaiahD': 2384, 'work': 11155, 'claim': 5519, 'useless': 10796, 'or2stoptxt': 8624, 'gap': 6787, 'Sold': 3723, 'Shivratri': 3663, 'Next': 2972, 'secure': 9611, 'skype': 9823, 'BTnational': 1201, 'Taka': 3922, '6031': 726, 'Goin': 2065, 'family': 6474, '09058094599': 205, 'practising': 8993, 'Two': 4061, 'lunchtime': 7948, 'dooms': 6127, 'escalator': 6348, '3qxj9': 600, 'W111WX': 4187, 'came': 5303, 'mushy': 8321, 'bot': 5127, '3510i': 567, '09064011000': 236, 'Kkhow': 2521, 'antibiotic': 4697, 'specialisation': 9975, 'cancer': 5314, 'approved': 4743, 'punishment': 9129, 'truck': 10647, 'Pansy': 3184, 'Instant': 2375, 'hospitals': 7193, 'Q': 3304, 'round': 9468, 'Yellow': 4421, '515': 691, 'Oooooh': 3083, '£350': 11391, 'Tickets': 3995, '4U': 657, 'SEE': 3463, 'Sending': 3626, 'recycling': 9274, '07753741225': 32, 'Lololo': 2650, 'messageIts': 8134, 'allows': 4623, 'conducts': 5656, 'snappy': 9884, '08700621170150p': 75, 'NITE2': 2924, 'salary': 9515, 'FreeMsg': 1943, 'fifth': 6539, 'ENC': 1725, '20F': 434, 'icicibankcom': 7284, 'sunny': 10214, 'Chat': 1464, 'coz': 5756, 'placed': 8872, 'reaching': 9217, '241004': 451, '09056242159': 194, 'Marley': 2795, 'bread': 5158, 'parchi': 8727, 'durham': 6209, 'poet': 8916, 'SPAM': 3526, 'HUNNYWOT': 2167, '5WQ': 711, 'js': 7543, 'wednesday': 11001, 'gpu': 6917, '08707808226': 95, 'jolly': 7535, 'Resend': 3416, 'hav2hear': 7049, 'senthilhsbc': 9652, 'receipts': 9250, 'SUMTHINxx': 3566, 'officially': 8557, 'cricketer': 5781, 'wihtuot': 11077, 'marriageprogram': 8035, '6HouseMaid': 759, 'saves': 9551, 'Facebook': 1891, 'STU': 3556, 'loan': 7851, 'looked': 7881, 'textoperator': 10384, 'B4U': 1122, 'fastpls': 6492, 'Machan': 2774, 'spare': 9966, 'clever': 5539, 'cooperative': 5711, 'weak': 10983, 'NumberRespectful': 3022, 'thousands': 10454, 'Thats': 3963, 'opened': 8601, 'knocking': 7638, 'deep': 5927, 'frndshp': 6730, 'bec': 4968, 'Beautiful': 1234, 'flower': 6621, 'Woman': 4337, 'tired': 10501, 'oru': 8640, 'trying': 10657, 'ethnicity': 6360, 'cherish': 5459, 'yalrigu': 11282, 'Mila': 2825, 'heltiniIyo': 7095, 'expects': 6418, 'missin': 8194, 'cookies': 5707, 'COMPLETELY': 1390, 'kent': 7593, 'Wasted': 4274, 'spend': 9988, '0870k': 100, 'gayD': 6801, '2NITETELL': 496, 'hurt': 7259, '786': 788, 'allowed': 4622, 'deciding': 5917, 'type': 10694, '88066': 879, 'frm': 6725, 'BEGIN': 1154, 'PARENTS': 3105, 'Granite': 2085, 'Important': 2356, 'regular': 9301, 'Colour': 1501, 'fro': 6733, 'Start': 3772, 'ltTIMEgt': 7937, 'invited': 7411, 'annie': 4677, 'SK38xh': 3498, 'returning': 9406, 'throat': 10460, 'brah': 5150, 'crab': 5759, 'functions': 6757, 'autocorrect': 4852, 'yoga': 11310, 'Mumtazs': 2893, 'Honey': 2263, 'philosophical': 8828, 'arise': 4767, 'real': 9226, 'def': 5931, 'wanting': 10948, 'Gary': 2034, 'youmoney': 11325, 'Mobile': 2852, 'losing': 7894, 'messagesText': 8140, '4TCtxt': 656, 'todaydo': 10528, 'outdoors': 8654, 'fruit': 6739, 'thinks': 10438, 'msgticketkioskValid': 8291, 'Mandan': 2787, 'tonights': 10558, 'ROSES': 3359, 'southern': 9959, '2EZ': 482, 'meDont': 8074, 'dhina': 6000, 'febapril': 6513, 'pataistha': 8760, 'Sicomo': 3678, 'wwwtxt82228com': 11256, 'banned': 4916, 'rub': 9481, 'AH': 954, '800': 804, 'pears': 8783, 'friendofafriend': 6718, 'luxury': 7956, 'mins100txtmth': 8176, 'Sfine': 3641, 'born': 5123, 'ringtones': 9432, 'teaching': 10336, 'Case': 1446, 'buzz': 5253, 'jenne': 7504, 'sort': 9943, 'Patrick': 3194, 'coimbatore': 5577, 'ex': 6394, 'accidant': 4487, 'BORING': 1176, 'walking': 10932, '2geva': 512, 'rencontre': 9330, 'period': 8806, 'ploughing': 8900, 'hugh': 7238, 'Del': 1643, 'Ups': 4131, 'Sen': 3622, 'Nah': 2948, 'dhorte': 6001, 'ones': 8588, 'rateTCs': 9200, 'DONATE': 1595, '8830': 882, 'collages': 5584, 'Pg': 3212, 'COME': 1386, 'GOIN': 1996, 'performance': 8802, 'aunty': 4847, 'Foned': 1926, 'flash': 6600, 'Crab': 1534, 'beer': 4982, 'REPLY': 3343, 'music': 8322, 'ENUFCREDEIT': 1733, 'burning': 5233, 'brilliant': 5176, 'also': 4635, '3Wife': 590, 'DontCha': 1696, 'therexx': 10422, 'Santha': 3593, 'latests': 7717, '150pmsg': 368, 'except': 6400, 'goal': 6868, 'glorious': 6861, 'ShanilRakhesh': 3649, 'Wan': 4263, 'Future': 1961, 'LATE': 2548, 'timeYour': 10488, 'mrng': 8280, 'Mathews': 2800, 'masteriastering': 8044, 'Slide': 3708, 'Heehee': 2204, 'FIFTEEN': 1844, '09061701444': 218, 'Traditions': 4029, 'download': 6140, 'eruku': 6344, 'Follow': 1925, 'icon': 7286, 'drinkpa': 6166, 'Valentines': 4160, 'curfew': 5811, 'cartoon': 5361, 'ar': 4752, 'tis': 10506, 'ACL03530150PM': 937, 'mummys': 8312, 'box334sk38ch': 5141, 'plumbingremixed': 8904, 'citizen': 5516, 'gooddhanush': 6893, '12hrs': 338, 'care': 5336, '…': 11423, 'lobby': 7853, 'galsU': 6781, 'xxx': 11272, 'hv': 7266, 'World': 4347, 'agidhane': 4576, 'sensitive': 9648, 'INCONVENIENCE': 2315, 'soonxxx': 9933, 'Colin': 1498, 'worry': 11171, 'Apo': 1076, 'PSP': 3172, 'wwwtcbiz': 11249, 'brother': 5193, 'notixiquating': 8485, 'bloombergcom': 5089, 'miiiiiiissssssssss': 8155, 'Dan': 1620, 'trained': 10605, 'LETS': 2557, 'A£150': 1118, 'soooo': 9935, 'hostile': 7195, 'enjoy': 6314, 'wwwB4Utelecom': 11213, 'cash': 5363, 'tron': 10643, 'ktv': 7660, 'chechi': 5443, '1230': 333, 'dot': 6133, 'WOULDNT': 4242, 'thisdon': 10441, 'JUSWOKE': 2420, 'kb': 7584, 'natwest': 8367, 'permanent': 8807, 'neighbors': 8399, 'EAT': 1721, 'prize': 9058, 'caller': 5291, 'html': 7217, 'puppy': 9131, 'Boy': 1300, 'Yesfrom': 4427, '528': 696, 'TEXT': 3860, 'Islands': 2385, '08712405022': 117, 'rate': 9199, 'W4': 4191, 'woulda': 11181, '07808247860': 39, 'GUD': 2023, 'nino': 8440, 'GUARANTEED': 2022, 'sms08718727870': 9877, 'httptms': 7223, 'growing': 6960, 'macs': 7975, 'busyi': 5244, 'vilikkamt': 10870, 'Accounts': 1005, 'tonite': 10559, 'DECIDED': 1577, '2000': 426, 'South': 3742, '0578': 17, 'wtc': 11200, 'rewarding': 9414, 'tirunelvali': 10504, 'GOTTA': 2014, '22': 444, 'toldshe': 10540, 'SEND': 3469, 'cuck': 5798, 'theKingshead': 10408, 'sexy': 9676, 'promise': 9092, 'ganesh': 6785, 'staffsciencenusedusgphyhcmkteachingpc1323': 10035, 'Sup': 3818, '4': 605, 'J89': 2404, 'cutie': 5826, 'delicious': 5947, 'mistake': 8202, '8': 803, 'ltEMAILgt': 7936, 'feels': 6521, 'college': 5591, 'offense': 8545, 'Time': 3999, 'mids': 8153, 'hesitant': 7110, 'case': 5362, 'isn’t': 7443, 'photo': 8836, 'SENDS': 3470, 'famous': 6476, 'Win': 4320, 'wwwtextpodnet': 11252, 'mates': 8049, 'makes': 8001, 'LOCAL': 2571, 'iphone': 7423, 'Thinks': 3982, 'fund': 6758, 'abnormally': 4469, 'GOODNOON': 2007, 'rocking': 9449, 'MOBNO': 2740, 'education': 6246, 'blackberry': 5061, 'february': 6514, 'cook': 5705, '3230': 561, 'DONTPLEASE': 1599, 'K52': 2469, 'yep': 11295, 'FANTASY': 1837, 'feel': 6517, 'Ditto': 1678, 'Box39822': 1297, 'preponed': 9017, 'mobilesvary': 8218, 'Lots': 2659, 'l8': 7665, 'Chachi': 1457, '4Lux': 652, 'dudette': 6198, 'embassy': 6290, 'ground': 6956, 'replace': 9344, 'attracts': 4836, 'TROUBLE': 3907, 'CHEERED': 1371, 'studdying': 10145, '44': 625, 'Sept': 3631, 'Pro': 3284, '9am11pm': 926, 'Mite': 2840, 'knees': 7635, 'HRS': 2160, 'quitting': 9165, 'max6month': 8061, 'many': 8021, 'SATSOUND\\x92S': 3454, 'JADE': 2405, '2bold': 507, 'jackson': 7478, 'wid': 11070, 'resolution': 9374, 'R836': 3322, 'OnionRs': 3078, 'laying': 7729, 'Jones': 2454, 'it‘s': 7464, 'trends': 10636, 'readers': 9221, 'wined': 11092, 'goodwhen': 6902, 'XMAS': 4366, 'meant': 8084, 'ow': 8676, 'Wen': 4295, 'iscoming': 7435, 'alls': 4624, 'argh': 4762, 'quick': 9160, 'Cps': 1533, 'cme': 5561, 'msgs150p': 8287, 'mofo': 8228, 'screen': 9587, 'SHUDVETOLD': 3487, 'or2optoutHV9D': 8623, 'qi': 9151, 'promptly': 9096, '5I\\x92m': 705, 'Tick': 3994, '09061104283': 213, 'fring': 6723, 'study': 10150, 'Greetings': 2090, 'lock': 7857, 'riddance': 9419, 'didnt': 6014, 'Building': 1326, 'gotany': 6908, '630': 736, 'spontaneously': 10009, 'poured': 8976, 'loose': 7886, 'wont': 11145, 'styles': 10163, 'lect': 7745, 'Suite': 3810, 'follows': 6640, 'corect': 5717, 'NITE': 2923, 'computerless': 5643, 'j': 7474, 'resizing': 9372, 'Ride': 3420, 'Yogasana': 4439, 'minded': 8165, 'Hopefully': 2267, '0906346330': 235, 'IKEA': 2301, 'nt': 8500, 'av': 4853, 'taunton': 10322, 'Log': 2646, 'Ages': 1026, 'WHORE': 4216, 'strings': 10134, 'colourful': 5595, 'Max10mins': 2803, 'Cardiff': 1439, 'kadeem': 7563, 'rob': 9445, 'RINGSRETURN': 3353, 'BLOKES': 1168, '2PX': 497, 'Enamous': 1781, 'Bob': 1277, 'chart': 5430, 'Msg': 2885, '600': 725, 'CARD': 1349, 'GO': 1993, 'thati': 10401, 'supplies': 10227, 'WINNER': 4221, 'running': 9493, 'donyt': 6124, 'return': 9404, 'Farrell': 1897, '08452810071': 71, 'units': 10745, '87121': 871, '261104': 464, 'okmail': 8572, 'timedhoni': 10489, 'Inever': 2369, 'paranoid': 8725, 'office': 8550, 'possibility': 8958, 'numbers': 8510, 'Quite': 3317, 'quizclub': 9167, 'showered': 9747, 'piece': 8852, 'Wednesday': 4288, 'Channel': 1460, 'wmlid1b6a5ecef91ff937819firsttrue180430JUL05': 11128, 'incomm': 7338, 'YES440': 4391, 'something': 9915, 'files': 6548, 'gayle': 6802, 'httpwwwwtlpcouktext': 7230, 'bother': 5128, 'Read': 3384, 'ALEX': 960, '08709501522': 99, 'knickers': 7637, 'sore': 9938, 'padhegm': 8695, 'voucher': 10902, 'vary': 10834, 'jaykwon': 7494, 'goldviking': 6885, 'Rental': 3413, 'nyt': 8521, 'die': 6019, 'beers': 4983, 'shes': 9704, 'five': 6590, 'relation': 9304, 'randomlly': 9193, 'major': 7999, 'fals': 6471, 'cruisin': 5791, 'protect': 9108, 'invest': 7407, '2rcv': 533, 'Nite': 2987, 'philosophy': 8829, 'kinda': 7620, 'S8': 3445, '07742676969': 31, 'jeetey': 7501, 'Moons': 2870, 'reserved': 9368, 'FUCKINNICESELFISHDEVIOUSBITCHANYWAYI\\x92L': 1887, 'STAR': 3543, 'Hicts': 2226, 'meetitz': 8096, 'side': 9766, '08719180219': 170, 'Ctargg': 1546, 'Noooooooo': 3008, 'packalso': 8692, 'Sindu': 3687, 'THAT\\x92SCOOL': 3872, 'SATTHEN': 3455, 'mails': 7996, 'shirt': 9711, 'L8ER': 2538, 'bcaz': 4952, 'uxxxx': 10815, 'pudunga': 9122, 'didn\\x92t': 6016, 'arm': 4770, 'recreation': 9273, 'ISH': 2330, 'DONTIGNORE': 1598, 'likely': 7802, 'BAHAMAS': 1132, 'JOBYET': 2415, '7ZS': 795, 'chrgd50p': 5507, 'Information': 2372, 'Dnt': 1684, 'LAY': 2550, 'Appt': 1080, 'Evening': 1803, 'nosy': 8475, 'herethanksi': 7102, 'thuglyfe': 10471, 'ubandu': 10701, 'steamboat': 10078, 'YWHERE': 4406, 'styling': 10164, 'UPNOT': 4085, 'warner': 10954, 'DA': 1561, 'younger': 11328, 'NOK': 2932, 'keypad': 7598, 'latebut': 7710, 'Nobody': 2993, 'SOO': 3517, 'miserable': 8188, 'go2': 6865, 'chikku': 5474, 'MORAL': 2748, 'Forwarded': 1935, 'benefits': 5012, 'Shuhui': 3674, 'Haha': 2172, '07808726822': 40, 'ITTB': 2335, 'pool': 8936, 'loans': 7852, 'HAVEBEEN': 2120, 'Full': 1958, 'sheffield': 9700, 'BEAUTIFUL': 1150, 'SWAN': 3574, 'honey': 7168, 'EVEN': 1739, 'FINE': 1849, 'callsmessagesmissed': 5298, 'praying': 9001, 'proove': 9100, 'Chloe': 1477, 'walsall': 10940, 'definitely': 5935, 'damn': 5846, 'GIFTS': 1983, 'call2optout4QF2': 5277, 'Thank': 3957, 'Ki': 2503, 'buddys': 5213, 'errors': 6342, 'workAnd': 11156, 'grab': 6920, 'judgementali': 7546, 'kodthini': 7651, 'hoops': 7175, 'thinked': 10435, 'WELLDA': 4208, 'Cost£150pm': 1527, 'Voucher': 4184, '500': 686, 'pub': 9117, 'apologetic': 4719, 'adjustable': 4529, 'porridge': 8946, 'Inform': 2371, 'limits': 7808, 'noisy': 8454, 'via': 10851, 'anyway': 4711, 'lager': 7680, 'Callertune': 1422, '08000930705': 54, 'lifting': 7795, 'Tsunamis': 4050, 'freaked': 6696, '169': 384, 'Oyea': 3101, 'gigolo': 6841, 'ANYTHING': 970, 'Long': 2652, 'Kingdom': 2512, 'bullshit': 5223, 'sister': 9800, 'trips': 10640, 'footie': 6651, 'Kkany': 2515, 'oredi': 8632, 'command': 5613, '48922': 645, 'back': 4893, 'bugis': 5218, 'supreme': 10235, 'smsing': 9879, 'Only1more': 3079, 'Canary': 1433, 'liquor': 7827, 'dai': 5843, 'specific': 9978, 'OTBox': 3048, 'THANKS': 3866, 'WIV': 4225, 'Wine': 4321, 'scallies': 9562, 'Bahamas': 1218, 'dobby': 6089, 'cd': 5387, '2309': 447, 'evaporated': 6365, 'tomorrow': 10549, 'hurts': 7261, 'kits': 7630, 'iZ': 7276, 'Apps': 1079, 'flew': 6606, 'gotten': 6911, 'Missed': 2838, 'ericson': 6338, 'H': 2109, 'Dvd': 1716, 'NoWorriesLoanscom': 2991, 'explain': 6427, 'meim': 8101, 'sorting': 9946, 'stays': 10072, 'donate': 6119, 'CM': 1382, 'heater': 7076, 'videopic': 10861, 'smth': 9881, 'Wings': 4322, 'charles': 5427, 'IndianPls': 2366, 'tooo': 10569, 'Thk': 3983, '08718729755': 163, '09066612661': 269, 'Lion': 2634, 'strange': 10121, 'behave': 4994, '83435': 843, '08715500022': 140, 'laugh': 7719, 'aptitude': 4750, 'lennon': 7760, 'joy': 7540, 'ruin': 9485, '09050000301': 180, 'theatre': 10410, 'lido': 7783, 'PORTIONS': 3157, 'youany': 11316, 'Phone': 3217, 'POBox': 3142, 'sale': 9516, 'givits': 6854, 'Athletic': 1100, 'cafe': 5264, 'Aiyar': 1036, 'gek1510': 6812, 'dramatic': 6148, '29M': 477, 'lateso': 7715, 'semester': 9637, 'ever': 6375, 'public': 9119, 'Flight': 1920, 'Tenerife': 3945, '09065171142stopsms08': 247, 'ne': 8374, 'finishing': 6574, 'collecting': 5588, 'STILL': 3548, 'scold': 9574, '09099725823': 283, 'dr': 6145, 'Change': 1459, 'xxxx': 11274, 'lessons': 7768, 'raed': 9175, 'standing': 10045, 'Gift': 2051, 'silent': 9778, 'tiime': 10484, 'addie': 4522, 'pulling': 9124, 'mee': 8091, 'testing': 10375, 'Bless': 1268, 'woul': 11179, 'spatula': 9970, 'registered': 9297, '08712402578': 111, 'tips': 10500, 'URSELF': 4094, 'someonethat': 9911, 'Loyalty': 2670, 'countin': 5743, 'weapon': 10986, 'transfred': 10618, 'SERIOUSLY': 3472, 'Algarve': 1047, 'dangerous': 5855, '09063440451': 232, 'Filthy': 1910, 'gay': 6800, 'jod': 7519, 'Sale': 3589, 'mother': 8261, 'Nimya': 2985, 'hon': 7165, 'dajst': 5845, 'bottom': 5131, '95pax': 918, 'asia': 4798, 'route': 9471, 'X29': 4361, 'playng': 8891, 'Aiyo': 1037, 'Wake': 4261, 'christmassy': 5510, 'we‘re': 11045, 'bitching': 5055, 'GIV': 1987, 'go2sri': 6866, 'stock': 10097, 'Pose': 3261, 'Rofl': 3431, 'Tho': 3985, 'Sac': 3581, 'MOMENT': 2741, 'SHOWR': 3486, 'Holder': 2254, 'Gee': 2039, 'Asking': 1097, '08712300220': 105, 'hesitate': 7111, 'loosing': 7887, 'struggling': 10141, 'orange': 8626, 'charlie': 5428, 'firesAre': 6581, 'afford': 4556, 'tel': 10352, 'stunning': 10160, 'nasty': 8360, '816183': 825, 'disaster': 6060, 'longer': 7877, 'Australia': 1109, 'comb': 5598, 'replacing': 9346, 'gre': 6936, 'sorryi': 9942, 'June': 2464, 'THAT\\x92S': 3871, '£3wk': 11392, 'help': 7089, 'Kusruthi': 2535, 'leastWhich': 7741, 'soil': 9900, 'Hogolo': 2251, 'approx': 4744, 'havnt': 7054, 'ipaditan': 7421, 'MRur': 2756, 'PLEASE': 3132, 'GR8FUN': 2016, 'needs': 8392, 'EVER': 1741, 'control': 5695, 'Maangalyam': 2770, 'Although': 1056, 'Let': 2622, 'prepaid': 9013, 'Tone': 4019, 'AfterNoon': 1020, 'bao': 4918, 'adult': 4541, 'manege': 8016, 'Howda': 2277, 'AcoEntry41': 1008, '2nights': 528, 'Hostbased': 2272, 'l8r': 7666, 'worried': 11169, 'TC': 3847, 'Spl': 3752, 'LRG': 2588, 'SENT': 3471, 'Lool': 2656, '5min': 716, 'dorm': 6130, 'wow': 11184, 'TOTALLY': 3903, 'sliding': 9839, 'intha': 7402, 'Thing': 3977, 'abdomen': 4463, 'decided': 5916, 'removal': 9327, 'somone': 9924, 'parts': 8746, 'ASTHERE': 981, 'divert': 6080, 'slowly': 9851, 'heal': 7063, 'LIKELY': 2561, 'ore': 8631, 'Serena': 3632, '£900': 11412, 'results': 9398, 'ARIES': 975, 'ANS': 967, 'sickness': 9765, 'wither': 11111, 'Wylie': 4358, 'BBlue': 1144, 'invite': 7410, 'knowhe': 7640, '077xxx': 35, 'UpdateNow': 4129, 'ENGLAND': 1728, 'calling': 5294, 'cha': 5402, 'neva': 8408, 'epsilon': 6336, 'memories': 8113, 'LDN': 2552, '6pm': 768, 'payoh': 8776, 'forth': 6676, '250': 458, 'maraikara': 8025, 'httpcareers': 7219, 'MONKEYAROUND': 2743, 'satisfy': 9544, 'People': 3199, 'Dick': 1661, 'enemy': 6306, 'mandara': 8015, 'hme': 7142, 'virtual': 10879, 'james': 7482, 'CONVINCED': 1394, 'Urgent': 4135, 'Name': 2949, 'couple': 5747, 'channel': 5416, 'bthmm': 5208, 'runninglets': 9494, '300603': 547, 'ga': 6773, 'black': 5059, 'Now4T': 3018, 'teacoffee': 10337, 'rush': 9497, 'Reaction': 3383, 'dare': 5858, 'aunt': 4844, 'REALLYNEED': 3333, '645pm': 739, 'sorta': 9944, 'national': 8362, 'format': 6671, 'viveki': 10889, 'meow': 8125, '80878': 819, 'sight': 9769, 'Sounds': 3740, 'dancce': 5848, '89070': 890, 'financial': 6561, 'brings': 5182, 'course': 5749, 'Goal': 2062, 'childporn': 5485, 'leftovers': 7749, 'westonzoyland': 11038, '£150week': 11379, 'REAL1': 3329, 'restocked': 9391, 'knowyetunde': 7646, 'Bone': 1281, 'hypertension': 7272, 'filthyguys': 6556, 'Dearshall': 1638, 'Dearregret': 1637, 'doke': 6114, 'greeting': 6946, 'netno': 8405, 'Gudnitetcpractice': 2099, 'plz': 8907, 'Nyt': 3028, 'sooooo': 9936, 'TCs': 3850, 'slice': 9836, '450': 635, 'HAVIN': 2123, 'olympics': 8583, 'sivatats': 9810, 'GBPweek': 1977, 'mei': 8100, 'freedom': 6700, 'lionm': 7822, 'Awww': 1116, 'TONEXS': 3896, 'Ranjith': 3376, '7am': 796, 'korean': 7654, 'records': 9270, 'frauds': 6694, 'SLEEPINGWITH': 3501, 'Whatsup': 4305, '08000839402': 53, 'wknd': 11124, '09077818151': 275, '08712404000': 115, 'staff': 10034, 'SOONC': 3519, 'Cine': 1483, 'streetshall': 10125, 'ertini': 6343, 'chaps': 5418, 'Care': 1440, 'week': 11006, 'Wicklow': 4315, 'holidayso': 7154, 'nvm': 8516, 'reasons': 9240, 'Question': 3314, 'Italian': 2387, 'XxX': 4379, 'computer': 5642, 'ran': 9191, 'Turns': 4056, 'collegexx': 5592, 'haircut': 7002, 'blue': 5093, 'fated': 6494, 'msgrcvd18': 8285, 'WEDLUNCH': 4205, 'waht': 10920, 'effects': 6255, 'save': 9549, 'invitation': 7409, 'ITxx': 2338, 'Cash': 1447, 'saidif': 9513, 'c': 5261, 'cousin': 5752, 'Everyday': 1808, 'POBox334': 3143, 'crowd': 5788, 'dismissial': 6073, 'chicken': 5470, 'woah': 11132, 'door': 6128, 'tease': 10342, 'phonebook': 8833, 'pongal': 8931, 'Normally': 3012, 'qet': 9150, 'SHEFFIELD': 3479, 'moneYas': 8239, 'perfume': 8804, 'owned': 8680, 'nowTCs': 8492, 'IAS': 2291, 'unsubscribed': 10760, 'BTHERE': 1199, 'grownup': 6962, 'UCALL': 4072, 'AVA': 986, '1013': 302, 'buffet': 5217, 'yeah': 11289, 'Common': 1505, 'mall': 8008, 'samantha': 9524, '£1450': 11370, 'irritated': 7428, 'administrator': 4531, 'Eerie': 1767, 'figuring': 6546, 'shelves': 9703, 'bt': 5207, 'QuizWin': 3319, 'thanksgiving': 10395, 'seven': 9670, '150pMSGRCVD': 357, 'annoncement': 4679, 'tht': 10469, 'motherfucker': 8262, 'early': 6222, 'exhibition': 6413, 'yuou': 11347, 'weakness': 10984, 'XXX': 4369, 'HAUGHAIGHGTUJHYGUJ': 2117, 'dats': 5876, 'uncles': 10717, 'Nooooooo': 3007, 'MP3': 2752, 'QatarRakhesh': 3308, 'late': 7709, 'listn': 7834, 'bruv': 5204, '07xxxxxxxxx': 49, 'seekers': 9616, 'SkillGame': 3699, 'Found': 1936, 'logo': 7865, 'meetins': 8095, 'references': 9282, 'gari': 6792, 'adi': 4528, 'thatnow': 10403, 'Hospitals': 2271, 'stated': 10062, 'Usf': 4139, 'unknown': 10748, 'Spoons': 3757, 'developed': 5992, 'steve': 10086, 'settled': 9668, 'flight': 6608, '21870000Hi': 441, 'footy': 6653, '0125698789': 6, 'Sends': 3627, 'Easter': 1758, 'Took': 4022, 'okie': 8571, 'stamped': 10041, 'AL': 957, 'Midnight': 2823, 'raise': 9183, 'warwick': 10957, 'everywhere': 6385, 'chances': 5411, 'nowSend': 8491, 'kaitlyn': 7566, 'strt': 10139, 'paces': 8689, 'Macha': 2773, 'Sitting': 3695, 'nxt': 8518, 'chiong': 5496, 'particularly': 8742, '3Lions': 581, 'amplikater': 4656, '09058094594': 203, 'gas': 6794, 'Kath': 2491, 'gong': 6889, 'Sol': 3722, 'treasure': 10628, 'Today': 4011, 'WHASSUP': 4214, 'unmits': 10751, '08715203652': 134, 'Saw': 3603, 'generally': 6814, 'apeshit': 4717, 'MEGA': 2710, '08718730666': 166, '9th': 932, 'messagepandy': 8138, 'promised': 9093, 'Sub': 3801, 'HOTMIX': 2154, 'outta': 8666, 'requests': 9357, 'leonas': 7764, 'BORNPLEASE': 1177, 'ShopWe': 3667, 'Concentrate': 1511, '09064018838': 242, 'temper': 10363, 'tough': 10594, 'MEETIN': 2709, 'differ': 6025, 'act': 4507, 'abuse': 4476, 'hurting': 7260, 'FUCKED': 1884, 'SAID': 3449, 'January': 2428, 'kanoanyway': 7576, 'Wasnt': 4272, 'truly': 10651, 'naseeb': 8359, 'strongly': 10138, 'letters': 7772, 'drivin': 6170, 'hot': 7196, 'nowadayslot': 8494, 'HmmBad': 2239, 'two': 10685, 'ambitious': 4644, 'Sugababes': 3807, 'synced': 10277, 'UKs': 4077, 'YEAHAND': 4384, 'jeevithathile': 7502, 'al': 4600, 'GIVEN': 1989, 'shame': 9688, 'inforingtonekingcouk': 7355, 'WIN': 4220, 'hundredhe': 7246, 'Come': 1503, 'whereare': 11053, 'wheat': 11048, 'parentsi': 8732, 'ultimatum': 10709, 'soul': 9951, 'ola': 8576, 'intention': 7391, 'complain': 5626, 'PoBox75LDNS7': 3248, 'dude': 6196, 'SPJanuary': 3532, 'fan': 6477, 'WORLD': 4235, 'noise': 8453, 'Kkits': 2523, 'Guessin': 2102, 'Becomes': 1239, 'Cashbincouk': 1448, 'S3XY': 3444, 'bestcongrats': 5015, 'alwa': 4640, 'violated': 10874, '69969': 755, 'edward': 6249, 'murdered': 8317, 'Calls': 1424, 'Astronomer': 1099, 'Sptv': 3762, 'Cheers': 1470, '0796XXXXXX': 46, 'WOMAN': 4230, 'possibleHope': 8960, 'Aww': 1115, 'nearby': 8376, 'others': 8644, 'mean': 8079, 'rentl': 9337, 'virgins': 10878, 'algorithms': 4611, '6ZF': 762, 'SmartCall': 3712, 'hen': 7096, 'Gr8': 2083, 'WORRIEDx': 4236, 'CameraVideo': 1431, 'steed': 10079, '07734396839': 30, 'assume': 4812, 'wkend': 11121, 'nit': 8442, 'hear': 7066, 'Lindsay': 2631, 'tree': 10634, 'steps': 10082, 'Response': 3417, 'guesses': 6975, '11mths': 325, 'shaking': 9686, 'COUNTINLOTS': 1397, 'significant': 9773, 'DIRTY': 1586, 'Devils': 1657, 'definitly': 5936, 'realize': 9231, '08714719523': 131, 'evn': 6389, 'anythiing': 4705, 'kane': 7573, 'offdam': 8544, '86021': 861, 'TOBED': 3887, 'genes': 6815, 'worldmay': 11165, 'DATE': 1568, 'Yupz': 4451, 'yogasana': 11311, 'clock': 5544, 'girlfrnd': 6845, 'payed': 8772, '89938': 897, 'FRNDSHIP': 1881, 'married': 8036, 'andres': 4667, '09066350750': 254, 'sorrow': 9939, 'deposit': 5965, 'tuition': 10668, 'admirer': 4532, 'SURE': 3569, 'befor': 4984, 'TIME': 3883, 'driving': 6171, 'housewives': 7204, '4EVA': 649, 'spageddies': 9964, 'hearted': 7071, 'vomitin': 10898, 'skyped': 9824, 'monos': 8246, 'clear': 5534, 'Top': 4023, 'LKPOBOX177HP51FL': 2569, '08704439680': 88, 'ahthe': 4587, 'mary': 8038, 'clas': 5525, 'Michael': 2822, 'GODI': 1995, 'TOPLAY': 3901, 'collect': 5586, 'official': 8556, '30pptxt': 552, 'Callers': 1421, 'f': 6443, 'fixed': 6593, 'pap': 8715, 'loko': 7870, '1Winawk': 410, 'Alrite': 1054, 'shipping': 9710, 'birthday': 5051, 'website': 10996, 'ninish': 8439, 'todaybut': 10527, 'REPLYS150': 3344, 'sleepin': 9830, 'GOODEVENING': 2002, 'njan': 8447, 'otside': 8647, 'Aslamalaikkuminsha': 1098, 'comingdown': 5611, 'Subscriptn3gbpwk': 3806, 'snuggles': 9893, 'choose': 5501, 'wishin': 11105, 'amp': 4655, 'truffles': 10650, 'Cutter': 1559, 'paperwork': 8719, 'Amrita': 1065, 'connection': 5671, 'business': 5241, 'copy': 5716, 'SOMETHING': 3515, 'Rs': 3440, 'Prof': 3287, 'W1A': 4189, 'wats': 10976, 'london': 7873, 'Forevr': 1932, 'unsoldmike': 10756, 'wahay': 10917, 'hotels': 7198, 'teach': 10333, 'Mountains': 2881, 'forced': 6655, 'PPL': 3161, 'carpark': 5355, 'monthly': 8249, 'mu': 8298, 'AMY': 964, 'ic': 7281, 'watts': 10977, 'Sprint': 3761, 'textand': 10379, 'quarter': 9154, 'traveling': 10623, 'Tsunami': 4049, 'faggy': 6454, 'tomorro': 10548, 'bluff': 5094, 'Hyde': 2290, 'mid': 8150, 'Upd8': 4127, 'wwwgambtv': 11234, 'MANEESHA': 2698, 'amount': 4654, 'luck': 7942, 'instantly': 7385, '4Press': 655, 'December': 1639, 'NYUSA': 2946, 'year': 11290, 'Auntie': 1108, 'jontin': 7537, 'comuk220cm2': 5645, 'xmas': 11266, 'wallpaperall': 10937, 'Erm': 1789, 'Yo': 4438, 'campus': 5307, 'amx': 4660, 'coherently': 5576, 'familiar': 6473, 'mapquest': 8023, 'sane': 9529, 'TONESReply': 3895, 'smash': 9859, 'ovulatewhen': 8674, 'facts': 6452, 'askd': 4800, 'Stylist': 3800, 'eg23G': 6259, 'difficulties': 6031, 'ard': 4755, 'dedicate': 5924, 'Buy': 1331, 'Yeah': 4416, 'LES': 2555, 'body': 5099, 'Oz': 3102, 'Cable': 1415, 'slo': 9844, 'cross': 5786, '08702490080': 85, 'THERES': 3876, 'moseley': 8259, 'stage': 10036, 'consistently': 5679, 'oxygen': 8684, 'WKENT150P16': 4228, 'GIVE': 1988, 'tightly': 10481, 'thank': 10392, 'admin': 4530, '09061701851': 220, 'influx': 7353, 'tryin': 10656, 'Chikku': 1472, 'Jada': 2422, '10803': 305, 'remembered': 9320, 'Squeeeeeze': 3763, 'Shant': 3650, 'ITNOW': 2334, 'Reflection': 3399, 'whole': 11063, 'scorable': 9575, 'lit': 7836, 'NR31': 2939, 'sucks': 10186, 'msg£150rcvd': 8292, 'tylers': 10693, 'red': 9275, 'last': 7706, 'apt': 4749, 'forwarded': 6681, 'Day': 1631, 'lion': 7821, 'linux': 7820, 'CNN': 1383, 'grocers': 6952, 'Eek': 1766, 'baller': 4907, 'checkboxes': 5445, 'SPECIAL': 3527, 'Langport': 2604, 'Wating': 4279, '7oz': 799, 'style': 10162, 'youkwhere': 11322, 'heading': 7059, 'spending': 9989, 'Armand': 1087, 'pull': 9123, 'Carry': 1445, 'chennaibecause': 5456, 'secret': 9604, 'happiest': 7032, 'readiness': 9222, 'practical': 8989, 'sorted': 9945, 'polyH': 8925, 'shangela': 9689, '08719899217': 176, 'passport': 8757, 'Boltblue': 1280, '1010': 301, 'slovely': 9847, 'usb': 10790, 'walks': 10933, '09050005321': 190, 'main': 7997, 'Filling': 1908, '£1000CALL': 11366, 'Shijas': 3658, 'greatbhaji': 6938, 'hilariousalso': 7123, 'sense': 9645, 'CUP': 1409, '09111032124': 289, 'Soul': 3739, 'acc': 4481, 'forward': 6680, 'Regards': 3401, 'predict': 9005, 'tap': 10313, 'Thinkin': 3980, 'UPDAT': 4084, 'fletcher': 6605, 'currently': 5814, 'tomarrow': 10544, 'exe': 6407, 'FFFFUUUUUUU': 1841, 'booking': 5113, 'hrs': 7215, 'AllahRakhesh': 1048, 'Organizer': 3096, '£150perweeksub': 11376, 'batt': 4944, 'Echo': 1762, 'pretsovru': 9031, 'BACK': 1130, 'pleased': 8895, 'BOX385': 1183, 'availablei': 4856, '88039': 877, '\\x93Harry': 11357, 'show': 9744, '0870141701216': 80, 'retard': 9401, 'ru': 9480, 'Started': 3773, 'nz': 8522, 'clearer': 5536, 'youll': 11324, 'walked': 10930, '50p': 689, 'missunderstding': 8200, 'Hear': 2200, 'customer': 5820, 'lineyou': 7815, 'Alwys': 1058, 'disappeared': 6058, 'andrewsboy': 4668, 'degrees': 5938, 'prescribed': 9018, 'Aaniye': 993, 'documents': 6096, 'Collect': 1500, 'nichols': 8424, 'Lies': 2625, 'Indyarockscom': 2368, 'Arngd': 1089, 'DEL': 1580, '£s': 11413, 'afterwards': 4564, 'skinny': 9816, '08717895698': 149, 'sweetie': 10262, 'MITE': 2731, 'Jen': 2434, 'selection': 9629, 'bulbs': 5222, 'grave': 6933, '83118': 836, 'quiet': 9162, 'IBN': 2294, 'Videos': 4174, '9pm': 930, 'Ref9280114': 3396, 'picking': 8846, 'Muz': 2898, '177': 386, 'welp': 11027, 'Frnd': 1955, 'WAIT': 4194, 'profit': 9083, 'Pub': 3298, 'Atlanta': 1101, 'relaxing': 9308, 'Hack': 2170, 'irritation': 7430, 'arrested': 4781, 'bakrid': 4905, 'weds': 11002, 'Someonone': 3727, 'Kothi': 2532, 'center': 5396, 'Dave': 1630, 'grateful': 6932, 'nevr': 8412, 'overheating': 8671, 'Orh': 3097, '311004': 558, 'madam': 7977, '60pmin': 729, 'Jeri': 2438, 'salespee': 9519, 'shd': 9697, 'Mwahs': 2899, 'W45WQ': 4192, 'keeps': 7590, 'matter': 8055, 'REALLY': 3332, 'students': 10146, 'Ew': 1816, 'fooled': 6647, '1DA': 399, 'MISSED': 2727, 'faultal': 6500, 'magicalsongsblogspotcom': 7989, 'opps': 8616, 'wondar': 11139, 'Idea': 2347, 'n8': 8337, 'area': 4757, 'blanket': 5067, 'Thts': 3989, '68866': 743, 'PRICE': 3164, 'stuffs': 10158, 'Missing': 2839, 'ring': 9427, 'meal': 8077, 'hamster': 7010, 'responsible': 9385, 'finished': 6572, 'uh': 10704, 'maggi': 7986, 'hearin': 7068, 'spouse': 10016, 'Stupid': 3797, 'tolerance': 10541, 'Guys': 2107, 'meok': 8124, 'Complete': 1509, 'blackand': 5060, 'changes': 5414, 'Bloomberg': 1272, 'Promo': 3288, 'Pest': 3206, 'guys': 6985, 'Activate': 1009, 'TAJ': 3836, 'jealous': 7499, 'vijay': 10866, 'msgsubscription': 8290, 'stations': 10066, 'START': 3545, 'delivered': 5949, 'breathe': 5165, 'BCK': 1145, 'utter': 10807, '20M12AQ': 435, 'Natalie': 2952, 'cstore': 5796, 'Mobileupd8': 2856, 'adults': 4542, 'Dizzee': 1682, 'vasai': 10835, 'vodka': 10893, 'hanging': 7022, '18only': 392, 'someones': 9910, 'chikkusimple': 5481, 'inperialmusic': 7375, 'diwali': 6083, 'Seventeen': 3637, 'dreamlove': 6155, 'finishd': 6571, 'Termsapply': 3949, 'coping': 5714, 'ashes': 4795, 'leona': 7762, 'casualty': 5372, 'supportproviding': 10230, 'nite': 8443, '21st': 443, 'CASH': 1353, 'Wnevr': 4335, 'converter': 5699, 'luck2': 7943, 'wo': 11131, 'E': 1717, 'teasing': 10343, 'ishtamayoohappy': 7437, '08718726971': 158, 'california': 5273, '2nite': 529, 'Kens': 2497, 'ystrdayice': 11343, 'sigh': 9767, 'GRAN': 2017, 'hour': 7199, 'lotto': 7904, 'Bring': 1312, 'deposited': 5966, 'shore': 9728, 'Incredible': 2361, 'risk': 9436, 'wikipediacom': 11078, 'shopping': 9726, 'Argh': 1085, 'GURL': 2024, 'edrunk': 6245, 'SUNDAY': 3567, 'talking': 10304, 'arguing': 4764, 'Wire3net': 4328, 'airtel': 4596, 'WISH': 4222, 'sales': 9517, 'provider': 9111, 'mad': 7976, 'ages': 4575, 'carlos': 5351, 'Irritates': 2383, 'Geeeee': 2041, '5000': 687, 'watched': 10967, 'godtaken': 6876, 'Rajnikant': 3373, 'Hasnt': 2192, 'Apart': 1074, 'os': 8641, 'Reminding': 3410, 'auto': 4851, 'earlier': 6219, '4u': 678, '150PPM': 355, 'landing': 7688, 'kothi': 7658, 'browse': 5199, 'stop': 10106, 'ya': 11279, 'Something': 3728, 'godYou': 6873, 'residency': 9371, 'Lmao': 2641, 'essential': 6356, 'turn': 10672, 'sts': 10142, 'subscribed': 10173, 'officeunderstand': 8554, 'FREE2DAY': 1866, 'SPEEDCHAT': 3529, 'Brother': 1317, 'thenwill': 10414, 'nd': 8373, 'tsunamis': 10660, 'LOOKIN': 2578, 'dryer': 6189, '5WB': 709, 'detail': 5985, 'Sort': 3737, 'Flirt': 1921, 'sOOn': 9501, 'SHITIN': 3482, '150pMsgrcvdHGSuite3422LandsRowW1J6HL': 360, 'textin': 10382, 'beeen': 4979, 'Yesim': 4431, 'start': 10053, 'worlds': 11166, 'plm': 8899, 'Dude': 1713, 'Gotta': 2082, 'jokes': 7531, 'reunion': 9408, 'king': 7622, 'little': 7838, 'buns': 5227, 'theyre': 10427, 'hunt': 7254, 'lined': 7812, 'depends': 5964, 'ph': 8823, 'progress': 9086, '5226': 693, 'Predicte': 3272, '505060': 688, 'wudnt': 11205, 'tendencies': 10366, 'upset': 10772, 'God': 2063, '8Ball': 899, 'stars': 10051, 'brolly': 5189, 'skirt': 9820, 'Wright': 4353, '08718723815': 153, '2005': 430, 'guy': 6984, 'pendingi': 8792, 'ron': 9458, 'spoke': 10006, 'INDYAROCKSCOM': 2318, 'lengths': 7759, 'self': 9630, 'M263UZ': 2687, 'Fr': 1937, 'hep': 7098, 'thesis': 10424, '09065394973': 251, 'burn': 5232, 'Noi': 2997, 'gOoD': 6772, 'ouch': 8649, 'towards': 10597, 'tongued': 10556, 'traffic': 10603, 'TEXD': 3859, 'archive': 4754, 'associate': 4811, 'PRIVATE': 3166, 'SUZY': 3571, 'wanted': 10947, 'MISSIN': 2728, 'asthma': 4814, 'goods': 6901, 'laughing': 7720, 'regarding': 9294, 'kim': 7618, 'else': 6282, 'definite': 5934, 'Break': 1307, 'musthu': 8325, 'responsibility': 9384, 'Annoying': 1067, 'BANG': 1135, 'Aiya': 1034, 'BREAKIN': 1192, 'wear': 10987, 'Rightio': 3422, 'totally': 10590, 'ctla': 5797, 'SHOW': 3485, 'smokin': 9873, 'nonetheless': 8462, 'Ami': 1063, 'change': 5412, 'meeting': 8094, 'WRLD': 4248, 'babyjontet': 4889, 'supply': 10228, 'completes': 5633, 'beauty': 4967, '2DOCDPLEASE': 481, 'acsmsrewards': 4506, 'callback': 5285, 'minimum': 8173, 'some1': 9906, 'netflix': 8404, 'uncomfortable': 10718, 'walmart': 10939, 'FINISH': 1851, 'figures': 6545, 'chuck': 5511, 'burnt': 5235, 'Dont': 1694, 'labor': 7670, 'relationshipits': 9305, 'CHATLINES': 1368, 'sd': 9592, 'passionate': 8756, 'pain': 8700, 'John': 2446, 'tantrums': 10312, 'parking': 8738, 'cheap': 5439, '81151': 822, 'write': 11189, 'FRAN': 1863, 'phrase': 8839, 'surya': 10248, 'ORANGE': 3046, 'reslove': 9373, 'shoulders': 9737, 'bedroom': 4978, 'fyi': 6768, 'Mornings': 2875, 'Shahjahans': 3645, 'BARMED': 1138, 'msgsD': 8288, 'patent': 8761, 'avoid': 4866, 'Holy': 2259, 'Ohas': 3060, 'enjoying': 6316, 'latr': 7718, 'rpl': 9475, 'Provided': 3292, 'RingtoneFrom': 3425, 'Sthis': 3782, 'i\\x92m': 7470, 'error': 6341, 'KeralaCircle': 2500, '11414': 319, 'held': 7082, 'dunno': 6206, '09058094597': 204, 'Pity': 3228, 'pc': 8778, 'MSGWe': 2759, 'srt': 10028, 'Exam': 1818, 'HU': 2162, 'alle': 4620, 'spoiled': 10004, 'flights': 6609, 'remember': 9319, 'urgent': 10779, 'pressure': 9027, 'Onum': 3080, '2channel': 508, 'closes': 5551, 'healthy': 7064, 'wwwLdewcom1win150ppmx3age16': 11216, 'Soany': 3721, 'sandiago': 9528, '8lb': 905, 'reg': 9292, 'fair': 6460, 'xavier': 11263, 'CHAT': 1367, 'Ela': 1772, 'reschedule': 9362, 'strtd': 10140, 'without': 11113, '09061701939': 221, 'maturity': 8059, 'met': 8144, 'freezing': 6705, 'baskets': 4934, '21m': 442, 'owe': 8677, 'Incorrect': 2360, 'custcare': 5818, 'Active': 1010, '£10000': 11364, 'Waves': 4282, 'hos': 7191, 'bcums': 4956, 'credit': 5774, 'DOESNT': 1592, 'feb': 6512, 'tc': 10330, 'quality': 9153, 'beforewent': 4986, 'days': 5885, '8th': 908, 'Boys': 1301, 'catches': 5375, '150pwk': 376, 'frontierville': 6737, 'intro': 7404, 'decades': 5914, '4goten': 667, 'chikkuDB': 5476, 'SAD': 3447, 'classes': 5528, 'ie': 7297, 'Cha': 1456, 'Hands': 2181, 'I\\x92ve': 2399, 'Cool': 1519, 'Virgin': 4178, '3u': 602, 'Fingers': 1915, 'sees': 9622, 'matured': 8058, 'Gosh': 2078, '2MOROW': 491, 'naked': 8345, 'FIT': 1853, 'namemy': 8350, 'idea': 7290, 'UnSub': 4113, 'frens': 6708, 'DAY2': 1571, 'eerie': 6252, 'UK': 4074, 'hi': 7116, 'outrageous': 8660, '100s': 300, 'limping': 7809, 'RTKIng': 3362, '4some1': 672, 'O2FWD': 3031, 'nicky': 8425, 'youdearwith': 11319, 'Including': 2358, '8Neighbour': 901, 'compofstuff': 5637, '£2000': 11384, 'want2come': 10946, '300p': 549, 'BOX': 1180, 'morphine': 8258, 'Ranju': 3377, 'packing': 8693, 'favour': 6506, 'ethreats': 6361, 'laptop': 7700, 'chatting': 5438, '50s': 690, '1LemonDayNo': 404, '087147123779am7pm': 125, 'wins': 11096, 'digi': 6033, 'reacting': 9218, 'prods': 9077, 'hereremember': 7101, '2GETHA': 484, 'field': 6536, 'wordCOLLECT': 11151, 'rich': 9418, '16': 382, 'morningtake': 8257, 'pink': 8862, 'question': 9156, 'potato': 8970, 'sayhey': 9556, '4got': 666, 'ramen': 9190, 'battery': 4945, 'prob': 9062, 'burgundy': 5230, 'BeerRs': 1242, 'calld': 5288, 'sky': 9821, 'problemi': 9068, 'depressed': 5967, 'daal': 5833, 'wks': 11125, '2MORRO': 492, '07008009200': 21, 'realy': 9235, 'BT': 1198, 'basketball': 4933, 'mac': 7968, 'refilled': 9285, 'Gd': 2037, 'unredeemed': 10754, 'upgrading': 10765, 'reset': 9370, '08714712388': 127, 'ortxt': 8639, 'li': 7775, 'Ay': 1117, 'C': 1337, '09065989180': 252, 'logopic': 7867, 'courtroom': 5751, 'getstop': 6830, 'MISTAKEU': 2730, 'grandmas': 6928, 'Tomarrow': 4017, 'ringtoneget': 9430, 'bribe': 5170, 'dayhas': 5884, 'sum': 10203, '£800': 11411, 'we\\x92ve': 11043, 'funny': 6763, 'Mayb': 2805, 'CHANCE': 1364, 'souveniers': 9960, 'againloving': 4566, 'FIZZ': 1854, 'Lover': 2665, 'tahan': 10292, '09050000928': 185, 'husband': 7262, 'LeafDayNo': 2615, 'onwards': 8598, '87239': 874, 'SAUSAGELOVE': 3456, 'iPOD': 7274, 'CW25WX': 1412, 'galileo': 6778, 'varaya': 10830, 'lies': 7785, '924': 913, 'kind': 7619, 'interested': 7394, '1st4Terms': 418, 'disastrous': 6062, 'flood': 6616, 'somewhat': 9921, 'bills': 5040, 'kuch': 7661, 'MESSED': 2716, 'Titles': 4003, 'yellow': 11293, 'along': 4627, 'SATJUST': 3452, 'minutes': 8182, 'Amazing': 1060, 'Twittering': 4060, 'airport': 4595, 'uterus': 10806, 'ArPraveesh': 1081, 'pases': 8749, 'thirunelvali': 10440, 'WTF': 4250, 'Dey': 1658, 'lanka': 7696, 'everybody': 6377, '08717205546': 144, 'getsleep': 6829, 'Aeronautics': 1016, 'hits': 7137, 'thoso': 10447, 'hudgi': 7234, 'daywith': 5891, 'Dolls': 1691, 'REGRET': 3340, 'slap': 9827, 'verified': 10845, 'fgkslpoPW': 6534, 'simonwatson5120': 9783, 'triumphed': 10642, 'Wtf': 4355, 'fondly': 6642, 'videosound': 10862, 'evenings': 6371, 'oreo': 8633, 'important': 7319, '08715203656': 135, 'timi': 10494, 'NOKIA': 2933, 'cysts': 5831, 'buses': 5239, 'YEAR': 4385, '6Cruel': 757, 'showroomscity': 9750, 'texted': 10381, 'natural': 8365, 'Requests': 3415, 'innocent': 7372, 'Sorryin': 3736, 'Bcm': 1230, 'LOCAXX': 2572, 'HEART': 2125, 'FILTH': 1846, 'fills': 6552, 'buy': 5248, 'worrying': 11172, 'Toll': 4015, 'receiving': 9255, 'K61': 2470, 'mite': 8205, 'Verify': 4169, 'Dips': 1671, 'dial': 6003, 'OK': 3037, 'crash': 5763, 'reflex': 9286, 'Amy': 1066, 'savings': 9552, 'joker': 7530, 'dinero': 6042, 'Nimbomsons': 2984, 'agalla': 4567, 'regard': 9293, 'MobcudB': 2851, 'Quiz': 3318, 'paining': 8703, 'points': 8918, 'HP20': 2159, 'gone': 6888, 'WAP': 4200, 'stick': 10090, '5we': 721, 'evil': 6388, 'careswt': 5346, 'garbage': 6790, 'flirt': 6613, 'erupt': 6345, 'No1': 2988, 'MALL': 2696, 'DOUBLE': 1602, 'jacuzzi': 7479, 'dad': 5836, 'PERIL': 3117, 'Muhommad': 2889, 'census': 5395, 'homecheck': 7161, 'rumbling': 9489, 'excuse': 6404, 'TEL': 3854, 'shoot': 9723, 'hes': 7109, 'hittng': 7139, '420': 618, 'replacement': 9345, 'BRAND': 1190, 'Simpsons': 3684, 'Reach': 3382, '69669': 746, 'Ashley': 1094, 'conference': 5658, 'TheMobYo': 3969, 'ISNT': 2331, 'typical': 10697, 'meds': 8090, 'gv': 6986, 'Datz': 1629, 'Networking': 2964, 'bk': 5058, '85069': 856, 'showing': 9749, 'Holiday': 2256, 'fat': 6493, 'Great': 2088, 'yes': 11297, 'pretend': 9029, 'Expected': 1823, 'firsg': 6583, 'Thanks': 3958, '7WS': 794, 'thatd': 10399, 'Handset': 2182, 'uniform': 10740, 'Discussed': 1676, '2703': 467, 'gist': 6848, 'craziest': 5768, 'borderline': 5119, 'Squishy': 3764, 'Nope': 3009, 'downloads': 6142, 'bookedthe': 5112, 'Idk': 2349, 'JorgeShock': 2457, 'follow': 6636, 'message': 8133, 'valueMorning': 10827, 'tried': 10638, 'Helpline': 2217, 'de': 5892, '0794674629107880867867': 45, '3g': 594, 'FMyou': 1858, 'TA': 3835, 'DABOOKS': 1562, 'citylink': 5518, 'frnt': 6732, 'Probably': 3285, 'male': 8007, 'billy': 5041, 'sunday': 10211, '6th': 770, 'subtoitles': 10180, 'chores': 5505, 'Hmph': 2247, 'REVEAL': 3346, 'XXXXXX': 4373, 'celebration': 5393, 'kotees': 7657, 'Phony': 3218, 'Pin': 3225, 'MORNING': 2749, 'budget': 5214, 'guoyang': 6982, 'Real': 3387, 'Obviously': 3054, 'meis': 8102, 'nelson': 8401, 'upseti': 10773, 'Wld': 4333, 'photoshop': 8838, 'Gossip': 2079, 'datoday': 5875, 'It‘s': 2393, 'suggestion': 10198, 'timeslil': 10492, 'Warm': 4270, '310303': 557, '25': 457, 'book': 5110, 'rude': 9483, 'sources': 9957, 'geting': 6827, 'coat': 5567, 'LookAtMe': 2653, 'machines': 7971, 'Dai': 1618, 'weed': 11004, 'strips': 10136, 'server': 9660, '20000': 427, 'Blu': 1273, 'topicsorry': 10576, 'equally': 6337, 'Macedonia': 2772, '145': 350, 'grins': 6950, '09050001808': 187, 'handed': 7012, 'vibrator': 10854, 'eating': 6237, 'drinks': 6167, 'gd': 6806, 'Den': 1649, 'deyi': 5998, 'Surly': 3824, 'ticket': 10477, 'makiing': 8002, 'UNLIMITED': 4082, 'undrstndng': 10731, 'disagreeable': 6057, 'saucy': 9548, 'Know': 2531, 'den': 5954, 'Thanku': 3959, 'Blueu': 1276, 'FRNDS': 1880, 'lifeThis': 7787, 'fill': 6549, 'configure': 5660, 'creep': 5777, 'Voila': 4182, 'happily': 7033, 'window': 11087, 'h': 6991, 'fetch': 6530, 'unconsciously': 10721, 'beads': 4960, 'parties': 8743, 'English': 1785, 'hav': 7048, 'IG11': 2299, 'flaky': 6598, '071104': 26, 'lyrics': 7963, 'SUBPOLY': 3562, 'dearloving': 5906, 'Blind': 1269, '8am': 903, 'offline': 8558, 'goals': 6869, 'tight': 10480, 'took': 10566, 'swing': 10268, 'profile': 9081, 'Sos': 3738, 'likes': 7803, 'Trying': 4043, '£150perWKsub': 11375, 'Ibiza': 2342, 'ppm': 8984, 'Customer': 1554, 'remet': 9321, 'bridge': 5171, 'sariyag': 9537, '2NITE': 495, 'experiencehttpwwwvouch4mecometlpdiningasp': 6421, 'OUTSOMEWHERE': 3052, 'Says': 3605, 'SkillGame1Winaweek': 3700, 'En': 1780, 'rileys': 9425, 'waking': 10926, 'speeding': 9983, 'footblcrckt': 6650, 'str': 10117, 'BABEPROBPOP': 1125, 'polytruePixRingtonesGames': 8930, 'prin': 9043, 'belongs': 5004, 'Takin': 3925, 'HL': 2139, 'successful': 10182, 'video': 10859, 'OTHERWISE': 3049, 'Weightloss': 4290, 'Awesome': 1114, 'ducking': 6195, 'Videophones': 4173, 'spys': 10021, 'skyving': 9825, 'chords': 5504, 'Jenny': 2435, 'hand': 7011, 'icky': 7285, 'Youd': 4440, 'able': 4468, 'elama': 6275, 'Hols': 2258, 'cupboard': 5809, 'genuine': 6820, 'kicks': 7609, 'i‘m': 7472, 'hiya': 7140, 'rule': 9487, 'FLOWER': 1856, 'Tmrw': 4007, 'VALUED': 4147, 'groundamla': 6957, 'Hhahhaahahah': 2224, 'Mnths': 2848, 'Chinese': 1475, 'Ur': 4133, 'notebook': 8477, 'connected': 5670, 'VILLA': 4152, 'SOON': 3518, 'Starts': 3775, 'rcv': 9209, 'I‘m': 2401, 'Racal': 3367, 'cinema': 5515, 'Bored': 1289, 'huge': 7236, 'spoken': 10007, 'waste': 10962, 'mel': 8104, 'We‘re': 4302, 'moments': 8234, 'SORTEDBUT': 3522, 'gods': 6875, 'FIND': 1848, 'Abt': 1000, 'FUNNY': 1889, 'PRESCHOOLCOORDINATOR': 3163, '09058095201': 207, 'city': 5517, 'fr': 6691, 'Arun': 1093, 'Election': 1773, 'hdd': 7055, 'read': 9220, '29100': 476, 'postal': 8963, '2morrowxxxx': 522, 'beg': 4987, 'Goodmorningmy': 2072, 'never': 8410, '0089my': 2, 'NEVER': 2914, 'Orange': 3091, 'REMINDER': 3342, 'bathe': 4940, 'salt': 9522, '10am7pm': 308, '330': 565, 'Whatever': 4303, 'ending': 6300, 'bless': 5072, 'Mittelschmertz': 2841, 'mahal': 7991, 'atrocious': 4824, 'NRI': 2940, 'Miss': 2837, 'pence': 8789, 'GAS': 1971, 'paragraphs': 8724, 'ViVa': 4171, 'years': 11291, 'Tyler': 4067, 'entirely': 6327, 'BABE': 1124, 'kgood': 7603, 'cute': 5824, '447797706009': 627, 'posh': 8950, 'FA': 1833, 'pocy': 8914, 'Jay': 2431, 'Moral': 2871, 'Wherres': 4313, 'named': 8349, 'begun': 4992, 'borin': 5121, 'bloo': 5085, 'moji': 8229, 'sculpture': 9591, 'oath': 8525, 'technical': 10345, 'phoned': 8834, 'sooner': 9932, 'BABY': 1128, 'Studying': 3795, 'Hav': 2193, '87021': 867, 'Moji': 2859, 'wud': 11204, 'contents': 5689, 'Lacsthere': 2599, 'Netcollex': 2962, 'YEAH': 4383, '84': 846, 'actually': 4517, 'dvg': 6213, 'meaning': 8080, 'burger': 5229, 'Bright': 1310, 'contains': 5686, 'dialling': 6004, 'pole': 8921, 'NUMBERSO': 2943, 'mobs': 8219, '4wrd': 682, 'diff': 6024, 'Yest': 4434, 'always': 4641, 'app': 4723, 'TOMORW': 3892, 'Baby': 1213, 'hunks': 7250, 'lecturer': 7747, 'HMV1': 2143, 'bandages': 4911, 'actin': 4509, 'TCRW1': 3849, 'tookplace': 10567, 'lim': 7805, 'Fear': 1899, 'Saristar': 3597, 'called': 5290, '5WE': 710, 'destination': 5983, 'chikkuil': 5479, 'resub': 9394, 'rec': 9246, 'Kkare': 2517, 'reference': 9281, '18': 387, 'twat': 10680, 'Questions': 3315, 'lt': 7933, 'meive': 8103, 'vegas': 10838, 'absolutely': 4472, 'Hell': 2208, 'granted': 6929, 'department': 5962, 'winner': 11094, 'OLD': 3040, 'can\\x92t': 5323, 'Tom': 4016, 'emigrated': 6293, 'cheery': 5451, 'Loves': 2667, 'slurp': 9852, 'Therell': 3972, 'FANTASTIC': 1836, 'employee': 6294, 'TITLE': 3885, 'WRK': 4245, 'non': 8459, 'result': 9397, 'ride': 9421, 'Club4': 1491, '07973788240': 47, 'poly': 8924, 'surf': 10239, 'busy': 5243, 'HELL': 2126, 'french': 6707, 'Spoke': 3755, '08714712412': 129, 'weathers': 10992, 'habit': 6994, 'foregate': 6656, 'STUDENTFINANCIAL': 3558, 'debating': 5912, 'kid': 7610, 'macleran': 7974, 'past': 8759, 'parent': 8729, 'simply': 9786, 'digits': 6035, 'spice': 9991, 'filling': 6551, 'network': 8406, 'bleak': 5070, 'praps': 8997, 'b4280703': 4883, 'you\\x92re': 11337, 'knew': 7636, 'ax': 4877, 'term': 10368, 'Check': 1467, 'um': 10710, 'sake': 9514, 'value': 10826, 'miltaZindgi': 8160, 'explicitly': 6429, 'Fantasy': 1896, 'accounting': 4497, 'theredo': 10418, 'dis': 6056, 'Thanx': 3961, 'wt': 11199, 'swear': 10258, '\\x91MORROW': 11355, 'Coffee': 1496, 'cashto': 5367, 'beyond': 5023, 'isnt': 7440, 'mathematics': 8051, '2waxsto': 538, 'breakfast': 5161, 'Matrix3': 2801, 'lookin': 7882, 'Hmmmhow': 2242, 'Purity': 3299, 'positions': 8953, '£71': 11407, 'sameso': 9526, 'yday': 11288, 'weeddeficient': 11005, 'JordanTxt': 2456, '09066364589': 263, 'disasters': 6061, 'Ltd£150Mtmsgrcvd18': 2673, '2p': 532, 'konw': 7652, 'inches': 7333, 'elaborating': 6273, 'prayingwill': 9002, 'F': 1832, 'amt': 4658, 'numberpls': 8509, 'Knock': 2530, 'fancy': 6480, 'sim': 9782, 'Raj': 3370, 'VALENTINES': 4146, 'tagged': 10291, 'ashwini': 4797, 'prescripiton': 9019, 'cosign': 5728, 'cust': 5817, 'still': 10093, 'Tonight': 4021, 'Atlast': 1102, 'Neither': 2960, '1st': 417, 'community': 5618, 'SplashMobile': 3753, 'ammo': 4649, 'planned': 8880, 'ice': 7283, 'lv': 7957, 'lage': 7679, 'itjust': 7455, 'onluy': 8594, 'Euro2004': 1798, 'offers': 8549, 'New': 2968, 'inspection': 7380, 'Match': 2798, 'DOIN': 1594, 'LAST': 2547, 'sweet': 10261, 'water': 10972, 'coccooning': 5569, 'jokethet': 7532, 'Friends': 1952, 'TCsBCM4235WC1N3XX': 3851, 'gona': 6887, 'SLO4msgs': 3504, 'SMILEY': 3505, 'wquestion': 11185, 'onwords': 8599, 'goa': 6867, 'hide': 7118, 'comment': 5614, 'VAT': 4148, 'Lux': 2681, 'stuck': 10144, 'babysit': 4890, 'restaurant': 9389, 'performed': 8803, 'pixels': 8868, 'wwwringtonekingcouk': 11243, 'snickering': 9887, 'starshine': 10052, 'don\\x92t': 6125, 'LIFE': 2558, 'ritten': 9439, 'LOT': 2581, 'teju': 10351, 'Faith': 1894, 'aids': 4590, 'overdid': 8669, 'april': 4747, 'yun': 11345, 'Kkapo': 2516, 'miss': 8191, 'attach': 4825, 'WENWECAN': 4211, 'ASUSUAL1': 982, 'dont': 6123, 'clean': 5532, 'TV': 3913, 'eight': 6266, 'Subscribe6GBPmnth': 3803, 'Misplaced': 2836, 'Brilliant': 1311, 'infections': 7351, 'opposed': 8614, 'yr': 11341, 'EACHOTHER': 1719, '09061702893': 222, 'tarpon': 10316, 'presence': 9021, 'L8TR': 2540, 'islands': 7439, 'zed': 11350, 'slept': 9835, 'sending': 9642, 'hubby': 7232, 'things': 10432, 'Save': 3602, 'diamonds': 6007, 'dint': 6047, 'Kkthis': 2524, 'butting': 5246, 'HON': 2146, '09071517866': 274, '30Apr': 551, '2Untamed': 502, 'tgxxrz': 10387, 'Meanwhile': 2808, 'understanding': 10727, 'del': 5941, 'X49Your': 4363, 'earthsofa': 6227, 'Dun': 1714, 'spoil': 10003, 'rem': 9315, 'upping': 10771, '1u': 421, '25p': 461, '220CM2': 445, 'wrecked': 11186, 'aunties': 4845, 'bedrm': 4976, 'view': 10865, 'returned': 9405, 'Woo': 4340, 'huh': 7239, 'Pray': 3270, 'Yunny': 4449, 'reminds': 9326, 'Ima': 2353, 'luvd': 7954, 'stifled': 10092, 'less': 7765, 'isare': 7434, 'Beth': 1251, 'Mmmmmmm': 2847, 'railway': 9180, 'inc': 7331, 'amigos': 4646, 'OceanD': 3055, 'humanities': 7242, 'broke': 5187, 'Darren': 1623, 'confirm': 5661, '725': 774, '4give': 665, 'sathy': 9541, 'Lul': 2679, 'atm': 4823, 'hugging': 7237, 'piss': 8865, 'finns': 6576, '09066660100': 271, 'sura': 10236, 'Pharmacy': 3214, 'ext': 6434, 'PIN': 3128, 'hmmm': 7144, 'btwn': 5210, 'Wa': 4252, 'outs': 8662, 'sharing': 9694, 'Sometimes': 3729, 'combination': 5599, 'even': 6369, 'worc': 11149, 'lingo': 7817, 'b4190604': 4882, 'develop': 5991, 'GIRLS': 1986, 'respond': 9380, 'barely': 4922, 'Christians': 1479, 'ate': 4820, '09061743811': 226, 'denis': 5956, 'hols': 7157, 'sir': 9797, 'ennal': 6318, 'burns': 5234, 'share': 9692, 'colours': 5597, 'mess': 8132, 'Adrian': 1014, 'class': 5527, 'inshah': 7378, 'Yesmum': 4432, 'gr8': 6918, 'Hitechnical': 2232, 'yeovil': 11294, 'BOX334SK38ch': 1182, 'across': 4505, 'morning': 8256, 'CAUSE': 1356, '08718738001': 167, 'terrific': 10371, 'YMCA': 4398, 'RED': 3339, 'blow': 5090, 'ruining': 9486, '60400thousadi': 727, 'tddnewsletteremc1couk': 10331, 'BORED': 1175, '09099726429': 285, 'wellyou': 11026, 'formatting': 6672, 'notes': 8478, 'aquarius': 4751, '1680': 383, 'sunlight': 10213, 'renewal': 9331, 'RV': 3366, 'leonardo': 7763, 'lifeis': 7790, 'M221BP': 2684, 'Poor': 3259, '12Mths': 336, '88088': 880, 'post': 8962, 'academic': 4480, 'Sonetimes': 3731, 'Duchess': 1712, 'increase': 7341, 'parkin': 8737, 'CAL': 1340, 'sashimi': 9538, 'maintaining': 7998, 'DVD': 1614, 'Peace': 3196, 'aha': 4581, 'LOG': 2573, 'memorable': 8112, 'Ball': 1219, 'watchng': 10971, 'blowing': 5091, 'pay': 8769, 'melt': 8107, 'sink': 9794, 'b': 4880, 'chikkuali': 5477, 'TEX': 3858, 'planet': 8878, 'call2optoutYHL': 5284, 'nature': 8366, 'SK38XH': 3497, 'India': 2364, 'father': 6495, 'grandma': 6927, 'fones': 6644, '9061100010': 911, 'Loans': 2645, '5903': 702, '£50': 11397, 'ILL': 2306, 'glad': 6855, 'shaved': 9696, 'hello': 7087, 'gucci': 6970, 'Hurt': 2288, 'Auction': 1104, 'gloucesterroad': 6863, 'Safe': 3584, 'potential': 8971, 'appointments': 4736, 'machan': 7969, 'homeBut': 7160, 'Dint': 1670, 'sterling': 10084, 'latei': 7711, 'Nowadays': 3019, '08000407165': 51, 'stadium': 10033, 'sms': 9876, 'flat': 6601, 'wwwbridalpetticoatdreamscouk': 11225, 'etc': 6359, 'use': 10793, 'Opt': 3088, 'approve': 4742, 'coupla': 5746, '08718720201': 152, 'gossip': 6905, 'town': 10598, 'becz': 4972, 'Limited': 2630, 'arnt': 4776, 'prestige': 9028, 'coulda': 5739, 'Symbol': 3831, 'BREATHE1': 1193, 'description': 5974, 'terrible': 10370, '09066368470': 265, 'punish': 9128, 'cedar': 5388, '6times': 771, 'MoralDont': 2872, 'objection': 8529, 'Moms': 2863, 'served': 9659, '2Bajarangabali': 479, 'Iriver': 2382, 'sun': 10209, 'panren': 8712, 'fantasies': 6482, 'fellow': 6525, 'neighbor': 8398, 'PushButton': 3301, 'PasswordsATMSMS': 3192, 'Prashanthettans': 3269, 'Weekly': 4289, 'stone': 10102, 'maili': 7995, 'uv': 10810, 'somebody': 9907, 'CL': 1377, 'bilo': 5042, 'ovarian': 8667, '6': 724, 'gooD': 6891, 'sponsors': 10008, 'KAVALAN': 2473, 'ofice': 8559, 'nos': 8472, 'CoolMob': 1520, 'wwwSMSacubootydelious': 11219, 'racing': 9172, 'Amanda': 1059, 'rounderso': 9469, 'Blank': 1267, 'verify': 10846, 'fit': 6588, 'thriller': 10459, 'attributed': 4837, 'Luck': 2674, 'fighting': 6541, 'algebra': 4610, 'whillTake': 11059, 'cloud': 5555, 'bffs': 5025, 'dollars': 6117, 'Ptbo': 3297, 'application': 4730, 'ha': 6992, 'See': 3619, 'Wn': 4334, 'HI': 2135, 'sef': 9623, 'BETTER': 1157, 'Leannewhat': 2616, 'eviction': 6387, 'okcome': 8569, 'Poyyarikaturkolathupalayamunjalur': 3264, '6missed': 766, 'express': 6432, 'HARDEST': 2114, 'exchanged': 6401, 'HCL': 2124, 'raiden': 9179, 'concentration': 5649, 'shrek': 9752, 'vinobanagar': 10873, 'tlk': 10513, 'coins': 5580, 'TWILIGHT': 3914, 'spree': 10018, 'wot': 11178, 'NEED': 2908, 'drop': 6175, 'lt3': 7934, 'playing': 8890, 'messageit': 8136, '09099726395': 284, 'princes': 9046, 'priceso': 9040, 'falling': 6469, 'Slow': 3709, 'mas': 8039, 'STUDY': 3559, '45': 634, 'cuppa': 5810, 'renewed': 9332, '1030': 304, 'toopray': 10570, 'cream': 5770, 'search': 9596, '150ptone': 375, 'mobile': 8216, 'MF': 2717, 'Zahers': 4455, 'elections': 6278, 'U': 4068, 'creepy': 5778, 'guides': 6979, 'Say': 3604, 'nammanna': 8352, 'Summer': 3812, 'Catching': 1449, 'beautiful': 4965, 'Wet': 4299, 'Brb': 1305, 'duffer': 6200, 'yan': 11284, '4GET': 650, '12hours': 337, 'tonght': 10555, '2KBSubject': 489, 'visionsmscom': 10881, 'BLOODSend': 1169, 'catching': 5376, 'Comfort': 1504, 'lost': 7896, '150ppm': 370, 'ROOM': 3358, 'Joke': 2448, 'YO': 4399, 'yo': 11308, 'fridayhope': 6713, 'audition': 4842, 'Hrishi': 2281, 'Finally': 1912, 'missions': 8197, 'ugos': 10703, 'meummifyingbye': 8146, '09064019014': 243, 'Holla': 2257, 'farting': 6487, 'ahwhat': 4588, 'cherthalain': 5460, 'JSco': 2417, 'Cold': 1497, 'shagged': 9683, 'lakhs': 7683, 'sc': 9561, 'kfc': 7601, 'moon': 8253, 'AXIS': 991, '83021': 832, '864233': 864, 'di': 6002, '900': 910, 'millers': 8158, '08718727870': 162, 'usLET': 10789, 'Wishing': 4330, 'breaking': 5162, 'weekend': 11008, 'u': 10698, 'gdnow': 6808, 'BILL': 1161, 'painting': 8705, 'challenge': 5405, 'ibm': 7278, 'Subscriber': 3804, 'Yessura': 4433, 'Erutupalam': 1791, '2MWEN': 494, 'monkey': 8243, 'Em': 1776, 'exeter': 6410, 'parked': 8736, 'Nothing': 3014, 'fuck': 6743, 'achanammaRakheshQatar': 4500, 'Yeesh': 4419, 'Sux': 3825, 'datingi': 5874, '08717890890£150': 148, 'parentnot': 8730, 'realized': 9232, 'sway': 10257, 'tops': 10579, 'HUN': 2163, 'yoville': 11339, 'words': 11154, 'KNOW': 2479, '83222': 837, 'Coz': 1531, 'fullonsmscom': 6753, 'information': 7357, 'Neville': 2967, 'cine': 5514, 'Natural': 2956, 'nursery': 8511, 'worldgnun': 11164, 'daily': 5844, 'Haiz': 2177, 'MUMS': 2765, 'tot': 10588, 'disc': 6063, 'FOREVER': 1861, 'londn': 7872, 'bong': 5106, '8714714': 873, 'liaoToo': 7778, '£50award': 11401, 'mufti': 8304, 'vewy': 10850, 'kalaachutaarama': 7567, 'iouri': 7417, 'hsbc': 7216, 'proof': 9099, 'occupied': 8534, 'CLoSE': 1381, '84128custcare': 850, 'GOTMARRIED': 2013, 'Night': 2981, 'Deliver': 1645, 'indian': 7347, 'meI': 8075, 'wwwdbuknet': 11231, '£150pm': 11377, 'Serious': 3633, 'fats': 6497, 'directly': 6050, 'barcelona': 4920, 'cried': 5783, 'mokka': 8230, 'become': 4970, '21': 438, 'Vikky': 4176, 'SleepwellampTake': 3706, 'hppnss': 7213, 'Box': 1292, 'SF': 3477, 'Ever': 1805, 'mys': 8334, 'pple700': 8983, 'compare': 5622, 'spares': 9967, '08718726978': 159, '69911£150p': 754, 'Normal': 3011, 'cThen': 5262, 'greetings': 6947, 'g696ga': 6770, 'stool': 10105, 'dropped': 6176, 'Panasonic': 3182, 'jane': 7487, 'swell': 10264, 'fight': 6540, 'JD': 2411, 'cost': 5729, 'SmileD': 3714, 'impatient': 7317, 'Energy': 1783, 'Theyre': 3975, 'duo': 6207, 'regret': 9299, 'pix': 8867, 'glo': 6859, '2optout': 530, 'urself': 10786, 'movies': 8274, 'Becoz': 1240, 'number': 8508, 'comingtmorow': 5612, 'connections': 5672, 'falls': 6470, 'wasn\\x92t': 10960, 'DAS': 1567, 'keen': 7587, 'kick': 7606, 'jiu': 7514, 'Gal': 2027, 'forwarding': 6682, '0825': 65, 'Ahhh': 1028, 'defer': 5933, 'Yoyyooo': 4445, 'HEY': 2131, 'speed': 9982, 'jacket': 7477, 'faultfed': 6501, 'arithmetic': 4769, 'relieved': 9311, 'sch': 9569, 'upstairs': 10775, 'boat': 5098, 'Flung': 1922, 'valentines': 10823, 'drpd': 6179, 'dnt': 6086, 'ears': 6225, 'sweater': 10259, 'rounds': 9470, 'Ive': 2394, 'Vodka': 4181, 'deer': 5930, 'atHome': 4819, '09071512432': 272, 'messaged': 8135, 'necesity': 8379, 'witot': 11115, 'Laughed': 2611, 'least': 7739, 'Craigslist': 1536, 'Though': 3986, 'Ubi': 4099, 'pee': 8784, 'dayshe': 5886, 'BSLVYL': 1197, 'arsenal': 4785, 'MeetGreet': 2812, 'carlin': 5350, 'YOR': 4400, 'dictionary': 6012, 'tone': 10552, 'tyler': 10692, 'thanks': 10393, 'onlybettr': 8595, 'Yun': 4448, 'mahfuuzmeaning': 7992, 'rolled': 9455, '09065069120': 245, '24th': 456, 'SPRWM': 3537, '08717111821': 142, 'social': 9896, 'leh': 7754, 'Exorcism': 1822, 'smear': 9861, 'FLAG': 1855, 'GMW': 1992, 'Err': 1790, 'msg': 8283, '3optical': 599, 'gud': 6971, 'wicked': 11068, 'Meeting': 2813, 'fone': 6643, 'starving': 10060, 'Near': 2958, 'company': 5621, 'kano': 7575, 'lnly': 7847, 'Marvel': 2797, 'AGOCUSOON': 952, 'flow': 6620, 'retired': 9402, 'landlineonly': 7690, 'price': 9038, 'liked': 7801, 'Yup': 4450, 'tootsie': 10573, '85222': 857, 'affairs': 4552, 'fromm': 6735, 'Theory': 3971, 'logos': 7868, 'blah': 5062, 'Wkly': 4332, 'basic': 4931, 'mate': 8048, '80608': 817, 'Dormitory': 1698, 'Gettin': 2048, 'pic': 8842, 'Might': 2824, 'Hmmm': 2240, 'DAYU': 1573, 'CRO1327': 1403, 'priority': 9052, 'nightsWe': 8434, 'salmon': 9520, 'Evry': 1815, 'BMW': 1170, 'num': 8507, 'went': 11030, 'oficegot': 8560, 'india': 7346, '0870737910216yrs': 91, 'homelove': 7163, 'urgnt': 10782, '40533': 612, 'stylish': 10165, 'Edison': 1764, '62735£450': 735, 'short': 9730, 'missionary': 8196, 'gimme': 6842, 'mtnl': 8297, 'steak': 10074, 'shoppin': 9725, 'books': 5114, 'enketa': 6317, 'AGE': 949, 'HAVENT': 2121, '30s': 553, 'nothis': 8481, 'watll': 10975, 'Stuff': 3796, 'Goodo': 2075, 'Fml': 1923, 'threw': 10458, 'fancies': 6479, 'unspoken': 10758, 'Ahhhhjust': 1029, 'ham': 7008, 'ILEAVE': 2305, 'disturbing': 6079, 'School': 3608, 'Itll': 2388, '3MOBILE': 582, 'expecting': 6417, 'onlydon': 8596, 'Hogli': 2250, 'IMIN': 2311, 'hee': 7081, 'rhythm': 9416, 'ego': 6264, 'Hee': 2203, 'formclark': 6673, 'sport': 10012, 'PARTY': 3110, 'NEWQUAYSEND': 2916, 'dificult': 6032, 'AFEW': 945, 'Exactly': 1817, 'OUTL8RJUST': 3051, 'awkward': 4876, 'Golf': 2069, 'stocked': 10098, 'beta': 5018, 'dose': 6131, 'valuable': 10825, 'Make': 2780, 'camera': 5304, 'bout': 5135, 'JESS': 2413, 'anand': 4663, 'Tears': 3936, 'xnet': 11267, 'wwwmusictrivianet': 11239, 'Ben': 1246, 'sonot': 9929, 'tues': 10665, 'discuss': 6068, 'downloaded': 6141, 'callingForgot': 5295, 'FINEST': 1850, 'Cttergg': 1549, 'whispers': 11060, 'wocay': 11133, 'beendropping': 4981, 'sometme': 9920, 'Ready': 3386, 'resuming': 9400, 'Eh': 1769, 'Psychologist': 3296, 'congrats': 5668, 'aft': 4561, 'rcbbattle': 9207, 'somethin': 9914, 'Telephonic': 3940, 'meowD': 8126, 'decking': 5922, 'httpwwwetlpcoukreward': 7227, 'drink': 6163, 'doinat': 6110, '32F': 564, 'wrk': 11191, 'hairdressers': 7003, 'STORE': 3553, 'Shakespeare': 3646, 'TOWNCUD': 3905, 'feeling': 6519, 'combine': 5600, 'embarassing': 6288, 'SPUNOUT': 3540, 'defeat': 5932, 'Network': 2963, 'sudn': 10189, 'fowler': 6688, 'answering': 4692, 'Fun': 1959, 'alright': 4631, 'occupy': 8535, 'Wifehow': 4318, 'Yummy': 4447, 'joys': 7541, 'dippeditinaDEW': 6048, '100pSMS': 299, 'chik': 5473, 'personally': 8816, 'soladha': 9902, '08715203694': 138, 'reply': 9349, 'Hint': 2230, 'tables': 10283, 'hitteranyway': 7138, 'gonna': 6890, 'checking': 5447, 'madodu': 7979, 'USER': 4097, 'Last': 2607, 'logged': 7862, 'SED': 3462, '£6': 11405, 'costume': 5732, 'Fancy': 1895, 'Musta': 2897, 'timehope': 10490, 'Velusamy': 4168, 'possessiveness': 8957, 'Cbe': 1452, 'incident': 7334, 'nitz': 8446, 'might': 8154, 'RINGTONE': 3354, 'companies': 5620, 'ta': 10281, 'Mmmmm': 2845, 'shitstorm': 9717, 'jays': 7495, 'nalli': 8347, 'lei': 7756, 'splleing': 10001, 'nte': 8501, 'hip': 7130, 'Excellent': 1819, '09053750005': 193, 'thurs': 10472, 'gold': 6883, 'anyhow': 4700, 'Anytime': 1071, 'arun': 4790, 'usGET': 10788, 'Wun': 4357, 'MYCALLSU': 2769, 'ASKED': 979, 'nipost': 8441, 'VIOLENCE': 4153, 'finishes': 6573, 'cleaning': 5533, 'ji': 7511, 'Winning': 4325, 'setting': 9665, 'Noice': 2998, 'GHOST': 1982, 'Ge': 2038, 'afghanistan': 4557, 'witout': 11116, 'doc': 6091, 'TsandCs': 4048, 'LUSH': 2596, 'bold': 5101, 'sexual': 9675, 'clothes': 5554, 'vote': 10900, 'TXT': 3916, 'BOO': 1173, 'wrong': 11195, 'Eire': 1770, 'membership': 8110, '526': 695, '09063458130': 234, 'screaming': 9586, 'woman': 11136, 'abi': 4465, 'DAYS': 1572, 'sex': 9672, 'Motivate': 2879, 'dreamstake': 6158, 'crossing': 5787, 'model': 8223, 'it\\x92s': 7463, 'bids': 5032, 'Indian': 2365, '150ppermessSubscription': 369, 'Call2OptOut674': 1418, 'saibaba': 9511, 'Homeowners': 2261, 'xafter': 11261, 'PEACH': 3116, 'fourth': 6686, 'pendent': 8790, 'cared': 5338, '08701417012150p': 79, 'Nokia': 3001, 'TimeGud': 4000, 'Winner': 4323, 'ntwk': 8503, 'SAY': 3458, 'wth': 11202, 'Nohe': 2996, 'adore': 4536, '373': 573, 'unfortunately': 10735, 'Sinco': 3686, 'EVERY': 1742, '1146': 320, 'Remembrs': 3407, 'recognise': 9265, 'sarcasm': 9535, 'PETEXXX': 3120, 'marking': 8032, 'therere': 10420, 'txts': 10691, 'SOONLOTS': 3520, '09061104276': 212, 'sorts': 9947, 'stolen': 10099, 'word': 11150, 'Darling': 1622, '08718727868': 161, '98321561': 921, 'eveB': 6367, 'response': 9382, 'Pie': 3222, 'destiny': 5984, 'received': 9254, '02070836089': 10, 'air1': 4594, 'Whens': 4309, 'CR9': 1399, 'Sent': 3628, 'bites': 5057, 'ovulation': 8675, 'evo': 6391, 'Thx': 3992, 'Subscription': 3805, 'julianaland': 7550, 'thinl': 10439, 'pound': 8973, 'lotta': 7903, 'emergency': 6291, 'menu': 8123, 'seeking': 9617, 'Btooth': 1322, 'goigng': 6879, 'armenia': 4773, 'Infact': 2370, 'daytime': 5890, 'PRIVACY': 3165, 'bill': 5037, 'din': 6039, 'previously': 9036, 'Gibbs': 2050, 'nowUse': 8493, 'dled': 6085, 'toilet': 10534, 'owns': 8681, 'three': 10457, 'nag': 8341, 'needle': 8391, 'disappointment': 6059, '08715203649': 133, 'fedex': 6515, 'Wanting': 4268, 'esaplanade': 6347, 'CUM': 1408, '7ish': 798, 'wheel': 11049, 'breather': 5166, '09050280520': 192, 'stories': 10115, 'ifwhenhow': 7299, 'SLAP': 3499, 'Premaricakindly': 3274, 'ali': 4612, 'emailed': 6286, 'goin': 6880, 'lipo': 7825, '6romantic': 769, 'Monthly': 2867, 'coffee': 5575, 'puttin': 9143, 'tram': 10609, 'skateboarding': 9814, 'approaching': 4740, 'meals': 8078, 'bowls': 5138, '3Maruti': 583, 'MONOC': 2746, 'training': 10606, '£50£500': 11402, 'next': 8420, 'rugby': 9484, 'Kerala': 2499, 'dress': 6160, 'SirI': 3691, 'abelu': 4464, '32323': 562, '4info': 668, 'handset': 7016, 'mouse': 8268, '5free': 713, 'Slaaaaave': 3703, 'school': 9571, 'Litres': 2636, 'GONNA': 1999, 'Order': 3095, 'dieting': 6023, 'subsequent': 10179, 'Bx': 1334, 'shit': 9713, 'PA': 3104, 'sure': 10237, 'HORO': 2151, 'QUITEAMUZING': 3306, 'sections': 9610, 'posterode': 8966, 'responsibilities': 9383, 'kids': 7612, 'workage': 11158, 'oclock': 8538, 'Afternoons': 1022, 'PLEASSSSSSSEEEEEE': 3133, '12mths': 339, 'meneed': 8116, 'üll': 11419, 'narcotics': 8358, 'Crazy': 1538, 'mono': 8245, '2GEVA': 485, 'leave': 7742, 'Staff': 3770, 'Hellodrivby0quit': 2211, 'muht': 8305, 'erything': 6346, 'Alaipayuthe': 1042, 'Hol': 2252, 'jo': 7515, 'mustprovide': 8326, 'Update': 4128, 'Bugis': 1325, '2Hook': 486, '861': 862, 'stranger': 10122, 'hundred': 7245, 'MONO': 2745, 'Cribbs': 1540, 'landline': 7689, 'cheaper': 5440, '83110': 835, 'tom': 10543, 'manky': 8019, 'Carlosll': 1444, 'far': 6485, 'Kall': 2485, 'Theres': 3974, 'Penny': 3198, 'butt': 5245, 'count': 5742, 'cuz': 5828, 'mental': 8118, 'IDIOT': 2296, 'nearer': 8377, '09066368327': 264, '£150ea': 11373, 'Ohi': 3061, 'imma': 7312, 'taxes': 10323, 'Gokila': 2067, 'opportunitypls': 8613, '09066358361': 256, 'Friday': 1951, 'that\\x92s': 10405, 'CRISISSPK': 1402, 'run': 9492, 'jamster': 7483, 'Silent': 3680, 'Triple': 4035, 'topped': 10577, 'SWITCH': 3578, '…Thanks': 11424, 'kept': 7594, 'enuff': 6332, '150ppmPOBox10183BhamB64XE': 371, '326': 563, 'panicks': 8711, 'Account': 1004, 'comp': 5619, 'thot': 10448, 'Whenre': 4308, 'justbeen': 7557, 'canceled': 5312, 'individual': 7349, 'rooms': 9464, 'Hard': 2187, 'due': 6199, 'Mum': 2891, 'jewelry': 7510, 'activities': 4514, 'legs': 7753, '391784': 575, 'failed': 6456, 'inconsiderate': 7339, 'laid': 7681, 'babes': 4886, 'ni8swt': 8422, 'sudden': 10187, 'coldheard': 5583, 'Derp': 1652, 'KNACKERED': 2478, 'formsdon': 6675, 'sips': 9796, 'months': 8251, 'Crying': 1543, 'Alfie': 1046, 'propsd': 9105, 'eve': 6366, 'pictures': 8850, 'robs': 9447, 'warning': 10955, 'memory': 8114, 'stability': 10031, 'cya': 5829, 'verifying': 10847, '730ish': 778, 'ILLSPEAK': 2307, 'billion': 5039, 'ACCEPT': 936, 'ge': 6810, 'net': 8403, 'ams': 4657, 'rajas': 9185, 'concern': 5650, 'confirmd': 5662, 'wounds': 11183, 'ITXT': 2336, 'AlertFrom': 1044, 'vouchers': 10903, 'yesterday': 11299, 'Making': 2782, 'U4': 4070, 'dahow': 5842, '–': 11420, 'Video': 4172, 'Peteis': 3208, 'resort': 9376, 'wen': 11028, 'LOU': 2584, 'hopes': 7184, 'itplspls': 7460, 'aging': 4577, 'SING': 3492, '2Police': 498, 'Peripherals': 3202, '09063442151': 233, '08702840625': 86, 'want': 10945, 'tamilnaduthen': 10309, 'cartons': 5360, 'joining': 7528, 'Mins': 2834, 'Liverpool': 2638, 'SOMEONE': 3513, 'possibly': 8961, 'Convey': 1518, 'Christmas': 1480, 'REALISE': 3330, 'URE': 4088, 'complacent': 5625, 'iti': 7454, 'W14RG': 4188, 'Invest': 2380, 'reservations': 9366, 'Yesgauti': 4428, 'tshirt': 10659, 'participate': 8740, 'NEFT': 2910, 'retrieve': 9403, 'MIDNIGHT': 2719, 'AVE': 987, 'xxxxxxx': 11275, 'successfully': 10183, 'dealers': 5898, 'March': 2791, 'Career': 1441, 'bright': 5174, 'RISE': 3355, '863': 863, 'wonderful': 11142, 'minuts': 8183, 'CER': 1361, '87070': 869, 'breathing': 5167, 'Love': 2661, 'Laugh': 2610, 'Wuld': 4356, 'receipt': 9249, 'fraction': 6692, 'THING': 3879, 'WORRY': 4237, 'Kids': 2506, 'LA3': 2543, 'albi': 4601, 'EURO': 1736, 'HONEYDID': 2147, 'manual': 8020, '09099726553': 287, 'i‘ll': 7471, 'glory': 6862, 'board': 5097, '4thNOVBEHIND': 674, 'green': 6944, 'BABESOZI': 1127, 'Jason': 2430, 'frequently': 6709, 'Oooh': 3082, 'Hugs': 2283, 'contact': 5683, '2StopTx': 499, 'hustle': 7264, 'Red': 3394, 'stressful': 10128, 'strong': 10137, 'BIG': 1160, 'radio': 9174, '9t': 931, 'ese': 6350, '08002888812': 57, '£5': 11396, 'collected': 5587, '146tf150p': 351, 'friendships': 6722, 'CougarPen': 1528, 'blessing': 5075, 'finding': 6563, 'bian': 5029, 'close': 5546, 'stayed': 10069, 'call2optoutHF8': 5279, 'forfeit': 6660, '08714712379': 126, 'floor': 6617, 'auctionpunj': 4840, 'Platt': 3231, 'asapok': 4793, 'workout': 11161, 'THANX4': 3868, 'STOPCS': 3552, 'greatbye': 6939, '087018728737': 83, 'arng': 4775, 'Persian': 3203, 'keluviri': 7592, 'purchase': 9133, 'mattermsg': 8056, 'Living': 2639, 'buyers': 5250, 'causes': 5380, 'teethif': 10349, 'accordinglyor': 4495, 'dodda': 6097, 'smartThough': 9857, 'SOIREE': 3512, 'MAHAL': 2694, 'trainners': 10607, 'pure': 9135, 'hows': 7210, 'Dogging': 1688, 'holder': 7150, 'si': 9761, 'FINAL': 1847, 'freak': 6695, 'Sir': 3690, 'FUDGE': 1888, 'Fwiw': 1963, 'yelling': 11292, 'Theoretically': 3970, 'mcat': 8071, 'Registered': 3402, 'contented': 5688, 'shortage': 9731, 'practicing': 8991, 'Bristol': 1313, 'night': 8428, '09701213186': 290, 'ENG': 1727, 'conected': 5657, 'moms': 8235, 'Franxx': 1939, 'randomly': 9194, 'Holby': 2253, 'Valentine': 4159, '09050000460': 182, 'Tunde': 4054, '08715203677': 136, 'specialcall': 9974, 'NO434': 2928, 'tiz': 10510, 'distract': 6076, 'implications': 7318, 'concert': 5651, 'Z': 4452, 'Neshanthtel': 2961, 'Evrey': 1814, 'gf': 6834, 'nothing': 8480, 'resume': 9399, 'margin': 8028, 'Buzzzz': 1333, 'apparently': 4724, 'easier': 6228, 'enemies': 6305, '0845': 69, 'Polo': 3253, 'tears': 10341, 'shexy': 9705, 'comfort': 5608, 'WaitU': 4257, 'detailsi': 5988, 'Thursday': 3991, 'PoBox84': 3249, 'Scotsman': 3613, 'uOthrwise': 10699, '84199': 851, '2When': 506, 'Yeshere': 4430, 'mum': 8308, 'confidence': 5659, 'Uh': 4103, 'location': 7855, 'problems': 9069, 'itc': 7449, 'biatch': 5030, 'prayers': 9000, 'Gyno': 2108, 'activ8': 4512, 'Linerental': 2633, 'africa': 4559, '3Sentiment': 586, 'changed': 5413, 'callcoz': 5287, 'Nokia6650': 3003, 'hor': 7186, 'pros': 9106, 'street': 10124, 'yifeng': 11304, 'PARISFREE': 3107, 'support': 10229, 'decorating': 5923, 'FreeMSG': 1942, 'island': 7438, 'Affectionate': 1017, 'WIFE': 4218, 'familymay': 6475, 'Aiyah': 1035, 'nice': 8423, '£48': 11395, 'shell': 9702, 'grief': 6948, 'warming': 10952, 'Chat80155': 1465, 'Stockport': 3784, 'unrecognized': 10753, 'SPTyrone': 3539, '40411': 611, '£1': 11360, 'roomate': 9461, 'dock': 6092, 'vidnot': 10864, 'Also': 1055, 'K': 2468, '02': 7, 'washob': 10958, 'sunshine': 10217, 'unclaimed': 10715, 'Katexxx': 2490, 'ironing': 7427, 'killing': 7615, 'yetunde': 11302, 'popped': 8943, 'rite': 9438, '£750': 11408, '20': 424, '2004': 429, 'literally': 7837, '1Unbreakable': 408, 'brain': 5151, 'logosmusicnews': 7869, 'happend': 7026, '1YF': 411, 'daplease': 5857, 'kiosk': 7624, '7876150ppm': 789, 'for£38': 6683, 'HOPE': 2149, 'Guai': 2094, 'beverage': 5021, 'usps': 10802, 'MsSuman': 2884, 'sophas': 9937, 'Kanagu': 2487, 'bed': 4973, 'apologise': 4720, 'oursso': 8650, 'Offer': 3057, 'complete': 5630, 'malarky': 8006, 'answers': 4693, 'diesel': 6021, 'crucial': 5789, 'DRACULA': 1605, 'XXXMobileMovieClub': 4370, 'blonde': 5084, 'Compliments': 1510, 'Sunday': 3815, 'Tell': 3942, 'decide': 5915, 'tacos': 10287, 'Back': 1215, 'outside': 8663, 'elaine': 6274, 'TextOperator': 3955, 'Unsub': 4125, 'PLS': 3134, 'waheed': 10918, 'PO19': 3137, 'love': 7913, 'kappa': 7579, '08708800282': 97, 'Meat': 2809, 'wld': 11127, 'lovely': 7916, 'soso': 9950, 'MobStoreQuiz10ppm': 2850, 'WENT': 4210, 'dirtiest': 6054, 'ym': 11307, 'Zindgi': 4457, 'entry': 6331, 'simulate': 9787, 'POOR': 3155, 'addressull': 4525, 'accommodation': 4490, 'é': 11417, 'reboot': 9243, 'Got': 2080, 'laundry': 7722, 'JJC': 2414, 'specs': 9980, 'Splat': 3754, 'corrct': 5720, 'spin': 9994, 'Thought': 3987, 'havin': 7053, 'Cheer': 1469, 'disturbancemight': 6078, 'revealing': 9410, 'httpalto18coukwavewaveaspo44345': 7218, 'CONTRACT': 1393, 'srs': 10026, 'exterminator': 6435, 'knowthis': 7644, '08701237397': 77, 'conveying': 5701, 'brothers': 5194, 'doinghow': 6112, 'Cornwall': 1521, 'REALY': 3334, 'smiled': 9867, 'Summers': 3813, 'better': 5020, 'vaguely': 10819, 'Geelater': 2042, 'Eckankar': 1763, 'Mm': 2842, 'bin': 5044, 'ADDAMSFA': 942, 'Halloween': 2180, 'raining': 9182, 'park': 8734, 'mus': 8319, 'dubsack': 6194, 'replyBe': 9350, 'weddin': 10999, 'OFTEN': 3034, 'CALLIN': 1343, 'roommates': 9463, 'inclusive': 7337, 'ree': 9279, 'Xy': 4380, 'Speaking': 3747, 'worries': 11170, 'ALWAYS': 963, '87131': 872, '01223585236': 4, 'completed': 5631, 'collapsed': 5585, 'darren': 5867, 'cc100pmin': 5385, '150pday': 364, 'lab': 7669, 'tooPray': 10565, '08452810073': 72, 'darlinim': 5866, 'DEF': 1578, 'nokias': 8456, 'jide': 7513, 'cake': 5266, 'converted': 5698, 'police': 8922, 'LONG': 2575, 'calldrove': 5289, 'Lets': 2623, 'Todays': 4012, 'outif': 8659, 'Tiger': 3996, 'GIRL': 1985, 'MAYBE': 2706, 'drive': 6168, '8883': 885, 'Met': 2821, 'Home': 2260, 'massages': 8041, 'Sankranti': 3591, 'www07781482378com': 11209, 'places': 8874, '5mls': 717, 'lighters': 7797, 'Ee': 1765, 'slices': 9837, 'player': 8886, 'sachin': 9502, 'agent': 4573, 'Fyi': 1964, 'dengra': 5955, 'Remembr': 3406, '3d': 592, '150pMsg': 359, 'suite': 10200, 'drove': 6178, '6hrs': 764, '2daylove': 510, 'pounded': 8974, '449month': 633, 'WANNATELL': 4198, '42049': 619, 'helens': 7084, 'log': 7861, 'yijue': 11305, 'Maybe': 2806, 'First': 1918, 'gibe': 6837, 'graduated': 6922, 'Dozens': 1704, 'woke': 11134, 'egg': 6260, 'monkeys': 8244, 'Date': 1626, 'HALF': 2110, 'Ooh': 3081, 'TayseerTISSCO': 3929, 'notified': 8484, 'persevered': 8811, 'AGreen': 953, 'brownie': 5197, 'smashed': 9860, 'dub': 6193, '4uTxt': 679, 'elaborate': 6272, 'cardiff': 5333, 'FREEPHONE': 1870, 'ardÉ': 4756, 'extra': 6436, 'TAMPA': 3843, 'Travel': 4033, 'JAN': 2406, 'Yelowi': 4422, 'Frankie': 1938, 'careumma': 5347, 'TOP': 3900, 'ready': 9224, 'keep': 7588, 'register': 9296, 'PARK': 3108, 'Spanish': 3745, 'pints': 8863, 'stuff': 10153, 'flippin': 6612, 'Explain': 1826, 'itU': 7447, 'colour': 5594, 'usually': 10805, 'hwd': 7269, 'events': 6373, 'Choose': 1478, 'playi': 8889, 'plum': 8902, 'settings': 9666, 'packs': 8694, 'BREAK': 1191, 'onit': 8591, 'SORRY': 3521, 'mirror': 8185, 'KNOWNEWAY': 2480, 'action': 4511, 'Aldrine': 1043, 'fne': 6632, '4eva': 661, 'Prayrs': 3271, 'accomodations': 4492, 'Bani': 1223, 'TOOL': 3899, 'doggin': 6104, 'login': 7864, 'kintu': 7623, 'special': 9973, 'boyfriend': 5145, '3AJ': 576, 'brownies': 5198, 'customers': 5821, 'vibrate': 10853, 'MUST': 2768, 'tablets': 10285, 'CERI': 1362, 'Evenings': 1804, 'suffer': 10191, 'nights': 8432, 'sensible': 9647, 'later': 7714, 'DEAD': 1576, 'tooLets': 10564, 'access': 4485, 'Jealous': 2433, '02072069400': 11, 'URGENT': 4090, 'Lolnice': 2649, 'KEEP': 2474, 'Grahmbell': 2084, 'tonight': 10557, 'UR': 4087, 'smart': 9856, 'howve': 7211, 'EH74RR': 1723, '09061213237': 215, 'studio': 10149, '2025050': 433, 'smarter': 9858, 'immunisation': 7315, 'toleratbcs': 10542, 'quote': 9169, 'nigro': 8437, 'danalla': 5847, 'korte': 7656, 'god': 6872, '101mega': 303, 'Messaging': 2820, 'sip': 9795, 'stevelike': 10087, 'timeyou': 10493, 'jolt': 7536, 'leu': 7773, 'BOUT': 1178, 'rummer': 9490, 'uttered': 10808, 'weigh': 11013, 'white': 11061, '8027': 814, 'zeros': 11351, 'ceiling': 5389, 'waitin': 10923, 'darkness': 5862, 'vl': 10890, 'considering': 5678, 'loveJen': 7914, 'Jolly': 2452, '45239': 639, 'B': 1120, 'shut': 9759, 'Heart': 2201, 'mums': 8313, 'club': 5557, 'awarded': 4873, 'handsome': 7017, 'ten': 10365, 'operate': 8606, 'availablethey': 4857, 'Sorry': 3735, 'filled': 6550, 'CDGT': 1359, 'hol': 7148, 'Oh': 3059, 'paths': 8763, 'mentionedtomorrow': 8120, 'NONENOWHERE': 2935, 'types': 10696, 'begin': 4990, 'dates': 5872, 'nowonion': 8498, 'shldxxxx': 9719, 'Dependable': 1650, '0871212025016': 104, 'WANT': 4199, 'youthats': 11332, 'PETE': 3119, 'Mr': 2883, 'ksry': 7659, 'twenty': 10682, 'holiday': 7153, 'Id': 2346, '061104': 20, 'Itna': 2389, 'anjie': 4674, 'FRIENDSHIP': 1877, 'MoralOne': 2873, 'cliff': 5541, 'TEXTBUDDY': 3861, 'swatch': 10256, 'cliffs': 5542, 'helpful': 7092, 'bw': 5254, '3680Offer': 572, 'Honestly': 2262, 'Loverboy': 2666, 'childish': 5484, 'Ice': 2344, 'wadebridgeI': 10915, 'piah': 8841, 'Delivered': 1646, 'Waqt': 4269, 'ANSWER': 968, 'VIOLET': 4154, 'another': 4686, 'top': 10574, 'remains': 9317, 'Ufind': 4100, 'sundayish': 10212, 'PHP': 3123, 'exam': 6397, 'Junna': 2465, 'IMAT': 2309, '1IM': 403, 'bcoz': 4954, 'vth': 10908, 'dresser': 6162, 'thinkThis': 10434, '08719839835': 175, 'anybodys': 4699, 'Jerry': 2440, 'problemfree': 9067, 'youPhone': 11314, 'alreadysabarish': 4630, 'Find': 1913, 'europe': 6363, 'american': 4645, 'Pics': 3221, '150prcvd': 373, 'Executive': 1821, 'THEMOB': 3875, 'bawling': 4947, 'evey': 6386, 'singing': 9791, 'Hospital': 2270, 'grand': 6925, 'advise': 4547, 'pa': 8688, '31': 555, 'seeing': 9615, 'abj': 4467, 'gr8prizes': 6919, 'welli': 11024, 'prasad': 8998, 'wordSTART': 11152, 'meet': 8092, 'wwwtklscom': 11253, 'belong': 5003, 'smoked': 9871, 'lowes': 7928, 'GENDER': 1978, 'conditions': 5655, 'Jez': 2443, '08718711108': 151, 'nightnight': 8430, 'Yaxx': 4413, 'chasing': 5433, 'TsCs': 4045, 'hiding': 7120, '69876': 751, 'Doesnt': 1687, 'zhong': 11352, 'erotic': 6340, 'vivek': 10888, 'GoTo': 2061, 'canlove': 5316, '2godid': 514, 'couch': 5735, 'natuition': 8364, 'Funny': 1960, 'Think': 3979, 'DE': 1575, 'Set': 3636, 'mouth': 8269, '£1million': 11381, 'SUE': 3563, 'indeed': 7344, 'must': 8324, 'Ron': 3434, 'exhausted': 6412, 'specially': 9977, '£3365': 11390, 'X2': 4360, 'm100': 7964, 'thats': 10404, '28': 469, 'arent': 4758, 'math': 8050, 'deadWell': 5894, 'chick': 5469, 'accenture': 4483, 'babies': 4887, 'Oops': 3085, 'Sim': 3681, 'postponed': 8968, 'yrs': 11342, 'cornwall': 5718, 'GMGNGEGNT': 1991, 'URGRAN': 4092, 'Shah': 3643, 'ENJOY': 1729, 'penis': 8793, 'GOING': 1997, 'AIG': 955, 'dungerees': 6205, 'patients': 8764, 'APPY': 972, 'wwwsantacallingcom': 11246, 'CONTENTION': 1392, 'Asian': 1095, 'hook': 7173, 'tickets': 10478, 'Join': 2447, 'WELL': 4207, 'ear': 6218, 'pocked': 8912, 'treated': 10630, 'Sun': 3814, 'sounds': 9953, 'shun': 9758, 'jocks': 7518, 'BOUTxx': 1179, 'Sunshine': 3817, 'caken': 5267, 'snatch': 9885, 'SUMMER': 3565, 'scream': 9584, 'Wait': 4256, 'shirts': 9712, 'snake': 9883, 'vava': 10836, 'TheMob': 3967, 'MEREMEMBERIN': 2713, 'Xuhui': 4377, 'wheellock': 11050, 'anderson': 4664, '09050000878': 184, 'sugardad': 10196, 'Ambrithmaduraimet': 1061, 'srsly': 10027, 'requirements': 9360, 'garments': 6793, 'shocking': 9721, 'dark': 5859, 'added': 4520, 'noline': 8457, '08701417012': 78, 'watchin': 10969, 'brand': 5154, 'IFINK': 2298, 'Germany': 2046, 'china': 5492, 'Lemme': 2620, 'andros': 4669, 'JAZ': 2410, 'gravy': 6934, 'Teletext': 3941, 'ph08700435505150p': 8824, 'Stupidits': 3798, 'notifications': 8483, 'blame': 5064, 'noncomittal': 8460, 'flute': 6626, 'truekDo': 10649, '80160': 812, '2WT': 504, 'lovingly': 7924, 'TELL': 3855, 'qing': 9152, 'soup': 9955, 'Show': 3672, 'Bc': 1229, 'hadnt': 6995, 'doubles': 6136, 'hectic': 7080, 'carry': 5356, 'moves': 8272, 'Loving': 2668, 'URFEELING': 4089, 'century': 5398, 'clover': 5556, 'naughty': 8368, 'purpose': 9136, 'jetton': 7509, 'Loveable': 2662, 'landmark': 7692, 'mailed': 7994, 'valuing': 10829, 'JANX': 2409, 'Male': 2783, 'brilliantly': 5178, 'WHITE': 4215, 'Murdered': 2894, 'edge': 6242, 'Kyou': 2536, 'GRAVEL': 2018, 'pesky': 8820, 'strict': 10132, 'PUTTIN': 3176, 'fiting': 6589, '£54': 11403, 'drunk': 6184, 'fall': 6467, 'Wif': 4316, 'Hurry': 2287, 'eshxxxxxxxxxxx': 6351, 'scores': 9577, 'None': 3005, 'inner': 7370, 'wwwtxt2shopcom': 11254, 'prominent': 9091, 'multimedia': 8306, 'Oranges': 3093, 'laready': 7702, 'wallpaper': 10936, 'tonitethings': 10561, 'gray': 6935, '2003': 428, 'Buzz': 1332, 'system': 10279, 'Shoranur': 3669, 'Goodnoon': 2074, 'detailed': 5986, 'History': 2231, 'fantasy': 6484, 'suntec': 10218, 'Man': 2785, 'MOON': 2747, 'Que': 3310, 'plane': 8877, 'Messages': 2818, 'advice': 4546, '09095350301': 281, 'M39M51': 2688, 'member': 8108, 'Kdo': 2493, 'AGESRING': 950, 'method': 8145, 'cruise': 5790, 'goodfine': 6895, 'we‘ll': 11044, 'galcan': 6777, 'CU': 1406, '09050003091': 189, 'hunnyjust': 7252, 'chase': 5432, 'craving': 5767, 'cup': 5808, 'websitenow': 10997, 'language': 7695, 'predicting': 9006, 'Heroes': 2219, 'fifteen': 6538, '08702840625COMUK': 87, 'ringtone': 9429, 'ITBOTH': 2333, 'specialise': 9976, 'LOVEJEN': 2586, 'rumour': 9491, 'donno': 6122, 'LIKEYOUR': 2562, '09058094583': 202, 'Village': 4177, 'Always': 1057, 'opportunityall': 8612, 'Dhoni': 1659, 'block': 5078, 'dogging': 6105, '2667': 465, 'unfolds': 10734, 'sucker': 10184, 'permission': 8808, 'delTOMORROW': 5942, '83049': 834, '40GB': 613, '4882': 644, 'Co': 1492, 'MEET': 2708, 'bid': 5031, 'trishul': 10641, 'isComing': 7432, 'SNORINGTHEY': 3510, 'WOKE': 4229, 'shoving': 9743, 'slob': 9845, 'tmw': 10518, 'skip': 9819, 'WEEK': 4206, 'abt': 4474, 'doors': 6129, 'leg': 7750, 'messageno': 8137, '087123002209am7pm': 106, 'DREAMZ': 1608, 'BIRTHDAY': 1164, 'Guess': 2101, 'decisions': 5920, 'breadstick': 5159, 'nolistened2the': 8458, 'pattys': 8767, 'dismay': 6072, 'melody': 8106, 'dry': 6188, 'concentrating': 5648, 'anonymous': 4684, 'M227XY': 2685, 'OURBACKS': 3050, '09061209465': 214, 'goodenvironment': 6894, 'SPORT': 3535, 'CAMERA': 1346, 'tomeandsaidTHIS': 10545, 'OptOut': 3089, 'bx420ip45we': 5256, 'head…': 7062, 'practice': 8990, '41782': 617, 'eggs': 6262, 'nìte': 8523, 'messagesim': 8141, 'sorry': 9941, 'officestill': 8552, '08006344447': 61, 'O2': 3030, 'newsHype': 8417, 'slide': 9838, 'Busy': 1330, 'cloth': 5553, 'spoilt': 10005, 'flim': 6610, 'flea': 6604, 'Sez': 3640, 'handsomes': 7018, 'Browni': 1319, 'Nutter': 3024, 'POLY3': 3151, '12000pes': 328, 'Yeh': 4420, 'Google': 2076, 'prepare': 9014, 'recognises': 9266, 'needy': 8393, 'msgs': 8286, 'FreeMsgFAV': 1944, 'vijaykanth': 10867, 'names': 8351, 'discreet': 6067, 'ish': 7436, 'bag': 4899, 'Bishan': 1260, 'Box177': 1294, 'chikkugoing': 5478, 'Sno': 3720, 'portal': 8948, '08001950382': 56, 'CANCEL': 1347, 'eggpotato': 6261, 'LITTLE': 2567, 'Siva': 3696, 'feed': 6516, 'choices': 5500, 'point': 8917, 'TH': 3865, 'cardin': 5334, 'thinkin': 10436, '27603': 468, 'prey': 9037, 'darker': 5860, 'reassurance': 9241, '08718725756': 154, 'SirjiI': 3693, 'welcomes': 11022, 'k': 7561, 'surfing': 10240, 'till': 10486, 'Parents': 3186, 'attend': 4830, 'Pic': 3219, 'ALRITE': 961, 'TONE': 3893, 'yest': 11298, 'colourredtextcolourTXTstar': 5596, 'xuhui': 11269, 'disturb': 6077, 'call2optoutJ5Q': 5281, 'anyone': 4702, 'accomodate': 4491, 'assessment': 4808, 'wherebtw': 11054, 'Cup': 1551, 'celebrate': 5392, 'Hi': 2225, 'tihs': 10483, 'liao': 7776, 'prizesWith': 9061, 'mention': 8119, 'messages': 8139, 'Sleep': 3704, 'Jokin': 2450, 'Woods': 4342, 'Records': 3393, 'fixes': 6595, 'Peaceful': 3197, 'often': 8561, 'payback': 8771, 'beatings': 4963, 'ahsen': 4586, 'fortune': 6677, 'hooch': 7172, 'cutest': 5825, 'misstake': 8199, 'battle': 4946, 'earn': 6223, 'SARY': 3451, 'BA128NNFWFLY150ppm': 1123, 'vomiting': 10899, '261004': 463, 'squatting': 10023, 'glands': 6856, 'cs': 5794, 'payments': 8775, 'nowstill': 8499, 'SHITJUSTFOUND': 3483, 'ben': 5008, 'wkly': 11123, 'info': 7354, 'SPINOUT': 3531, 'creativity': 5773, 'hopefully': 7182, '6230': 733, '08448350055': 67, 'bay': 4948, 'WeBeBurnin': 4283, '650': 740, 'moby': 8221, 'vikky': 10868, 'gifted': 6839, 'Haiyoh': 2176, 'cmon': 5562, 'uup': 10809, 'attended': 4831, '0721072': 28, 'Aberdeen': 998, 'boy': 5143, 'POLYC': 3152, 'cld': 5531, 'hunting': 7255, 'AV': 985, 'reltnship': 9314, 'Every': 1806, 'accessible': 4486, '87575': 875, 'mobsicom': 8220, 'nigeria': 8427, 'Poly200p': 3255, 'fav': 6502, 'gut': 6983, 'MILLIONS': 2720, 'dang': 5853, 'thursday': 10473, 'prakasam': 8995, 'river': 9440, 'REMEMBER': 3341, 'slower': 9849, 'dereks': 5972, 'theplace': 10416, 'Gam': 2028, 'STIL': 3547, 'wedding': 11000, 'Grazed': 2087, 'works': 11162, 'trebles': 10633, '4JX': 651, 'tau': 10320, 'Min': 2829, 'toss': 10587, 'wherever': 11056, 'Drop': 1711, 'hence': 7097, 'age16150ppermessSubscription': 4570, 'smoothly': 9875, 'wnt': 11130, '£1000': 11363, 'kitty': 7632, 'visa': 10880, 'within': 11112, 'v': 10816, '1Tulsi': 406, 'Freemsg': 1948, 'REALITY': 3331, 'seconds': 9603, 'Prey': 3279, 'amazing': 4643, 'LS278BB': 2591, 'Ugadi': 4101, 'THECD': 3874, 'questions': 9158, '09066362220': 259, 'yer': 11296, 'inside': 7379, 'page': 8696, 'NEW': 2915, '11': 315, 'Mom': 2861, 'Imprtant': 2357, 'cheesy': 5453, 'EXPLOSIVE': 1752, 'B4': 1121, 'nalla': 8346, 'fireplace': 6580, 'forgt': 6668, 'Itsnot': 2390, 'omw': 8584, 'sen': 9640, 'bored': 5120, 'yah': 11280, 'ps3': 9115, 'IDPS': 2297, 'Shop': 3666, '153': 379, 'Thurs': 3990, 'carryin': 5357, 'Received': 3391, 'ing': 7365, 'energy': 6307, 'bunkers': 5226, '£150': 11371, 'sitll': 9804, 'vibrant': 10852, 'THO': 3882, 'gotta': 6910, 'wine': 11091, 'fixd': 6592, 'owo': 8683, 'landlines': 7691, '08715203028': 132, '8077': 818, 'Senthil': 3630, 'trek': 10635, 'convey': 5700, 'kanji': 7574, 'Chinatown': 1474, 'hanks': 7023, 'dawhats': 5878, 'EY': 1754, 'Mobiles': 2854, 'TaKe': 3921, 'realised': 9228, 'vouchersText': 10904, 'Aka': 1038, 'housework': 7205, 'Suganya': 3808, 'followin': 6638, 'STOP2stop': 3550, 'welcome': 11021, 'outfit': 8655, 'BabyGoodbye': 1214, 'babysitting': 4891, 'Shall': 3647, 'King': 2511, 'feelingwavering': 6520, 'ee': 6251, 'mint': 8179, '450Ppw': 636, 'issues': 7445, 'million': 8159, 'interest': 7393, 'Gaze': 2036, 'herI': 7099, 'hasnt': 7042, 'wc1n3xx': 10982, 'wwwareyouuniquecouk': 11224, '0207': 9, '25F': 460, '62220Cncl': 732, 'news': 8415, '131004': 343, 'dealing': 5899, 'wwwringtonescouk': 11244, 'jazz': 7496, 'sang': 9530, 'Brainless': 1302, 'beautifulMay': 4966, 'theregoodnight': 10419, 'PARIS': 3106, 'ibored': 7279, 'FREEMSG': 1868, 'hyde': 7271, 'XX': 4367, 'wwwrtfsphostingcom': 11245, 'birla': 5048, 'AD': 940, 'Caught': 1450, 'Sagamu': 3585, 'Nigh': 2980, 'wthout': 11203, 'presnts': 9024, 'Yaxxx': 4414, 'joke': 7529, 'mp3': 8277, 'lil': 7804, 'solve': 9904, 'safely': 9509, 'guide': 6978, 'Skip': 3701, 'Nojst': 3000, 'caroline': 5354, 'thkin': 10443, 'xt': 11268, 'plenty': 8898, 'dreamsu': 6159, 'attractioni': 4835, 'Amrca': 1064, 'charming': 5429, 'vague': 10818, 'ful': 6750, 'lambda': 7684, 'booked': 5111, 'Shifad': 3657, 'SI': 3488, 'Valid12hrs': 4162, 'right': 9422, 'ok': 8567, 'arranging': 4780, 'PoBox12n146tf150p': 3245, 'tm': 10514, 'GREAT': 2019, 'muchand': 8300, 'INFORM': 2319, '08718738034': 169, 'Fredericksburg': 1940, 'vomit': 10897, 'IQ': 2329, 'windows': 11088, 'knw': 7647, 'foward': 6687, '61200': 730, 'wasn‘t': 10961, 'abstract': 4473, 'Per': 3200, 'Matthew': 2802, 'required': 9359, 'Hope': 2266, 'bought': 5132, 'Hanging': 2184, 'wwwLdewcom': 11215, 'nudist': 8505, 'film': 6553, 'xxxxxxxx': 11276, 'Getting': 2049, 'Vry': 4186, '09064012160': 238, 'one': 8586, '4few': 662, 'bye': 5257, 'Waiting': 4259, 'greatly': 6941, 'function': 6756, 'membershiptake': 8111, 'WatrDayNo': 4280, 'CHARGE': 1365, 'Dorothykiefercom': 1699, 'ipad': 7420, 'laurie': 7723, 'weird': 11017, 'registration': 9298, 'Laughing': 2612, 'sized': 9813, 'nearly': 8378, 'dessert': 5982, 'ratio': 9203, 'SaLL': 3580, 'Live': 2637, 'suckers': 10185, 'uploaded': 10768, 'mini': 8172, 'ft': 6742, '08712400603': 109, 'wwwSMSacunatalie2k9': 11223, 'juan': 7545, 'restUWud': 9387, '0870': 74, 'syllabus': 10275, 'sha': 9679, 'heavy': 7079, 'pm': 8908, 'talks': 10305, 'cock': 5571, 'entertain': 6323, 'tol': 10538, 'oblisingately': 8530, 'ws': 11198, 'dough': 6139, 'tt': 10661, 'reapply': 9236, 'Elvis': 1775, 'tactless': 10289, 'Checkmate': 1468, 'luvs': 7955, 'counts': 5745, 'YES910': 4393, 'QUITE': 3305, 'fainting': 6459, 'messenger': 8142, 'Message': 2817, 'Toledo': 4014, 'roller': 9456, 'helping': 7093, 'COMPETITION': 1389, 'entey': 6325, 'splash': 9998, 'wkg': 11122, 'slots': 9846, '08701213186': 76, 'plans': 8882, 'TnC': 4008, 'pai': 8698, 'awake': 4871, 'cozy': 5757, 'Quote': 3320, 'Realy': 3389, 'hlday': 7141, 'Black': 1264, 'mail': 7993, 'option': 8621, 'Wheres': 4311, 'pics': 8848, 'TXTAUCTIONTxt': 3918, 'tue': 10664, 'CUTE': 1411, 'renting': 9336, 'opportunity': 8611, 'jumpers': 7552, '87066': 868, '09061790126': 231, 'biolas': 5045, 'Salad': 3587, 'shared': 9693, 'everyboy': 6379, '447per': 629, 'esplanade': 6354, 'CONCERNED': 1391, 'Takecare': 3924, 'deyhope': 5997, 'polys': 8929, 'Hmmmkbut': 2243, 'sapna': 9532, 'sayask': 9555, 'bus822656166382': 5238, 'supervisor': 10223, 'BUDDY': 1204, 'HeyGreat': 2223, 'bro': 5185, 'newspapers': 8419, 'guarantee': 6968, 'digital': 6034, 'St': 3769, 'nose': 8473, 'hides': 7119, 'hug': 7235, 'biggest': 5035, 'day2find': 5882, 'kg': 7602, 'north': 8470, 'bambling': 4909, 'Tension': 3946, '1Cup': 398, 'temple': 10364, 'services': 9662, 'smsshsexnetUN': 9880, 'Polys': 3257, 'cos': 5727, 'PARTNERS': 3109, 'One': 3077, 'FOUNDURSELF': 1862, 'Street': 3790, 'INFORMATION': 2320, 'rocks': 9450, '08002988890': 60, 'Toa': 4010, 'calm': 5300, 'masters': 8045, 'FIGHTS': 1845, 'TEXTS': 3864, 'warranty': 10956, '85233': 858, 'Determined': 1655, 'Fifty': 1906, 'Finished': 1917, 'huai': 7231, 'lotsly': 7901, 'sis': 9799, 'evei': 6368, 'MSG': 2757, '1childish': 412, 'X': 4359, 'Broadband': 1316, 'cheat': 5441, 'A£50': 1119, 'payment': 8774, 'olowoyey': 8582, 'basically': 4932, 'computational': 5641, 'ADP': 943, 'liaoSo': 7777, 'fly': 6627, 'Select': 3621, 'FREERingtone': 1871, 'ENTRY': 1732, 'ppt150x3normal': 8986, 'Want': 4267, 'WAITING': 4195, 'casting': 5370, 'Spending': 3749, 'avble': 4860, 'record': 9267, 'epi': 6335, 'degree': 5937, 'doctor': 6094, 'ireneere': 7425, 'rest': 9386, 'Ref9307622': 3397, 'systems': 10280, '16only': 385, 'FriendshipMotherFatherTeachersChildrens': 1954, 'dict': 6011, 'nan': 8353, 'tune': 10670, 'HelloHow': 2210, 'seriously': 9658, 'carly': 5352, 'dent': 5957, 'DETAILS': 1582, 'lovin': 7922, '2yr': 541, 'dinnermsg': 6046, 'showed': 9745, 'referin': 9283, 'MUSIC': 2767, 'XoXo': 4376, 'toDo': 10520, 'Abeg': 997, 'hut': 7265, '2B': 478, 'Thy': 3993, 'Traffic': 4030, 'redeemable': 9276, 'TALKING': 3842, 'freaky': 6698, 'MO': 2737, '4742': 643, 'Meet': 2811, 'stressfull': 10129, 'Minnaminunginte': 2833, 'gei': 6811, 'favor': 6504, 'WKEND': 4227, 'httpwap': 7224, 'Ringtone': 3424, 'Bull': 1327, 'Beware': 1253, 'optimistic': 8619, 'awesome': 4875, 'Bluetooth': 1274, 'titleso': 10507, 'Brief': 1309, 'No81151': 2989, 'smidgin': 9865, 'pocay': 8911, 'finalise': 6558, 'UP4': 4083, 'donewant': 6121, 'FIELDOF': 1842, 'RECEIVE': 3337, 'I‘ll': 2400, 'offer': 8546, 'Try': 4041, 'theory': 10415, 'ANAL': 965, 'enters': 6322, 'ned': 8385, 'Kaiez': 2484, 'cn': 5563, 'ELLO': 1724, '32000': 560, 'returns': 9407, 'Poop': 3258, 'Jesus': 2442, 'NAME1': 2905, 'ripped': 9435, 'Jeremiah': 2437, 'poem': 8915, 'Nottingham': 3016, 'Claim': 1485, '4403LDNW1A7RW18': 626, '7shy': 801, 'Honeybee': 2264, 'doctors': 6095, 'transaction': 10611, 'bunch': 5224, 'Spiral': 3751, 'KUDIyarasu': 2483, 'iz': 7467, '8WP': 902, '6ish': 765, 'juicy': 7547, 'Usmle': 4141, 'POST': 3158, '09058098002': 210, 'uncut': 10724, 'kanowhr': 7578, 'Hiwhat': 2234, 'senthil': 9651, 'computers': 5644, 'GSOH': 2021, 'ALETTER': 959, 'maga': 7984, 'Classic': 1486, 'PICS': 3126, 'suply': 10224, '80155': 811, 'may': 8065, 'astoundingly': 4816, 'watch': 10966, 'astrology': 4817, 'Ic': 2343, 'skins': 9817, 'furniture': 6765, 'expect': 6416, 'pongaldo': 8932, 'lodging': 7860, 'mango': 8017, 'Mumtaz': 2892, 'pouch': 8972, 'bet': 5017, 'comedy': 5602, 'Ask': 1096, '30': 544, 'capital': 5326, '087143423992stop': 124, 'include': 7335, 'wanna': 10944, 'princeGN': 9045, 'soo': 9930, 'Charles': 1461, 'maths': 8052, 'hostel': 7194, 'Damn': 1619, 'bloody': 5088, 'suppose': 10233, 'Sbut': 3606, 'opt': 8617, 'President': 3276, '14thMarch': 352, 'juliana': 7549, 'await': 4869, 'TASTS': 3845, 'Fffff': 1904, 'wamma': 10941, 'StrongBuy': 3793, 'Vettam': 4170, 'inour': 7374, '4MY': 653, 'MUCHI': 2762, 'click': 5540, 'recd': 9247, 'UU': 4098, 'satisfied': 9543, 'CocaCola': 1493, '09094100151': 278, 'spoon': 10010, 'chess': 5461, 'Yesbut': 4426, '10p': 311, 'stable': 10032, 'HELLO': 2127, 'Help08714742804': 2215, 'opponenter': 8610, 'agree': 4579, 'ladies': 7675, 'Trackmarque': 4028, 'REPORT': 3345, 'youre': 11329, 'scraped': 9580, 'Sweetest': 3828, 'posible': 8951, 'Doggy': 1689, 'mre': 8279, 'mylife': 8331, 'Cuz': 1560, 'version': 10848, 'syrup': 10278, 'sun0819': 10210, 'FREENokia': 1869, 'BBDpooja': 1142, 'tosend': 10585, 'Nvm': 3026, 'Jus': 2466, 'lie': 7784, 'redred': 9277, 'know': 7639, 'win150ppmx3age16': 11085, 'visiting': 10883, 'Innocent': 2373, '80182': 813, 'mr': 8278, '1120': 316, 'passThey': 8751, 'source': 9956, 'REWARD': 3348, 'parish': 8733, 'famamus': 6472, '60P': 728, 'shelf': 9701, '7250i': 776, 'bookshelf': 5115, '01223585334': 5, 'WAY2SMSCOM': 4202, 'whens': 11052, 'in2': 7330, 'haven\\x92t': 7052, 'Final': 1911, 'SPTV': 3538, 'stuffed': 10155, 'songs': 9928, 'knowwait': 7645, 'normally': 8469, 'ni8': 8421, 'themP': 10411, 'centre': 5397, 'Speak': 3746, 'floppy': 6618, 'problum': 9070, 'funk': 6761, 'blastin': 5069, 'Sppok': 3759, 'kisi': 7626, 'M26': 2686, 'aust': 4849, '09061221066': 217, 'advance': 4543, 'Psychiatrist': 3294, 'chikkuk': 5480, 'shouldnt': 9738, 'MINS': 2724, 'mins': 8175, 'bsnl': 5206, 'obviously': 8532, 'cultures': 5804, 'hopeing': 7183, 'jess': 7506, 'dogwood': 6108, 'INVITED': 2327, 'Contact': 1516, 'nowcan': 8495, 'THANX': 3867, 'Science': 3610, 'TRUBLE': 3908, 'favourite': 6507, 'whats': 11047, '09066649731from': 270, 'loss': 7895, 'arestaurant': 4759, 'swoop': 10272, 'promoting': 9095, 'outhave': 8658, 'Rose': 3435, '83338': 839, 'What‘s': 4306, 'spotty': 10015, '1ER': 400, 'tablet': 10284, 'DAY': 1570, 'July': 2463, 'EXORCIST': 1749, 'telly': 10357, 'reason': 9238, 'initiate': 7367, 'reache': 9215, '2U': 501, 'Driver': 1710, 'comfey': 5607, '83332Please': 838, 'popcorn': 8942, 'horrible': 7189, 'Soup': 3741, 'somethings': 9916, 'stereo': 10083, 'SAE': 3448, 'aid': 4589, 'Helloooo': 2212, 'web2mobile': 10994, 'layin': 7728, 'NOW1': 2937, 'Sure': 3822, 'jam': 7481, 'wwwLdewcom1win150ppmx3age16subscription': 11217, 'ikea': 7303, 'seat': 9599, '2006': 431, 'strangersaw': 10123, 'stitch': 10096, 'illness': 7306, '08707500020': 92, 'Feeling': 1902, 'girlie': 6846, 'worthless': 11177, 'putting': 9144, 'Diseases': 1677, '08712460324': 118, 'callertune': 5292, 'REAL': 3328, 'DONT': 1597, 'turning': 10674, 'banks': 4915, 'EG23F': 1722, 'dick': 6010, 'Alright': 1053, 'fetching': 6531, 'getzedcouk': 6833, 'FONE': 1859, 'catch': 5374, 'dislikes': 6071, 'image': 7308, 'Hasbroin': 2191, '08707509020': 93, 'teams': 10339, '89034': 889, 'build': 5219, 'cell': 5394, 'sells': 9635, 'darkest': 5861, 'factory': 6451, 'Lvblefrnd': 2683, 'BRISTOL': 1194, 'freaking': 6697, 'EVERY1': 1743, 'hella': 7086, 'brin': 5179, 'puzzles': 9146, 'jules': 7548, '730pm': 779, 'sticky': 10091, 'gdeve': 6807, 'tones2youcouk': 10554, '09065174042': 249, 'Geoenvironmental': 2044, 'sayy': 9560, 'cal': 5269, 'novelty': 8488, 'youd': 11318, 'COLLECT': 1384, 'a30': 4459, 'golden': 6884, 'Luxury': 2682, 'infra': 7363, '49557': 646, 'til': 10485, 'worryuse': 11173, 'Voda': 4179, 'HELLOYou': 2129, 'MESSAGEThanks': 2715, 'wrking': 11192, 'polyPH': 8926, 'Cost': 1524, 'history': 7134, 'northampton': 8471, 'Hardcore': 2188, 'TALK': 3838, 'bhaskar': 5027, 'SEENO': 3467, 'sathya': 9542, '08719180248': 171, 'pressies': 9026, 'ah': 4580, 'ACTUALLY': 939, 'Working': 4346, 'sofa': 9897, 'Short': 3670, '449050000301': 631, 'offering': 8548, '8o': 906, 'dl': 6084, 'shake': 9685, 'members': 8109, 'stuffwhy': 10159, 'hermy': 7104, 'stoptxtstop£150week': 10111, 'situation': 9808, 'picture': 8849, 'Bank': 1224, 'ke': 7586, 'breeze': 5168, 'ive': 7466, 'Boss': 1290, 'Express': 1827, '88888': 888, 'canal': 5310, 'Toxic': 4027, 'west': 11036, 'gs': 6965, 'Didnt': 1663, 'Identifier': 2348, 'shaping': 9691, 'GETTIN': 1981, '84128': 849, 'sumfing': 10205, 'spreadsheet': 10017, 'Shampain': 3648, 'prefer': 9009, 'try': 10655, 'Number': 3021, 'rubber': 9482, 'MSGS': 2758, 'opening': 8604, 'misfits': 8189, 'symbol': 10276, 'irulinae': 7431, 'wipro': 11098, 'stash': 10061, '247MP': 452, 'vill': 10871, '2mro': 523, 'dignity': 6036, 'brisk': 5183, 'file': 6547, 'samachara': 9523, 'Gn': 2058, 'surrounded': 10246, 'dinner': 6045, 'nav': 8370, 'kaila': 7565, 'Click': 1487, 'Another': 1068, 'everyones': 6382, 'cameravideo': 5305, 'flatter': 6602, 'DIDN\\x92T': 1584, 'fake': 6462, 'weather': 10991, 'call': 5275, 'lyf': 7958, 'FRMCLOUD': 1878, 'Bonus': 1282, 'daysso': 5887, '84122': 848, 'AROUND': 976, 'abroad': 4470, 'attitude': 4834, 'six': 9811, 'Call': 1417, 'sea': 9595, 'tactful': 10288, 'DADS': 1563, 'sory': 9948, 'www4tcbiz': 11210, 'camry': 5308, 'Rajitha': 3372, 'poking': 8920, 'MARSMS': 2701, 'weight': 11015, 'plaid': 8875, 'weeks': 11011, 'total': 10589, 'selfish': 9631, 'Uks': 4106, 'LADIES': 2545, 'jabo': 7475, 'xxSP': 11271, 'engaged': 6308, 'GoldDigger': 2068, 'fingers': 6569, 'EURO2004': 1737, 'elaya': 6276, 'LS15HB': 2590, 'Hot': 2273, 'Panther': 3185, 'wizzle': 11118, 'dearly': 5907, 'lanre': 7697, 'oyster': 8685, 'unsold': 10755, 'formal': 6669, '80488biz': 816, '09058097218': 209, 'gave': 6799, 'vale': 10821, 'Leaving': 2618, 'Address': 1012, 'TOCALLSHALL': 3888, 'Wont': 4339, 'Ganesh': 2032, 'BCozI': 1149, 'Everything': 1810, 'gives': 6852, 'almost': 4625, 'Still': 3783, 'l8tr': 7667, '5': 684, '09065394514': 250, 'excused': 6405, 'Playin': 3234, 'tallahassee': 10307, 'IKNO': 2302, '3680': 571, 'award': 4872, 'carefully': 5341, 'Imagine': 2354, 'Hang': 2183, 'CARLIE': 1352, '180': 388, 'entertaining': 6324, 'groovying': 6955, 'itwhichturnedinto': 7462, 'Optout': 3090, 'alive': 4615, 'Boo': 1283, 'jst': 7544, 'failing': 6457, 'Either': 1771, 'independently': 7345, 'TALKED': 3840, 'hardcore': 7037, 'YEH': 4387, 'DUMB': 1613, 'HUNNY': 2165, 'tok': 10535, 'networks': 8407, '89123': 893, 'TryWALES': 4042, 'rain': 9181, 'female': 6527, 'yor': 11312, 'court': 5750, 'lemme': 7757, 'gdthe': 6809, 'Yagoing': 4408, 'bein': 4996, 'rupaul': 9496, 'demand': 5953, 'sporadically': 10011, 'Swayze': 3826, 'Lifpartnr': 2627, 'DOESDISCOUNTSHITINNIT': 1591, 'reasonable': 9239, 'SEEN': 3466, 'Juz': 2467, 'pride': 9041, 'Lucozade': 2677, 'SP': 3525, 'lives': 7842, 'low': 7926, 'secretly': 9606, 'whos': 11064, 'magic': 7987, 'powerful': 8980, '09065989182': 253, 'FrogAXEL': 1956, '41685': 616, 'neekunna': 8394, 'Pain': 3180, 'laden': 7674, 'mood': 8252, 'Natalja': 2953, 'workLove': 11157, 'bend': 5009, 'Mine': 2831, 'petrol': 8821, 'goodies': 6896, 'Enjoy': 1786, 'IM': 2308, '40mph': 614, 'daddy': 5837, 'optout': 8622, 'shorter': 9733, 'weekdays': 11007, 'hoo': 7171, 'SiPix': 3676, 'NOKIA6600': 2934, 'AGO': 951, 'executive': 6408, 'outage': 8651, 'thepub': 10417, 'Messagesome': 2819, '09050000332': 181, 'LMAO': 2570, 'Hmmmy': 2246, 'Ull': 4107, '08704439680TsCs': 89, 'latelyxxx': 7713, 'customersqueriesnetvisionukcom': 5822, 'wana': 10943, 'boo': 5108, 'notxtcouk': 8486, 'Please': 3235, 'Wan2': 4264, '2marrow': 517, 'earning': 6224, 'sitting': 9807, 'chgs': 5467, '2nhite': 527, 'GOODNITE': 2006, 'sentence': 9650, 'fucked': 6744, 'opted': 8618, 'images': 7309, 'can‘t': 5324, 'Starting': 3774, 'spiritual': 9996, 'tape': 10314, 'INDIANS': 2317, 'tigress': 10482, 'profiles': 9082, 'meets': 8097, 'fishhead': 6586, '09061743810': 225, 'alfie': 4609, 'victoria': 10856, 'noon': 8463, 'entered': 6321, 'hat': 7044, '09058094455': 199, 'VIP': 4155, 'Lmaonice': 2642, 'trouser': 10646, 'gain': 6774, 'touch': 10592, 'silence': 9777, 'local': 7854, 'Gods': 2064, 'Rent': 3412, 'VPOD': 4157, 'hidden': 7117, 'tomorrowtoday': 10551, 'screamed': 9585, 'Tunji': 4055, 'loo': 7879, 'NEO69': 2911, 'onlinewhy': 8593, 'Wins': 4326, 'service': 9661, 'bac': 4892, 'fees': 6522, 'jokin': 7533, 'Ltd': 2671, 'convince': 5702, 'jesus': 7507, 'affectionate': 4554, 'italian': 7448, 'sunoco': 10215, 'runs': 9495, 'ENTER': 1731, 'PRIZEAWAITING': 3167, 'project': 9087, 'perform': 8801, 'dirty': 6055, 'braved': 5157, 'blankets': 5068, 'establish': 6357, 'bath': 4939, 'time': 10487, '078': 36, 'thandiyachu': 10389, 'marry': 8037, 'BUS': 1205, 'Feel': 1901, 'bloke': 5082, 'transfr': 10617, 'obese': 8527, 'ideas': 7292, 'MonthlySubscription50pmsg': 2868, 'Tessypls': 3951, 'Schools': 3609, 'JULY': 2418, '10pmin': 312, 'uSo': 10700, 'lived': 7840, 'la': 7668, 'nails': 8344, 'forever': 6658, 'Remove': 3411, 'confuses': 5667, 'Reply': 3414, 'goodnite': 6899, 'Okors': 3070, 'mob': 8215, 'WC1N': 4203, 'acting': 4510, 'th': 10388, 'yoHere': 11309, 'bike': 5036, 'PLAY': 3131, 'youso': 11331, 'Makes': 2781, 'ARR': 977, 'AUGUST': 984, 'BACKWARDS': 1131, 'PSXTRA': 3173, 'desert': 5975, 'Vote': 4183, 'wise': 11101, 'recieve': 9263, 'Motorola': 2880, 'thing': 10430, 'Sunscreen': 3816, 'charged': 5423, 'November': 3017, 'fear': 6509, 'chex': 5463, 'Cozsomtimes': 1532, 'sup': 10219, 'Nookii': 3006, 'Perhaps': 3201, 'bras': 5155, 'gynae': 6990, 'palm': 8707, 'rightly': 9423, 'true': 10648, 'rules': 9488, 'gobi': 6871, '2MORO': 490, 'Nights': 2982, 'unusual': 10761, 'seperated鈥┾〨ud': 9653, 'lubly': 7941, 'Yavnt': 4412, 'deleted': 5946, 'gentleman': 6818, '23': 446, 'speak': 9971, 'snowman': 9892, 'lar': 7701, 'clarify': 5524, 'Apnt': 1075, 'star': 10047, 'chatIm': 5436, 'Ssnervous': 3768, '09071512433': 273, 'alian': 4613, 'hours': 7201, 'GWR': 2025, 'lying': 7960, 'hunonbus': 7253, 'hr': 7214, '9996': 922, 'Cute': 1557, 'buttons': 5247, 'i’m': 7473, 'JEN': 2412, 'belt': 5007, 'Ts': 4044, 'cyclists': 5830, 'inde': 7343, 'Head': 2196, 'Aah': 992, 'PROPERLY': 3170, 'FREINDS': 1873, 'Mystery': 2901, 'undrstnd': 10730, 'hypotheticalhuagauahahuagahyuhagga': 7273, 'different': 6029, 'Jenxxx': 2436, 'university': 10747, 'Eatin': 1761, '3': 543, 'hopeSo': 7178, '09066364349': 262, 'Cs': 1544, '1stone': 420, 'shouldn‘t': 9739, 'maximize': 8062, 'POBOX11414TCRW1': 3139, 'lots': 7900, '83355': 840, 'HGSuite3422Lands': 2132, '139': 346, 'Nice': 2975, 'idconvey': 7289, 'treats': 10632, 'Tired': 4001, '020903': 14, 'Wot': 4349, 'game': 6782, 'device': 5994, 'acid': 4503, 'huiming': 7240, 'Text82228': 3954, 'allah': 4617, 'wwwSMSacunat27081980': 11222, 'relax': 9307, '130': 342, 'sachinjust': 9503, 'giving': 6853, 'reassuring': 9242, 'confused': 5666, 'hanger': 7020, 'Orchard': 3094, 'Ugh': 4102, 'pthis': 9116, 'batsman': 4943, 'Prasanth': 3268, '08715205273': 139, 'misscall': 8192, 'getiing': 6826, 'Never': 2966, 'webadres': 10995, 'cons': 5673, '140ppm': 349, 'prix': 9056, 'grumble': 6964, 'kafter': 7564, 'searching': 9597, 'shining': 9707, '£12': 11367, 'applebees': 4728, 'horniest': 7187, 'officethenampet': 8553, 'yijuehotmailcom': 11306, 'AWARD': 990, 'ghodbandar': 6835, 'b\\x92day': 5259, 'exposed': 6430, 'weasels': 10990, 'rent': 9334, 'BELIEVE': 1155, 'lounge': 7909, 'Captain': 1438, 'ONTO': 3044, 'askin': 4802, 'WISHING': 4223, 'Points': 3251, 'officer': 8551, 'Kit': 2513, 'plumbers': 8903, 'thatdont': 10400, 'bcum': 4955, '08717507711': 146, '1843': 390, 'PORN': 3156, 'Airtel': 1033, 'SLEPT': 3503, 'sth': 10089, 'GET': 1980, 'goes': 6877, '731': 780, 'perspective': 8818, 'Hurts': 2289, 'Baaaaabe': 1210, 'tix': 10509, 'Uncle': 4114, 'solihull': 9903, 'stamps': 10042, 'restock': 9390, 'bring': 5180, 'vikkyim': 10869, 'OFFICE': 3032, 'Ave': 1111, 'slippery': 9843, '£3350': 11389, 'rael': 9176, 'perhaps': 8805, 'friend': 6717, 'inmind': 7369, 'studentsthis': 10147, 'Reason': 3390, 'ey': 6439, 'kanoil': 7577, 'langport': 7694, 'DOCKS': 1590, '128': 335, 'religiously': 9312, 'PoBox45W2TG150P': 3247, 'fantastic': 6483, 'crisis': 5784, 'Payee': 3195, 'statements': 10064, 'toot': 10571, 'hint': 7129, 'flag': 6596, 'G': 1965, 'okvarunnathu': 8575, 'Caller': 1420, '09111030116': 288, 'alwys': 4642, 'Oru': 3098, 'respect': 9377, 'xins': 11265, 'chapter': 5419, 'sextextukcom': 9674, 'loyal': 7930, 'frndsship': 6731, 'luvNight': 7953, 'hp': 7212, 'desparately': 5979, 'requires': 9361, 'hoped': 7180, 'slightly': 9840, 'carewhoever': 5348, 'moviewat': 8275, 'sem': 9636, 'east': 6231, 'X49': 4362, 'terrorist': 10372, 'MySpace': 2900, 'WRONGTAKE': 4249, 'stealing': 10076, 'ringtoneking': 9431, 'usc': 10791, 'Hlp': 2236, 'Going': 2066, 'NGage': 2917, 'je': 7498, 'anytime': 4710, 'locations': 7856, 'sound': 9952, 'Tata': 3928, 'section': 9609, 'sing': 9789, 'Secured': 3618, 'docs': 6093, 'Georges': 2045, 'andor': 4665, 'couldn\\x92t': 5741, 'UKmobiledate': 4076, 'package': 8691, '0121': 3, 'cry': 5793, 'ass': 4807, 'lifeand': 7788, 'holy': 7158, 'sutra': 10249, 'Sat': 3599, 'fuckin': 6745, 'cost£375max': 5734, '2exit': 511, 'Expecting': 1824, 'wishes': 11104, 'httpgotbabescouk': 7221, 'times': 10491, 'Unlike': 4121, 'EXPLAIN': 1751, 'uworld': 10814, 'bundle': 5225, 'Somebody': 3725, 'fumbling': 6754, 'gets': 6828, 'Forgot': 1934, 'Freemessage': 1947, 'GBP5month': 1976, 'hospital': 7192, 'pls': 8901, 'proze': 9113, '£300': 11388, 'medical': 8088, 'frwd': 6740, 'garage': 6789, 'Cause': 1451, 'unbelievable': 10714, 'recorder': 9269, 'lotsof': 7902, 'Bbq': 1228, 'yettys': 11301, 'thoughtsI': 10453, 'showers': 9748, 'kallis': 7570, 'CALM': 1344, 'muchimpede': 8302, 'shock': 9720, 'smoking': 9874, 'Abbey': 996, 'timings': 10497, 'workin': 11159, 'grooved': 6953, 'Breaker': 1308, 'appreciate': 4737, 'brilliant1thingi': 5177, 'story': 10116, 'gym': 6988, 'full': 6752, 'lesser': 7766, 'frnd': 6726, '0784987': 43, 'thinking': 10437, 'hogidhechinnu': 7147, 'unfortuntly': 10736, 'linerental': 7813, 'innings': 7371, 'costumes': 5733, 'kodstini': 7650, 'BEER': 1153, 'Okay': 3065, 'expired': 6424, 'jack': 7476, 'itor': 7459, '02073162414': 12, 'Box434SK38WP150PPM18': 1298, 'MINE': 2722, 'writhing': 11190, 'tho': 10446, 'Iam': 2341, 'tkts': 10512, 'account': 4496, 'juz': 7560, 'youcarlos': 11317, 'tells': 10356, 'hey': 7114, 'saw': 9553, 'itmay': 7458, 'didntgive': 6015, 'remind': 9322, 'GOODFRIEND': 2003, 'Eta': 1795, '2stop': 534, 'ho': 7145, 'quit': 9163, 'LOTS': 2583, 'Twelve': 4057, 'MISS': 2726, 'Queries': 3312, 'haf': 6997, 'inst': 7381, 'reminder': 9324, 'crushes': 5792, 'team': 10338, 'XXXXX': 4372, 'score': 9576, '1131': 318, 'bros': 5190, 'Rain': 3368, 'blogging': 5081, 'beforehand': 4985, 'sarasota': 9534, 'jamstercouk': 7484, '08717507382': 145, 'Welcome': 4292, 'calicut': 5272, 'asa': 4791, 'enough': 6319, 'SHOP': 3484, 'W1J': 4190, 'spelled': 9986, '5249': 694, 'batchlor': 4938, 'shoes': 9722, 'canname': 5317, 'Mailbox': 2778, 'alivebetter': 4616, 'BBDELUXE': 1141, 'burrito': 5236, 'WRKIN': 4247, 'selflessness': 9632, 'neglet': 8397, 'MOAN': 2738, '82277unsub': 828, 'hard': 7036, 'PUB': 3175, 'sux': 10250, 'shite': 9714, 'jaya': 7493, 'youuuuu': 11333, 'Reading': 3385, 'Potter': 3262, 'wrote': 11197, 'Boost': 1288, 'fuelled': 6748, 'amk': 4647, 'call2optoutN9DX': 5283, 'begging': 4989, '£10': 11361, 'Direct': 1672, 'Brought': 1318, 'bootydelious': 5118, 'sao': 9531, 'Weve': 4300, '290305': 475, 'phone': 8831, 'IMPORTANT': 2312, 'LILY': 2564, 'cheek': 5449, 'obedient': 8526, 'xxxmobilemovieclubcomnQJKGIGHJJGCBL': 11273, 'soc': 9894, 'differences': 6028, 'voice': 10894, 'endowed': 6303, 'switch': 10270, 'pushes': 9139, 'Easy': 1759, 'ans': 4687, 'Air': 1032, 'Strip': 3791, 'Burns': 1329, 'lttrs': 7940, 'Eleven': 1774, 'stalking': 10040, '80062': 806, 'Unless': 4120, 'Kkwhat': 2525, 'scarcasim': 9564, 'GOT': 2012, 'yuo': 11346, 'DIGITAL': 1585, 'big': 5033, '400minsCall': 608, 'exactly': 6396, 'graphics': 6930, 'contribute': 5694, 'machiany': 7970, 'SWAP': 3575, 'painhope': 8702, 'planetI': 8879, 'xin': 11264, 'baig': 4902, 'mw': 8330, 'immediately': 7314, 'scenario': 9567, 'THEWEND': 3878, 'Mark': 2794, 'TRUE': 3909, 'continue': 5691, 'Oi': 3062, 'Hahahause': 2173, 'hope': 7177, 'corporation': 5719, 'Petey': 3209, 'wwwwin82050couk': 11258, 'forums': 6679, 'happened': 7027, 'worms': 11168, '3wks': 603, 'Ure': 4134, 'havent': 7051, 'Sary': 3598, 'telephone': 10353, 'norm150ptone': 8467, 'lov': 7911, 'yam': 11283, 'frndZ': 6727, 'wesleys': 11035, 'Personality': 3205, 'thruRespect': 10467, 'box403': 5142, 'hail': 7000, 'HAVENTCN': 2122, 'Ladies': 2600, 'GOSSx': 2011, 'pie': 8851, 'Money': 2866, 'Dad': 1616, 'milk': 8157, 'ZOUK': 4454, 'continued': 5692, 'MADE': 2693, 'Sday': 3614, 'valentine': 10822, 'eightish': 6268, 'chop': 5503, 'Tee': 3938, 'rows': 9473, 'BOYF': 1188, '9YT': 924, 'yowifes': 11340, 'commercial': 5615, 'Well': 4293, 'frnds': 6728, 'AOM': 971, 'predictive': 9008, 'Reference': 3398, 'cold': 5582, '123': 332, 'explicit': 6428, 'Mandy': 2788, '0870753331018': 94, 'summer': 10206, 'Btw': 1323, 'dey': 5996, 'lately': 7712, 'dual': 6192, 'chief': 5472, 'alter': 4637, 'involve': 7415, 'outbid': 8653, 'treadmill': 10627, 'urgentbut': 10780, 'categories': 5377, 'rip': 9434, 'Nurungu': 3023, 'delayed': 5944, 'range': 9197, 'gbpsms': 6805, 'TnCs': 4009, 'exact': 6395, 'chocolate': 5498, 'Miles': 2827, '0870241182716': 84, 'lifetime': 7791, 'dagood': 5840, 'lifebook': 7789, 'acted': 4508, 'arts': 4788, 'Sexy': 3639, 'Egbon': 1768, 'HGSuite3422LandsRowW1J6HL': 2133, 'MOVIE': 2750, '850': 854, 'khelate': 7604, 'room': 9460, 'CANT': 1348, 'Gimme': 2052, 'that2worzels': 10398, 'Sherawat': 3653, 'Webpage': 4285, 'UNDERSTaND': 4079, 'YA': 4382, 'anjolas': 4675, 'hill': 7124, 'Minimum': 2832, 'EVONE': 1745, 'fire': 6577, 'Britney': 1315, 'competition': 5624, 'Jst': 2460, 'professors': 9080, 'Im': 2352, 'moved': 8271, 'HOLIDAY': 2144, 'meso': 8131, 'Hoping': 2268, 'drvgsTo': 6187, 'tech': 10344, 'contacted': 5684, 'receivea': 9253, '4712': 642, 'tirupur': 10505, 'widelivecomindex': 11071, 'pimpleseven': 8860, 'eye': 6440, '1month': 414, 'bedrm900': 4977, 'WeLL': 4284, 'arrange': 4779, 'meaningful': 8081, 'splendid': 9999, 'kkwhere': 7633, 'wasnt': 10959, 'downstem': 6144, 'Pete': 3207, 'YOURE': 4402, 'loved': 7915, 'subscriptions': 10177, '3POUND': 584, 'kaaj': 7562, 'kiss': 7627, 'Stop': 3785, 'sighs': 9768, 'perf': 8799, 'engin': 6311, 'lik': 7799, 'recently': 9257, 'BTW': 1200, 'EVENING': 1740, 'AkonLonely': 1039, 'News': 2971, 'urmomi': 10785, 'Remembered': 3405, 'FREERingtoneReply': 1872, 'conclusion': 5652, 'Kkcongratulation': 2518, 'Paris': 3187, 'whenever': 11051, 'honesty': 7167, 'GAME': 1969, 'virgin': 10877, 'repeating': 9342, '£500': 11398, 'consent': 5675, 'medicine': 8089, 'mj': 8208, 'crickiting': 5782, 'BUTTHERES': 1206, 'hungover': 7248, 'fun': 6755, '82324': 829, 'Divorce': 1679, 'YEST': 4394, 'band': 4910, 'Till': 3997, 'Ten': 3943, 'compromised': 5639, 'Keng': 2496, '2optoutD3WV': 531, 'mymoby': 8332, 'mines': 8171, 'Opinion': 3087, 'planning': 8881, 'takes': 10298, '241': 450, 'though': 10450, 'Forever': 1931, 'BANNEDUK': 1137, 'subscribers': 10175, 'wisdom': 11100, 'chest': 5462, 'Maat': 2771, 'adoring': 4537, 'deam': 5901, 'raping': 9198, 'drizzling': 6172, 'housing': 7206, 'lac': 7671, 'WORK': 4234, 'badly': 4898, 'roads': 9442, 'messy': 8143, '7634': 784, 'careful': 5340, 'law': 7726, 'wwwcnupdatescomnewsletter': 11229, 'KISS': 2476, 'football': 6649, '2go': 513, '530': 697, 'PAYED2DAY': 3114, 'stress': 10126, 'cant': 5320, 'Prabhaim': 3265, 'ayn': 4878, 'wwwSMSacuhmmross': 11221, 'slave': 9828, 'p£399': 9147, 'Pleasure': 3236, 'Compass': 1508, '2StopTxt': 500, 'lag': 7678, 'argument': 4765, 'front': 6736, 'Vegas': 4166, 'entrepreneurs': 6329, 'Dizzamn': 1681, 'general': 6813, 'GOODTIMEOLI': 2008, 'Sex': 3638, 'TheMobHit': 3968, 'wwwclubzedcouk': 11228, 'Truth': 4039, 'Sweet': 3827, 'lodge': 7859, 'fine': 6565, 'bitch': 5054, '83738': 845, 'beloved': 5006, 'kettoda': 7596, 'surrender': 10245, 'Nottel': 3015, 'licks': 7782, 'marandratha': 8026, 'Costa': 1525, 'cricket': 5780, 'SMSSERVICES': 3507, 'YEARS': 4386, 'orno': 8637, '07808': 38, 'identification': 7293, 'Mmmmmm': 2846, 'IKNOW': 2303, 'zoom': 11353, 'individualtime': 7350, 'Lil': 2629, '09066362231': 260, 'proper': 9101, 'usual': 10803, 'drmstake': 6174, 'necessary': 8381, 'raglan': 9177, 'footprints': 6652, '09066364311': 261, '08000938767': 55, 'crashed': 5764, '09058099801': 211, 'magazine': 7985, 'Shahjahan': 3644, 'royal': 9474, 'sheets': 9699, 'raksha': 9188, 'weaknesses': 10985, 'grown': 6961, 'Calling': 1423, 'cooped': 5710, 'crashing': 5765, 'KNOWS': 2481, 'instructions': 7387, 'refused': 9291, 'Cheap': 1466, 'Euro': 1797, 'telling': 10355, 'dental': 5958, 'watches': 10968, 'RANG': 3325, 'prometazine': 9090, 'hadya': 6996, 'JUS': 2419, 'DENA': 1581, 'Howz': 2280, '050703': 16, 'dehydration': 5940, 'MQUIZ': 2753, 'lot': 7897, 'Noits': 2999, 'Multiply': 2890, 'director': 6051, 'highest': 7122, '08712405020': 116, 'SMS': 3506, 'breezy': 5169, 'ASLEEP': 980, 'regretted': 9300, 'minor': 8174, 'slippers': 9842, 'Din': 1667, 'andre': 4666, 'Tomorrow': 4018, 'Msgs': 2887, 'alternativehope': 4638, 'YRS': 4405, 'thru': 10466, 'drunken': 6186, 'impression': 7326, 'scammers': 9563, 'bird': 5046, 'nattil': 8363, 'annoyin': 4682, 'various': 10832, 'SAW': 3457, 'seeds': 9614, 'Wendy': 4296, 'Lancaster': 2601, 'formallyPls': 6670, '80s': 820, 'oblivious': 8531, 'Sweetheart': 3829, '09064019788': 244, 'tp': 10600, 'begins': 4991, 'oz': 8686, 'mrt': 8281, 'polyphonic': 8928, 'exams': 6398, 'Desires': 1654, 'career': 5339, '09096102316': 282, 'itried2tell': 7461, 'pussy': 9140, 'Space': 3743, 'MECAUSE': 2707, 'm8s': 7966, 'Luv': 2680, 'Die': 1664, 'XCHAT': 4364, 'ros': 9465, 'gautham': 6798, 'cbe': 5384, 'UNICEFs': 4081, 'nightswt': 8435, 'prices': 9039, '88877': 886, 'call09050000327': 5276, 'okthenwhats': 8574, 'Txt250com': 4063, 'snow': 9889, 'double': 6134, 'imp': 7316, '1405': 348, 'DeliveredTomorrow': 1647, 'ralphs': 9189, 'stops': 10109, 'gram': 6923, 'fast': 6489, 'nw': 8517, 'make': 8000, 'forms': 6674, 'problembut': 9066, 'auntys': 4848, 'minecraft': 8170, 'allday': 4619, 'hillsborough': 7126, '89545': 894, 'Centre': 1455, 'mo': 8213, 'meh': 8099, 'english': 6313, 'describe': 5973, 'hisher': 7133, 'foot': 6648, 'dun': 6204, 'passes': 8754, 'WID': 4217, 'winds': 11089, 'tts': 10662, 'STUPID': 3560, 'unintentionally': 10742, 'nevamindWe': 8409, 'rsi': 9479, 'CIN': 1376, 'NO1': 2926, 'SOUNDING': 3523, '07090298926': 24, 'pretsorginta': 9030, '£400': 11393, 'MISSY': 2729, 'aunts': 4846, 'honest': 7166, 'pretty': 9032, 'allalo': 4618, 'exwife': 6438, 'gudk': 6972, 'useful': 10795, 'DPS': 1604, 'RANDOM': 3324, 'todayhe': 10529, 'paru': 8748, 'drugdealer': 6181, 'rebooting': 9244, 'chikkuwat': 5482, 'Barry': 1227, 'possible': 8959, 'ignorant': 7300, 'contract': 5693, 'Wherevr': 4312, 'passion': 8755, 'motive': 8264, 'hiphop': 7131, 'affidavit': 4555, 'ownyouve': 8682, 'myparents': 8333, 'pickle': 8847, 'Yay': 4415, 'Neway': 2969, 'INSTEAD': 2323, 'Mathe': 2799, 'FREE': 1865, 'drunkard': 6185, 'ebay': 6238, '3U': 587, 'mesages': 8129, 'put': 9141, 'wer': 11031, 'COMMON': 1388, 'determine': 5989, 'stopCost': 10107, 'Prize': 3283, 'fujitsu': 6749, 'lightly': 7798, 'Loooooool': 2657, 'educational': 6247, 'sensesrespect': 9646, 'ignoring': 7302, 'YESTERDAY': 4395, 'continent': 5690, 'says': 9559, 'Yahoo': 4409, 'anythingtomorrow': 4709, 'multis': 8307, '2I': 487, 'listening2the': 7833, 'Kent': 2498, 'vry': 10906, 'hurricanes': 7256, '730': 777, 'significance': 9772, 'month': 8248, 'avoiding': 4867, 'skye': 9822, 'Maretare': 2792, 'cutting': 5827, 'Canada': 1432, 'nighters': 8429, 'Independence': 2363, 'PLUS': 3135, '54': 699, 'loses': 7893, 'convincing': 5703, 'appear': 4726, 'RALLY': 3323, 'divorce': 6082, 'reminding': 9325, 'dollar': 6116, 'mind': 8164, '69200': 745, 'SOMETHIN': 3514, 'Movie': 2882, 'MAT': 2702, 'lists': 7835, 'chillin': 5491, 'korli': 7655, 'INCLU': 2314, 'exciting': 6403, 'replies': 9348, 'drops': 6177, 'prepared': 9015, 'nannys': 8356, 'sleepingand': 9832, 'boys': 5146, 'eat': 6234, 'Calls150ppm': 1425, 'England': 1784, 'fact': 6450, 'hangin': 7021, '09064015307': 239, 'breath': 5164, 'expensive': 6419, 'processed': 9074, 'Anyone': 1069, 'contacts': 5685, '88800': 884, 'neck': 8383, '2morow': 519, 'logging': 7863, 'scenery': 9568, 'talk': 10303, 'pending': 8791, 'needed': 8388, '09090900040': 277, 'Xavier': 4374, 'LOVE': 2585, 'SD': 3461, 'Small': 3711, '186£150moreFrmMob': 391, 'anythings': 4708, 'cooked': 5706, 'OREOS': 3047, 'weve': 11042, 'fix': 6591, 'dabbles': 5835, 'Diwali': 1680, 'laughs': 7721, 'event': 6372, 'reached': 9216, 'GIMMI': 1984, 'HOPEU': 2150, 'barolla': 4924, 'threats': 10456, 'asshole': 4809, 'interview': 7400, 'heron': 7105, 'Garbage': 2033, 'chastity': 5434, 'Usher': 4140, 'pract': 8988, 'gentle': 6817, 'Okie': 3067, 'realising': 9229, 'TOMORROW': 3891, 'LET': 2556, 'hun': 7244, 'Nokia150p': 3002, 'decision': 5919, 'Food': 1927, 'SONY': 3516, 'lunsford': 7950, 'burden': 5228, 'Ringtones': 3426, '4txt120p': 676, 'addicted': 4521, '6days': 763, 'Seem': 3620, 'restrictions': 9393, 'Apparently': 1077, 'sian': 9762, 'gorgeous': 6904, 'uwant': 10813, 'cars': 5358, 'risks': 9437, 'Jokes': 2449, 'USED': 4096, 'i\\x92d': 7469, 'Kinda': 2509, 'Jane': 2427, 'accident': 4488, 'ago': 4578, '087187272008': 160, 'yould': 11323, 'orc': 8627, 'wordnot': 11153, 'Bognor': 1279, 'SUM': 3564, 'beach': 4959, 'evrydy': 6393, 'projects': 9088, 'Ahmad': 1030, 'Prakesh': 3267, 'Calls£1minMobsmoreLKPOBOX177HP51FL': 1427, 'ths': 10468, 'hang': 7019, 'RTO': 3364, 'answr': 4694, 'strewn': 10131, 'mca': 8070, 'engalnd': 6310, 'TISSCOTayseer': 3884, 'impressively': 7327, '09066380611': 267, 'installing': 7384, 'opposite': 8615, 'Olol': 3073, '2morro': 520, 'minus': 8180, 'GOD': 1994, '3miles': 597, 'WRKI': 4246, 'Eyes': 1831, 'drum': 6183, 'birth': 5049, 'frosty': 6738, 'ID': 2295, 'ahold': 4585, 'RCT': 3326, 'south': 9958, 'hair': 7001, 'parade': 8722, 'shopthe': 9727, 'LIVE': 2568, 'flying': 6629, 'lick': 7781, 'removed': 9329, 'gprs': 6916, 'kindly': 7621, 'bucks': 5211, 'Shit': 3662, 'Randy': 3375, 'colleg': 5590, 'tul': 10669, 'church': 5513, 'forevr': 6659, '9decent': 927, 'merely': 8127, 'thx': 10475, 'kwish': 7663, 'behalf': 4993, 'hoping': 7185, 'Unsubscribe': 4126, 'someplace': 9912, 'notice': 8482, 'transport': 10619, 'size': 9812, 'subscribe': 10172, '7cfca1a': 797, 'Hm': 2237, 'edukkukayee': 6248, 'wallet': 10935, 'msgsometext': 8289, 'finds': 6564, 'folks': 6635, 'MAD2': 2692, 'Props': 3290, 'Mind': 2830, 'korche': 7653, 'purse': 9137, 'Vijay': 4175, 'mgs': 8147, 'tait': 10294, 'breaks': 5163, 'poorly': 8939, 'Dream': 1707, 'PREMIER': 3162, 'deepest': 5929, 'NEEDS': 2909, 'drastic': 6149, 'Open': 3086, 'chinky': 5495, 'busetop': 5240, 'salesman': 9518, 'easy': 6233, 'ANNIE': 966, 'PocketBabecouk': 3250, 'cancelled': 5313, 'dull': 6201, 'qatar': 9148, 'atlanta': 4821, 'syd': 10274, 'swimsuit': 10267, 'Orangei': 3092, 'accidentally': 4489, 'sed': 9612, 'lingerie': 7816, 'shy': 9760, 'HOWS': 2157, 'UKP2000': 4075, 'kisses': 7628, 'Gin': 2053, 'SPK': 3533, 'Whenwhere': 4310, 'Ese': 1792, '08448714184': 68, 'belligerent': 5001, '09099726481': 286, 'funky': 6762, 'Rreveal': 3439, 'httpwwwetlpcoukexpressoffer': 7226, 'telphone': 10358, 'bruce': 5202, 'dream': 6154, 'intend': 7390, 'Joking': 2451, 'staring': 10049, 'themed': 10412, 'steering': 10080, 'beneath': 5010, 'POBox365O4W45WQ': 3145, 'inform': 7356, 'musical': 8323, 'opinion': 8608, 'FANTASIES': 1835, 'STAPATI': 3542, 'pre': 9003, 'jurong': 7555, '07801543489': 37, 'winterstone': 11097, 'THASA': 3869, 'hw': 7268, 'way': 10979, 'University': 4119, 'Zogtorius': 4458, 'Unni': 4123, 'Kicchu': 2504, 'tank': 10311, 'sleeps': 9833, 'S89': 3446, 'varma': 10833, 'easiest': 6229, 'thesedays': 10423, 'Spook': 3756, 'Beer': 1241, 'e': 6217, 'Bennys': 1247, 'legitimat': 7752, '2007': 432, '5ful': 714, 'Haf': 2171, 'It\\x92s': 2392, 'fans': 6481, 'ABTA': 935, 'Moby': 2857, 'Like': 2628, 'SOZ': 3524, 'arguments': 4766, 'Years': 4418, 'SirSalam': 3692, 'buff': 5216, 'Code4xx26': 1495, 'gandhipuram': 6784, 'lousy': 7910, '08714714011': 130, 'flyng': 6630, 'bangb': 4913, 'positive': 8954, 'Become': 1238, 'Leave': 2617, 'java': 7491, 'Ofcourse': 3056, '150ptext': 374, '7pm': 800, 'partnership': 8745, 'wall': 10934, 'infowww100percentrealcom': 7362, 'GOOD': 2001, 'GOODNIGHT': 2005, 'haul': 7046, 'lotz': 7906, 'lasting': 7708, 'WA14': 4193, 'clocks': 5545, 'weighed': 11014, 'IL': 2304, 'violence': 10875, 'Poly': 3254, 'Music': 2895, 'GONEU': 1998, '3days': 593, 'Ill': 2350, 'Ryder': 3443, 'MIX': 2732, 'bare': 4921, '85': 853, 'review': 9411, 'wet': 11040, 'careinsha': 5342, 'Hallaq': 2179, 'thanx': 10396, 'final': 6557, 'Eve': 1801, 'dusk': 6210, 'Girl': 2054, 'QlynnBV': 3309, 'Transaction': 4031, 'happiness': 7034, '3x£150pw': 604, 'Ilol': 2351, 'lacsthats': 7673, 'complexities': 5635, 'asus': 4818, 'delete': 5945, 'Raining': 3369, 'deary': 5910, 'ko': 7648, 'alibi': 4614, 'MESSAGE': 2714, 'paper': 8717, 'Hanumanji': 2185, 'previews': 9034, 'questioned': 9157, '09061749602': 228, 'flirting': 6614, '7': 772, '6669': 741, 'mc': 8069, 'joined': 7525, 'DATEBox1282EssexCM61XN': 1569, 'pimples': 8859, 'smsd': 9878, 'queen': 9155, 'wrenching': 11188, '1Winaweek': 409, 'sufficient': 10194, 'THINK': 3880, 'dearRakhesh': 5903, 'mistakes': 8203, 'Tas': 3927, 'crave': 5766, 'boundaries': 5134, 'ak': 4598, 'interfued': 7396, 'Thankyou': 3960, 'Atleast': 1103, 'line': 7810, 'left': 7748, 'dirt': 6053, 'weirdo': 11019, 'DRINK': 1609, 'weekstop': 11012, 'pause': 8768, 'Soon': 3734, 'callin': 5293, 'glasgow': 6857, 'INTERFLORA': 2325, 'perumbavoor': 8819, 'painit': 8704, 'bank': 4914, 'BCM1896WC1N3XX': 1146, 'Shes': 3654, 'Ah': 1027, 'laidwant': 7682, 'rons': 9459, 'alrite': 4633, 'actual': 4516, 'reach': 9214, 'BONUS': 1172, 'murderer': 8318, 'massive': 8043, 'nowSKY': 8489, 'lorWe': 7889, 'careless': 5343, '830': 831, 'Whos': 4314, 'sit': 9802, 'Anyways': 1073, 'prescription': 9020, 'oscar': 8642, 'sugar': 10195, 'prevent': 9033, 'lead': 7732, 'submitted': 10169, 'thinghow': 10431, 'taking': 10300, 'CHOSEN': 1375, 'secrets': 9607, 'email': 6285, 'madstini': 7981, 'camp': 5306, '09058094507': 200, 'Left': 2619, 'electricity': 6279, 'Eat': 1760, 'shove': 9742, 'dearer': 5904, 'Oic': 3063, 'analysis': 4662, 'chillaxin': 5490, 'pisces': 8864, 'Ultimate': 4108, 'Stop2': 3786, 'chat': 5435, '09058094454': 198, 'league': 7736, 'ts': 10658, 'unsoldnow': 10757, 'day': 5881, 'sometimeRakheshvisitor': 9918, 'Rs5': 3441, 'wicket': 11069, 'cheating': 5442, 'long': 7876, 'kalisidare': 7569, 'Somewhr': 3730, 'twelve': 10681, 'finewhen': 6568, 'lovly': 7925, 'amused': 4659, 'DARLIN': 1566, 'boss': 5125, 'Promotion': 3289, '2MRW': 493, 'BED': 1151, 'wouldnt': 11182, 'mising': 8190, 'say': 9554, 'kickoff': 7608, 'bothering': 5129, 'monster': 8247, 'OVERDOSE': 3053, 'costs': 5731, 'exhaust': 6411, 'ONCALL': 3041, 'vtired': 10909, 'nuther': 8515, 'odi': 8541, 'isn‘t': 7442, 'Jsut': 2462, 'bigger': 5034, 'amnow': 4650, 'Person': 3204, '430': 623, 'ref': 9280, 'wiproyou': 11099, 'Nimyapls': 2986, 'Shb': 3651, '20pmin': 437, 'gET': 6771, 'leadership': 7733, 'rakhesh': 9187, 'NAKED': 2903, 'deus': 5990, 'whatever': 11046, '1x150pwk': 422, 'Extra': 1829, 'superior': 10222, 'EASTENDERS': 1720, 'consensus': 5674, 'popping': 8944, 'answered': 4690, 'alritehave': 4634, 'desparate': 5978, 'suddenly': 10188, 'forgiven': 6664, 'wwwregalportfoliocouk': 11242, 'connect': 5669, 'whileamp': 11058, 'mcr': 8072, '“Harry': 11422, 'Rats': 3379, 'reserves': 9369, 'puzzeles': 9145, 'Nationwide': 2955, 'happens': 7030, '£3': 11387, 'tip': 10499, 'Izzit': 2396, 'wi': 11067, 'hall': 7006, 'Dont4get2text': 1695, 'help08712400602450p': 7091, 'rply': 9476, 'phones': 8835, 'fox': 6689, 'Belovd': 1245, 'CALLED': 1342, 'postcode': 8964, 'evening': 6370, 'newest': 8414, 'break': 5160, 'Spring': 3760, 'monthnot': 8250, 'mindi': 8166, 'However': 2278, 'C52': 1338, 'x': 11260, 'Nobut': 2994, '10th': 314, '4o': 670, 'asked': 4801, 'bowl': 5137, 'relocate': 9313, 'fever': 6532, 'THEACUSATIONS': 3873, 'venugopal': 10844, 'Plsi': 3238, '200': 425, 'lovable': 7912, '116': 322, 'Hmmmbut': 2241, 'Wah': 4254, '88600': 883, 'videochat': 10860, 'letter': 7771, 'MOB': 2739, 'Proverb': 3291, 'purchases': 9134, 'prizes': 9060, 'success': 10181, 'dramastorms': 6147, 'Since': 3685, 'toaday': 10522, 'MK17': 2733, 'NICHOLS': 2921, 'cashed': 5365, 'batch': 4937, 'boyy': 5148, 'occurs': 8537, 'ended': 6299, 'MTALK': 2760, 'lark': 7704, 'moneeppolum': 8240, 'tear': 10340, 'report': 9352, 'answerin': 4691, 'SonyEricsson': 3733, 'Blackim': 1265, '2End': 483, 'Men': 2815, 'loneliness': 7874, 'SIMPLE': 3491, 'deals': 5900, 'goodnight': 6898, 'Kkfrom': 2519, 'recession': 9259, 'ltDECIMALgt': 7935, 'cst': 5795, 'SEEING': 3464, 'thread': 10455, '08718730555': 165, 'toyota': 10599, '08712400200': 108, 'appropriate': 4741, '£125': 11368, '09061743806': 224, 'elephant': 6280, 'Courageous': 1530, '945': 916, 'followed': 6637, 'MOyeP': 2751, 'cuddling': 5802, '3hrs': 595, '84025': 847, 'details': 5987, 'URGOIN': 4091, 'POLYPHONIC': 3153, 'NIGHT': 2922, 'pmt': 8909, 'achieve': 4502, 'singles': 9793, 'mudyadhu': 8303, 'normal': 8468, 'slowing': 9850, 'daysèn': 5889, 'remb': 9318, 'mummy': 8311, 'Pick': 3220, 'rebtel': 9245, 'wk': 11119, 'spelling': 9987, 'satü': 9547, 'Drink': 1708, 'ki': 7605, 'SCOTLAND': 3460, 'ignore': 7301, 'visit': 10882, 'HMV': 2142, 'Player': 3233, 'nevering': 8411, 'best': 5014, 'scotland': 9578, 'scouse': 9579, '7684': 785, '24hrs': 455, 'Barkleys': 1226, 'Shhhhh': 3656, 'westshore': 11039, 'wisheds': 11103, 'MMM': 2735, 'wun': 11208, 'wrks': 11193, 'Yetunde': 4437, 'FRIEND': 1875, 'apes': 4716, 'IP4': 2328, 'fridays': 6714, 'CustomerCare': 1555, 'herwill': 7108, 'halla': 7007, 'macho': 7972, 'TXTAUCTION': 3917, 'country': 5744, '060505': 19, 'Heroi': 2220, 'none': 8461, 'Carlos': 1443, 'Bergkamp': 1248, 'problematic': 9065, 'bad': 4896, 'rofl': 9451, 'StewartSize': 3781, 'T91': 3834, 'nahi': 8343, 'enjoyed': 6315, 'Colleagues': 1499, 'POBox84': 3146, 'Healer': 2199, 'devouring': 5995, 'boye': 5144, 'chosen': 5506, 'ivatte': 7465, 'jogging': 7521, 'Half': 2178, 'CHEERS': 1372, 'club4mobilescom': 5558, 'Usually': 4142, 'looking': 7883, 'Better': 1252, 'IVE': 2339, 'per': 8796, 'upon': 10770, 'American': 1062, '08719899230': 178, 'openings': 8605, 'fab': 6444, 'weekends': 11009, 'closedincluding': 5549, 'Lovable': 2660, 'told': 10539, 'FUCKING': 1886, 'barring': 4927, 'Üll': 11416, 'MobileUpd8': 2853, 'qbank': 9149, 'Shjas': 3664, 'baby': 4888, 'Painful': 3181, '08717509990': 147, 'U’ve': 4144, 'Cos': 1523, '1526': 378, 'Reverse': 3418, 'Consider': 1515, 'stubborn': 10143, 'unhappy': 10738, 'Goto': 2081, 'ipads': 7422, 'cudnt': 5803, 'THNQ': 3881, 'atten': 4829, 'call2optoutF4Q': 5278, 'pulls': 9125, 'SYMPTOMS': 3579, 'pounds': 8975, '09066362206': 258, 'station': 10065, 'safe': 9508, '28days': 472, 'nokia': 8455, 'dog': 6102, '09061221061': 216, 'happy': 7035, 'malaria': 8005, 'womdarfull': 11137, '89080': 891, 'thatll': 10402, 'DREAMS': 1607, 'fixedline': 6594, 'speling': 9984, 'manage': 8010, '09050002311': 188, 'prince': 9044, 'Jamster': 2424, 'TOWN': 3904, 'Swtheart': 3830, 'simpler': 9785, 'restrict': 9392, 'Arsenal': 1091, 'ac': 4478, 'NOTHING': 2936, 'FRND': 1879, 'Yalru': 4410, '4rowdy': 671, 'Walk': 4262, 'id': 7287, 'TOME': 3890, 'loverboy': 7919, 'mineall': 8169, 'UNI': 4080, 'Psychic': 3295, 'MR': 2754, 'cheers': 5450, 'CLAIRE': 1379, 'surely': 10238, 'cm': 5560, 'fishrman': 6587, '0844': 66, 'papa': 8716, 'el': 6270, 'kochi': 7649, 'glass': 6858, 'hussey': 7263, 'RowW1J6HL': 3436, '450pw': 638, 'ltURLgt': 7938, 'shot': 9736, 'U2MORO': 4069, 'skint': 9818, 'claimcode': 5520, 'goverment': 6913, 'HARRY': 2115, 'UIN': 4073, 'lm': 7845, 'reality': 9230, 'shorts': 9735, 'feelin': 6518, 'Body': 1278, '09058091870': 197, 'OKDEN': 3038, 'matches': 8047, 'claims': 5521, 'Treat': 4034, 'experiment': 6422, 'TEXTCOMP': 3862, 'neededSalary': 8389, 'Loads': 2643, 'payasam': 8770, 'sisters': 9801, 'BILLING': 1162, 'mindsetbelieve': 8167, 'ER': 1734, 'effect': 6254, 'gt': 6966, 'Hui': 2285, 'revealed': 9409, 'invention': 7406, 'DollD': 1690, 'OPT': 3045, 'Yep': 4424, 'Dictionary': 1662, 'OH': 3035, 'othrs': 8646, 'DoubleMins': 1701, 'train': 10604, 'Pathaya': 3193, 'Lowcost': 2669, 'limiting': 7807, 'underwear': 10729, 'recent': 9256, 'burial': 5231, 'Anything': 1070, 'fastest': 6491, 'BEDROOMLOVE': 1152, 'age23': 4571, '£150pmmorefrommobile2BremovedMobyPOBox734LS27YF': 11378, '24Hrs': 453, '285': 471, 'adds': 4526, 'madthen': 7982, 'Cali': 1416, 'kegger': 7591, 'album': 4602, 'started': 10054, 'uneventful': 10733, 'feathery': 6510, 'LEKDOG': 2554, 'Nigeria': 2979, 'GONNAMISSU': 2000, 'shattered': 9695, 'Waaaat': 4253, 'print': 9048, 'spark': 9968, 'COMIN': 1387, 'vodafone': 10892, 'screwd': 9588, 'facebook': 6448, 'WOULD': 4241, 'prospects': 9107, 'shades': 9680, 'persons': 8817, 'finish': 6570, 'nitro': 8444, 'Evn': 1812, 'chic': 5468, 'john\\x94sounds': 7523, '81618': 824, 'LA1': 2542, 'mens': 8117, 'iter': 7452, 'schools': 9572, 'OFSI': 3033, 'IMF': 2310, 'age': 4568, 'exist': 6414, 'hotel': 7197, 'Simple': 3682, 'walk': 10928, 'intrude': 7405, 'hassling': 7043, 'ammaelife': 4648, '087016248': 81, 'upto': 10776, '2gthr': 515, 'behind': 4995, 'MELNITE': 2711, 'Ho': 2248, 'midnight': 8152, '15541': 380, 'annoying': 4683, 'hai': 6999, 'rs': 9478, 'children': 5486, 'send': 9641, 'miles': 8156, '515pm': 692, 'infovipclub4u': 7361, '08715705022': 141, 'nusstu': 8514, 'Help08718728876': 2216, 'MFL': 2718, '88877FREE': 887, 'wwwmovietriviatv': 11238, 'Gsex': 2093, 'Alex': 1045, 'least5times': 7740, 'SHAME': 3478, 'dentists': 5960, 'poo': 8934, 'nb': 8372, 'heard': 7067, 'ESPECIALLY': 1735, 'october': 8539, 'repent': 9343, 'Bits': 1263, 'BBDthts': 1143, 'Thinking': 3981, 'adventure': 4544, 'PAY': 3113, '36504': 570, 'house': 7202, 'MIN': 2721, 'chuckin': 5512, 'waited': 10922, 'reduce': 9278, 'High': 2228, 'rayan': 9205, 'ChristmasMerry': 1481, 'plate': 8883, 'steyn': 10088, 'en': 6297, '74355': 781, 'address': 4524, 'Weiyi': 4291, 'stretch': 10130, 'child': 5483, 'using': 10800, 'subscriber': 10174, 'STaY': 3561, 'charges': 5425, '1stchoicecouk': 419, 'meshe': 8130, 'HAPPY': 2111, 'misss': 8198, 'Lara': 2605, 'Sif': 3679, 'costing': 5730, '181104': 389, '3lp': 596, 'looks': 7884, 'Fuck': 1957, 'remove': 9328, 'previous': 9035, 'personal': 8815, '07786200117': 34, 'Flag': 1919, 'THESEyours': 3877, 'affection': 4553, 'eaten': 6235, 'guess': 6973, 'since': 9788, 'selling': 9634, 'guitar': 6981, 'rice': 9417, 'kidding': 7611, 'Gudni8': 2097, 'OfferThe': 3058, 'CHA': 1363, 'Beauty': 1235, 'conserve': 5676, 'SWAT': 3576, 'Hows': 2279, 'carente': 5344, 'Get': 2047, 'INDIA': 2316, 'intelligent': 7389, 'happen': 7025, '150P': 354, 'Admirer': 1013, 'astne': 4815, 'miwa': 8207, 'Japanese': 2429, 'village': 10872, 'bonus': 5107, '700': 773, 'LA32WU': 2544, 'Lovely': 2664, 'Kindly': 2510, 'buying': 5251, 'take': 10295, 'perfect': 8800, 'apps': 4745, 'thk': 10442, 'BK': 1166, '3UZ': 588, 'WILD': 4219, '5wkg': 722, '09066368753': 266, 'wishing': 11106, '13404': 345, 'pack': 8690, 'der': 5970, 'giggle': 6840, 'CARE': 1350, 'drms': 6173, 'mumHas': 8309, 'heartgn': 7072, 'fish': 6585, 'gowait': 6915, 'dawns': 5880, 'coming': 5610, 'dining': 6044, 'Intimate': 2378, 'cut': 5823, 'xxxxxxxxxxxxxX': 11277, 'ANTELOPE': 969, 'Thatll': 3962, 'sn': 9882, 'SIR': 3493, 'kills': 7616, 'GAILxx': 1968, '81303': 823, 'STATION': 3546, 'poortiyagi': 8940, 'httpwwwurawinnercom': 7229, 'every': 6376, 'excuses': 6406, 'Except': 1820, '61610': 731, 'callon': 5296, 'pissed': 8866, '£100000': 11365, '09066361921': 257, 'passed': 8753, 'Miserable': 2835, 'grams': 6924, 'molestedsomeone': 8231, 'gettin': 6831, 'Cud': 1550, 'Morning': 2874, 'lib': 7779, 'LOTR': 2582, 'il': 7304, 'owl': 8679, 'youmy': 11326, 'starting': 10057, 'bat': 4936, 'EVE': 1738, 'Rum': 3442, 'Face': 1890, 'Hubby': 2282, 'roommate': 9462, 'everything': 6384, '\\x96': 11359, 'ahnow': 4584, 'w1t1jy': 10911, 'following': 6639, 'pump': 9126, 'Woodland': 4341, '113': 317, '1hr': 413, 'banter': 4917, 'partner': 8744, '9am': 925, 'bringing': 5181, 'Becaus': 1237, 'dodgey': 6098, 'think': 10433, 'Nw': 3027, 'sacrifice': 9506, 'porn': 8945, 'Tim': 3998, 'Married': 2796, 'lo': 7848, 'End': 1782, '08712402972': 114, 'rose': 9466, 'dependents': 5963, 'Plyr': 3240, 'LISTEN': 2565, 'torture': 10584, 'CaRE': 1413, 'TsCs087147403231WinawkAge16': 4047, 'se': 9594, 'AINT': 956, 'Twinks': 4059, 'Thout': 3988, 'tuesday': 10666, '118pmsg': 324, '08712101358': 102, 'morn': 8254, 'Confidence': 1512, '4d': 660, 'b‘ham': 5260, 'hvae': 7267, '8800': 876, 'jan': 7485, '82468': 830, 'misundrstud': 8204, 'sec': 9600, 'whr': 11066, '2years': 540, 'rental': 9335, 'alone': 4626, 'I\\x92m': 2398, '09064017295': 240, 'anyones': 4703, 'Immediately': 2355, 'toshiba': 10586, '4BREKKIE': 647, 'outsider': 8664, 'Margaret': 2793, 'appeal': 4725, 'timing': 10496, 'wwwtxttowincouk': 11257, 'deepak': 5928, 'guessing': 6976, 'pile': 8857, 'comei': 5604, 'loud': 7908, 'friendsare': 6720, 'st': 10030, '021': 15, 'missed': 8193, 'sh': 9678, 'todayGood': 10526, 'horse': 7190, 'BROKE': 1195, '8hr': 904, 'dreading': 6153, 'Scared': 3607, 'Anyway': 1072, 'Trust': 4038, 'bbs': 4950, 'picked': 8845, 'Wish': 4329, 'wrench': 11187, 'somerset': 9913, 'Stoptxt': 3787, 'leo': 7761, 'welltake': 11025, 'Sam': 3590, '5ish': 715, 'coin': 5578, 'dogs': 6107, 'wa': 10913, 'Text': 3953, '10k': 310, 'accounts': 4498, 'he\\x92s': 7115, 'sad': 9507, 'wee': 11003, 'sambarlife': 9525, 'Mon': 2864, 'Second': 3616, 'tiny': 10498, 'dumb': 6202, 'bridgwater': 5172, 'SPOOK': 3534, 'mnth': 8212, 'Someone': 3726, 'lavender': 7725, '63miles': 737, 'ondu': 8585, 'fucks': 6747, 'aftr': 4565, 'failure': 6458, 'De': 1632, 'homewot': 7164, 'kerala': 7595, 'thia': 10428, 'concentrate': 5647, '88039SkilGmeTsCs087147403231WinawkAge16£150perWKsub': 878, 'Argument': 1086, '£150msg': 11374, 'ordered': 8630, '09041940223': 179, '86688': 865, 'LIKINGBE': 2563, 'EXETER': 1748, 'horny': 7188, 'nauseous': 8369, 'problem': 9064, 'WC1N3XX': 4204, '300': 545, 'face': 6446, '4th': 673, 'possession': 8955, 'plaza': 8892, 'Super': 3819, 'let': 7769, 'user': 10797, 'everyday': 6380, 'birds': 5047, 'smiles': 9868, 'rr': 9477, 'offc': 8542, 'products': 9078, 'Yes': 4425, 'desk': 5977, 'mutations': 8328, 'priscillas': 9053, 'rcvd': 9210, '2mrw': 524, 'Nver': 3025, 'Texting': 3956, 'listen': 7830, 'immed': 7313, 'Good': 2070, 'move': 8270, 'mah': 7990, 'allow': 4621, 'theyll': 10426, 'SW7': 3572, 'PetrolRs': 3211, 'several': 9671, 'lyfu': 7959, 'supposed': 10234, 'txtX': 10687, '30th': 554, 'Draw': 1706, 'vaazhthukkal': 10817, 'p': 8687, 'hire': 7132, '3XX': 591, '150pSMS': 363, 'toppoly': 10578, 'Ha': 2168, 'near': 8375, 'RING': 3352, 'Shijutta': 3659, 'Emily': 1778, 'rinu': 9433, 'web': 10993, 'wining': 11093, 'squeezed': 10024, 'wwwtxt43com': 11255, 'NETHING': 2912, 'Rodds1': 3429, 'dealer': 5897, 'daalways': 5834, '89693': 896, 'Salam': 3588, 'wap': 10950, 'Companion': 1506, 'Kate': 2489, 'MINUTES': 2725, 'FML': 1857, 'Drinks': 1709, 'Must': 2896, 'Uve': 4143, 'FONIN': 1860, 'calis': 5274, 'childs': 5487, 'gotto': 6912, 'zyada': 11354, 'Hearts': 2202, 'rough': 9467, 'doInterested': 6087, 'Valuable': 4163, 'slow': 9848, 'nora': 8464, 'kill': 7613, 'Pshewmissing': 3293, 'anythin': 4706, 'management': 8013, 'TCsstop': 3853, 'ppm150': 8985, 'wif': 11072, 'provided': 9110, 'ideal': 7291, '6months': 767, '100603': 298, 'knowing': 7641, 'by\\x94leafcutter': 5258, 'uscedu': 10792, 'Wondering': 4338, 'Lands': 2603, 'Bad': 1216, 'txtjourney': 10690, 'e£nd': 6442, '4217': 620, 'asap': 4792, 'Book': 1284, 'flavour': 6603, 'wiv': 11117, 'match': 8046, 'POSTCARD': 3159, '5years': 723, 'aphex\\x92s': 4718, 'anot': 4685, 'buen': 5215, 'lane': 7693, 'videosounds2': 10863, 'brighten': 5175, 'maximum': 8063, 'call2optoutJ': 5280, 'clearly': 5538, 'Audrie': 1106, 'flame': 6599, 'guaranteed': 6969, 'agents': 4574, 'original': 8636, 'thts': 10470, 'gal': 6776, 'idk': 7295, 'among': 4651, 'permissions': 8809, 'Peteynoi\\x92m': 3210, 'clarification': 5523, 'bagi': 4900, 'Ringtone¡': 3427, 'studies': 10148, 'E14': 1718, 'hamper': 7009, 'oneta': 8589, 'nobodys': 8451, 'Sad': 3582, 'May': 2804, 'UNBELIEVABLE': 4078, 'Looks': 2655, 'dying': 6215, 'doesnt': 6099, 'Smith': 3716, 'greatness': 6942, 'trash': 10620, 'totes': 10591, 'dao': 5856, 'basqihave': 4935, 'WeddingFriend': 4287, 'asleep': 4805, 'signin': 9774, 'come': 5601, 'SATLOVE': 3453, 'bedreal': 4975, 'weirdy': 11020, 'turns': 10675, 'Don‘t': 1697, 'YES762': 4392, 'logoff': 7866, 'True': 4036, 'call2optoutLF56': 5282, 'hesitation': 7112, 'Kgive': 2502, 'condition': 5653, 'stands': 10046, 'ADAM': 941, 'Shell': 3652, 'ur': 10777, 'stomach': 10100, 'avalarr': 4858, 'wonder': 11141, 'Age': 1025, 'LUCY': 2594, 'topic': 10575, 'thus': 10474, 'Kkwhen': 2526, 'sell': 9633, 'tour': 10596, 'common': 5617, '02085076972': 13, 'joking': 7534, 'sparkling': 9969, 'IBHltd': 2293, 'much': 8299, 'Keep': 2494, 'Guy': 2106, 'Youre': 4443, 'Sfrom': 3642, 'yummy': 11344, 'panties': 8713, 'increments': 7342, 'conditionand': 5654, 'Mode': 2858, 'Umma': 4110, 'ship': 9708, 'TODAY': 3889, 'Ciao': 1482, 'LtdHelpDesk': 2672, 'becoz': 4971, 'wuld': 11206, 'mia': 8149, 'press': 9025, 'twice': 10683, 'players': 8887, 'ela': 6271, 'stagwood': 10037, 'freely': 6703, 'reppurcussions': 9353, 'humans': 7243, '08717168528': 143, 'tv': 10677, 'terms': 10369, 'someday': 9908, 'Wil': 4319, 'worldvery': 11167, 'wed': 10998, 'mostly': 8260, 'unique': 10743, 'mode': 8222, 'blur': 5095, 'hearing': 7069, 'heart': 7070, 'betta': 5019, 'bishan': 5052, 'izzit': 7468, 'HehE': 2205, 'nigpun': 8436, 'Joanna': 2445, 'Booked': 1285, 'POBOX': 3138, 'CATCH': 1355, 'phone750': 8832, 'Therere': 3973, 'sneham': 9886, 'bear': 4961, 'BIDS': 1159, 'crap': 5762, 'eh': 6265, 'chile': 5488, 'well': 11023, 'Went': 4297, 'reading': 9223, 'NAME2': 2906, 'accumulation': 4499, 'heap': 7065, 'Talk': 3926, 'chennaii': 5457, 'Bookmark': 1286, 'nuclear': 8504, 'shower': 9746, 'set': 9664, 'fallen': 6468, 'NAME': 2904, 'wahala': 10916, 'mondaynxt': 8238, 'ASAP': 978, 'amongst': 4652, '150pMtmsgrcvd18': 362, 'Warner': 4271, 'sweatter': 10260, 'fucking': 6746, 'minAPN': 8162, 'CustCare08718720201': 1553, 'Tear': 3935, 'tor': 10580, 'Download': 1703, 'tampa': 10310, 'swimming': 10266, 'Subs': 3802, 'Melle': 2814, 'birthdate': 5050, 'BLOKE': 1167, 'wwwtextcompcom': 11251, 'Early': 1755, 'research': 9363, 'beauties': 4964, 'dads': 5839, 'interesting': 7395, 'Rajipls': 3371, 'Email': 1777, 'httpdoit': 7220, 'learned': 7738, 'im': 7307, 'yards': 11285, 'reliant': 9310, 'DEFO': 1579, 'the4th': 10407, 'luv': 7952, 'MilkdayNo': 2828, 'Fresh': 1949, 'correctly': 5724, 'enter': 6320, 'Onam': 3076, 'you‘ll': 11338, 'sic': 9763, 'www80488biz': 11211, '08719181259': 172, 'punto': 9130, 'shipped': 9709, 'shortcode': 9732, 'Values': 4164, 'slip': 9841, '09050000555': 183, 'NEVA': 2913, 'imaginationMy': 7310, 'realizes': 9233, 'DLF': 1589, 'hop': 7176, 'TOTAL': 3902, 'stressed': 10127, 'wasting': 10964, 'uwana': 10812, 'CSH11': 1405, 'impressed': 7325, 'known': 7642, 'Tea': 3931, 'slacking': 9826, 'Designation': 1653, 'YOURJOB': 4403, '8000930705': 805, '0871277810910pmin': 123, '08719899229': 177, 'Y87': 4381, 'celeb': 5390, 'thou': 10449, 'calls': 5297, 'princess': 9047, 'loving': 7923, 'find': 6562, 'BABYHOPE': 1129, '£1minMobsmoreLKPOBOX177HP51FL': 11382, '08718726270150gbpmtmsg18': 156, 'google': 6903, 'howre': 7209, 'TELLMISS': 3856, '08712460324nat': 119, 'edition': 6244, 'fights': 6543, 'waves': 10978, 'map': 8022, 'earth': 6226, 'GB': 1972, 'car': 5331, 'developer': 5993, 'Libertines': 2624, 'selected': 9628, 'cleared': 5535, 'MK45': 2734, 'everyso': 6383, 'sleeping': 9831, 'links': 7819, 'meRemove': 8076, 'travelled': 10624, 'comprehensive': 5638, 'toa': 10521, 'Queen': 3311, 'afternoon': 4563, 'Club': 1490, 'MUCHXXLOVE': 2763, '42478': 621, 'goto': 6909, 'priya': 9057, 'Deeraj': 1641, 'cochin': 5570, 'starts': 10058, '4fil': 663, 'Everytime': 1811, 'espell': 6353, 'Unlimited': 4122, 'closer': 5550, '1pm': 415, 'tonitebusy': 10560, 'saying': 9558, 'pizza': 8869, 'Com': 1502, 'request': 9356, 'Reckon': 3392, 'usf': 10799, 'Omw': 3075, 'eighth': 6267, 'calculated': 5270, 'card': 5332, 'propose': 9104, 'joinedHope': 7526, 'clearing': 5537, 'pubcafe': 9118, 'max£7': 8064, 'rights': 9424, 'england': 6312, 'phne': 8830, 'promises': 9094, 'spacebucks': 9962, 'NUMBER': 2942, '5th': 720, 'Havnt': 2195, 'Year': 4417, 'mega': 8098, 'characters': 5421, 'Logon': 2647, 'champ': 5407, 'reception': 9258, 'grinule': 6951, 'WOW': 4243, 'August': 1107, 'volcanoes': 10896, 'wwwclubmobycom': 11227, 'christmas': 5509, 'PASS': 3111, 'hunny': 7251, 'Pls': 3237, 'BEST': 1156, 'challenging': 5406, 'Pinku': 3227, 'travel': 10622, 'person': 8812, 'valued': 10828, 'Abiola': 999, 'compensation': 5623, 'Snd': 3719, '£5month': 11404, 'wil': 11079, 'draws': 6152, 'jenny': 7505, 'himthen': 7128, 'presents': 9023, 'tmrw': 10517, 'YOUVE': 4404, 'whose': 11065, 'throw': 10461, 'summon': 10207, 'THATMUM': 3870, 'doin': 6109, 'yck': 11287, 'single': 9792, 'apply2': 4732, 'Headset': 2198, 'cnl': 5564, 'fakeyes': 6464, 'smaller': 9855, 'released': 9309, 'attack': 4827, 'unsubscribe': 10759, '2naughty': 525, 'would': 11180, 'nap': 8357, 'port': 8947, 'Newport': 2970, 'Reminder': 3409, 'doingWhat': 6111, 'Sms': 3718, 'bash': 4930, 'paid': 8699, '£1250': 11369, 'win': 11084, 'backdoor': 4895, 'Jays': 2432, 'tranquility': 10610, 'Loosu': 2658, 'loti': 7898, 'swashbuckling': 10255, 'DIS': 1587, 'Stereophonics': 3780, 'watever': 10973, 'Dino': 1669, 'BOX420': 1184, 'sayin': 9557, 'curious': 5812, 'belive': 4998, 'unconvinced': 10722, 'Dis': 1674, 'diet': 6022, 'correct': 5721, 'WITHOUT': 4224, 'Hes': 2221, 'OKTAKE': 3039, 'youwhen': 11336, 'strike': 10133, 'feet': 6523, 'darlings': 5865, 'phd': 8826, 'seing': 9626, 'gently': 6819, 'tell': 10354, 'Merry': 2816, 'PIX': 3130, 'rates': 9201, 'lehHaha': 7755, 'Jamz': 2426, 'fal': 6465, '07123456789': 27, 'LE': 2553, 'LIFT': 2559, '07821230901': 42, 'harri': 7041, 'signing': 9775, 'steal': 10075, 'Polyphonic': 3256, 'learn': 7737, 'DISCOUNT': 1588, 'thangamits': 10391, 'orig': 8635, 'swt': 10273, 'market': 8030, 'Eternal': 1796, 'wondering': 11143, 'walkabout': 10929, 'fo': 6633, 'justify': 7558, 'lautech': 7724, 'curry': 5815, 'check': 5444, 'Mob': 2849, 'lucozadecoukwrc': 7945, '08709222922': 98, 'lorgoin': 7890, 'transfer': 10613, 'genius': 6816, 'British': 1314, 'moan': 8214, 'Fighting': 1907, '3G': 579, 'yet': 11300, 'apart': 4714, '09061790125': 230, 'cheese': 5452, 'becausethey': 4969, 'Babes': 1212, 'maniac': 8018, 'brief': 5173, 'lunch': 7947, 'TOWNDONTMATTER': 3906, 'however': 7208, 'cheque': 5458, '10000': 296, 'looovvve': 7885, 'faithEvening': 6461, 'duvet': 6212, 'believe': 4997, 'Close': 1489, 'group': 6958, 'uphad': 10766, 'Smiling': 3715, 'processits': 9075, 'callcost': 5286, '8552': 859, 'stores': 10114, 'select': 9627, 'season': 9598, 'madoke': 7980, 'necessarily': 8380, 'list': 7828, 'WinnersClub': 4324, 'Hotel': 2274, 'witin': 11114, 'Grl': 2091, 'Large': 2606, 'AREA': 974, 'itmail': 7457, 'Sympathetic': 3832, '07090201529': 23, 'Code': 1494, 'art': 4786, 'importantly': 7320, 'Kkwhere': 2527, 'passable': 8752, 'really': 9234, '0808': 62, 'dahe': 5841, 'Tiwary': 4004, 'STOP': 3549, 'professional': 9079, 'Hello': 2209, 'dayswill': 5888, 'headstart': 7061, 'msging': 8284, '150pmin': 367, 'attending': 4832, 'Hungry': 2286, 'n': 8336, 'part': 8739, 'lesson': 7767, 'extract': 6437, 'Uhhhhrmm': 4104, 'guessed': 6974, 'Cannot': 1436, '09090204448': 276, 'Geeee': 2040, 'robinson': 9446, 'caring': 5349, 'Ok': 3064, 'deluxe': 5951, 'envelope': 6333, 'brought': 5196, 'Woke': 4336, 'AccommodationVouchers': 1003, 'casing': 5368, 'disconnected': 6065, 'shitload': 9715, 'Chef': 1471, '82242': 826, 'balloon': 4908, 'Icic': 2345, '2moro': 518, 'Big': 1254, 'wwwgetzedcouk': 11235, 'Nofew': 2995, 'smile': 9866, 'takin': 10299, 'Ooooooh': 3084, 'httpimg': 7222, '0800': 50, 'ryan': 9499, 'lol': 7871, 'legal': 7751, 'shld': 9718, 'claire': 5522, 'content': 5687, 'AVENT': 988, 'Games': 2030, 'assumed': 4813, 'nownyt': 8497, 'cast': 5369, 'MUNSTERS': 2766, 'spring': 10019, 'magical': 7988, 'felt': 6526, 'superb': 10221, 'decimal': 5918, 'Jerk': 2439, 'festival': 6529, 'Helen': 2207, 'Dr': 1705, 'BAILIFF': 1133, 'uk': 10706, 'random': 9192, 'Evr': 1813, '10am': 307, 'werent': 11033, 'hourish': 7200, 'heavily': 7078, 'babe': 4885, 'Enna': 1787, 'kvb': 7662, 'Already': 1052, 'draw': 6150, 'particular': 8741, 'voicemail': 10895, 'desperate': 5980, '2u': 536, 'life': 7786, 'sarcastic': 9536, 'Acnt': 1007, 'fightng': 6542, 'fault': 6499, 'text': 10378, 'today': 10524, 'HONI': 2148, 'HOSPITAL': 2152, 'eg': 6258, 'waiting': 10924, 'tvlol': 10679, 'WORRYC': 4238, 'premium': 9012, 'keys': 7599, 'vai': 10820, 'merry': 8128, 'arty': 4789, 'done': 6120, 'largest': 7703, 'newsBy': 8416, 'colany': 5581, 'Dare': 1621, 'Sullivan': 3811, 'answer': 4689, 'NBME': 2907, 'Okok': 3069, 'Madamregret': 2775, 'avoids': 4868, 'DAMMIT': 1564, 'Trav': 4032, 'sometime': 9917, 'Huh': 2284, 'Chart': 1462, 'gift': 6838, 'gota': 6907, 'silver': 9781, 'fridge': 6715, 'changing': 5415, 'empty': 6296, 'Plus': 3239, 'vpist': 10905, 'Friendship': 1953, 'norm': 8466, 'ithink': 7453, 'windy': 11090, 'derek': 5971, '3Unkempt': 589, 'UPYEH': 4086, 'split': 10000, 'sochte': 9895, 'doesn‘t': 6101, 'textsweekend': 10386, 'tiempo': 10479, 'fulfil': 6751, 'pants': 8714, '81010': 821, 'tall': 10306, 'Afternoon': 1021, 'uploads': 10769, 'goin2bed': 6881, 'Nature': 2957, 'tke': 10511, 'Def': 1642, 'fancied': 6478, 'cat': 5373, 'Aftr': 1023, 'audiitions': 4841, 'Finish': 1916, 'max': 8060, 'melike': 8105, 'nmde': 8448, '83039': 833, 'leads': 7735, 'affair': 4551, 'sorydarealyfrm': 9949, 'lastest': 7707, 'helen': 7083, '09057039994': 195, 'site': 9803, 'trial': 10637, 'Tis': 4002, 'nervous': 8402, 'discussed': 6069, 'motivating': 8263, 'Gudnyt': 2100, 'boobs': 5109, 'prizeTo': 9059, 'solved': 9905, 'Aight': 1031, 'difference': 6027, 'light': 7796, 'MMSto': 2736, '7732584351': 786, 'ryans': 9500, 'textbook': 10380, 'Actually': 1011, '13': 341, 'falconerf': 6466, 'Jia': 2444, 'charity': 5426, '09094646631': 279, 'comedycant': 5603, 'first': 6584, 'handle': 7014, 'cr': 5758, 'soft': 9898, 'Hari': 2189, 'wwwtelediscountcouk': 11250, 'corvettes': 5726, 'touched': 10593, 'straight': 10119, 'STORES': 3554, 'tohar': 10533, 'test': 10374, 'Loan': 2644, 'reward': 9413, 'Sarcasm': 3596, 'anyplaces': 4704, 'careabout': 5337, '08712402779': 112, 'diamond': 6006, 'AWAITING': 989, 'Prepare': 3275, 'darlin': 5863, 'gaps': 6788, 'SOFA': 3511, '20p': 436, 'lapdancer': 7699, 'ovr': 8673, 'wenever': 11029, 'dysentry': 6216, 'kilos': 7617, '532': 698, 'rock': 9448, 'ou': 8648, 'HOUSE': 2155, 'FIRST': 1852, 'ansr': 4688, 'spanish': 9965, 'depression': 5968, 'Remember': 3403, 'Arrow': 1090, '930': 915, 'torch': 10581, 'anywhere': 4713, 'fri': 6711, '1AppleDayNo': 397, 'store': 10112, 'latest': 7716, 'either': 6269, 'ponnungale': 8933, '3Cover': 577, 'going': 6882, 'oso': 8643, 'Nothin': 3013, 'avenue': 4863, 'sign': 9770, 'ollubut': 8581, 'aight': 4591, 'woould': 11147, 'helps': 7094, 'Stylish': 3799, 'lou': 7907, 'Dirty': 1673, 'OJA': 3036, 'Lucky': 2676, 'guilty': 6980, 'usualiam': 10804, 'NTT': 2941, 'september': 9655, 'name': 8348, 'issue': 7444, '97N7QP': 920, 'reminded': 9323, 'mns': 8211, 'Fine': 1914, 'kissing': 7629, 'FUCK': 1883, 'Cab': 1414, 'blessed': 5073, 'pale': 8706, 'Er': 1788, 'manda': 8014, 'serious': 9657, 'pieces': 8853, 'Todaysundaysunday': 4013, '150pmeg': 366, 'dreams': 6156, 'dealFarm': 5896, '89555': 895, 'wmlid820554ad0a1705572711firsttrue¡C': 11129, 'cuddle': 5800, 'indicate': 7348, 'diskyou': 6070, 'Pl': 3229, 'noun': 8487, 'wwwIdewcom': 11214, 'apply': 4731, 'Zebra': 4456, '545': 701, 'olayiwolas': 8579, '9ja': 929, 'meAre': 8073, 'gals': 6780, 'wwwphb1com': 11241, 'placement': 8873, 'blood': 5086, 'super': 10220, 'Declare': 1640, 'ogunrinde': 8564, 'necklace': 8384, 'Kkadvance': 2514, 'Agalla': 1024, 'MUM': 2764, 'Vouchers': 4185, 'Camcorder': 1429, 'stalk': 10039}\n"
     ]
    }
   ],
   "source": [
    "print(bow_transformer.vocabulary_)"
   ]
  },
  {
   "cell_type": "markdown",
   "metadata": {},
   "source": [
    "Let's see how many words in total there are in the bag-of-words vocabulary we have created from our messages..."
   ]
  },
  {
   "cell_type": "code",
   "execution_count": 124,
   "metadata": {
    "collapsed": false
   },
   "outputs": [
    {
     "data": {
      "text/plain": [
       "86909"
      ]
     },
     "execution_count": 124,
     "metadata": {},
     "output_type": "execute_result"
    }
   ],
   "source": [
    "sum(df.message.str.split().apply(len))"
   ]
  },
  {
   "cell_type": "markdown",
   "metadata": {},
   "source": [
    "Let's see how many unique words are in the vocabulary that we have generated from our messages..."
   ]
  },
  {
   "cell_type": "code",
   "execution_count": 125,
   "metadata": {
    "collapsed": false
   },
   "outputs": [
    {
     "name": "stdout",
     "output_type": "stream",
     "text": [
      "11425\n"
     ]
    }
   ],
   "source": [
    "print(len(bow_transformer.vocabulary_))"
   ]
  },
  {
   "cell_type": "markdown",
   "metadata": {},
   "source": [
    "### iii) Tokenise the messages "
   ]
  },
  {
   "cell_type": "markdown",
   "metadata": {},
   "source": [
    "What we ultimately want is that each msg gets transformed to vector of word IDs (tokens) and counts.<br> \n",
    "\n",
    "Let's initially look at applying our trained transformer to a single message. Let's look at the 4th message (so index = 3)."
   ]
  },
  {
   "cell_type": "code",
   "execution_count": 126,
   "metadata": {
    "collapsed": true
   },
   "outputs": [],
   "source": [
    "message_4 = df['message'][3]"
   ]
  },
  {
   "cell_type": "code",
   "execution_count": 127,
   "metadata": {
    "collapsed": false
   },
   "outputs": [
    {
     "name": "stdout",
     "output_type": "stream",
     "text": [
      "U dun say so early hor... U c already then say...\n"
     ]
    }
   ],
   "source": [
    "print(message_4)"
   ]
  },
  {
   "cell_type": "markdown",
   "metadata": {},
   "source": [
    "Let's use our bag-of-words transformer to tokenise message 4..."
   ]
  },
  {
   "cell_type": "code",
   "execution_count": 128,
   "metadata": {
    "collapsed": false
   },
   "outputs": [
    {
     "data": {
      "text/plain": [
       "<1x11425 sparse matrix of type '<class 'numpy.int64'>'\n",
       "\twith 7 stored elements in Compressed Sparse Row format>"
      ]
     },
     "execution_count": 128,
     "metadata": {},
     "output_type": "execute_result"
    }
   ],
   "source": [
    "bow4 = bow_transformer.transform([message_4])\n",
    "bow4"
   ]
  },
  {
   "cell_type": "code",
   "execution_count": 129,
   "metadata": {
    "collapsed": false
   },
   "outputs": [
    {
     "name": "stdout",
     "output_type": "stream",
     "text": [
      "  (0, 4068)\t2\n",
      "  (0, 4629)\t1\n",
      "  (0, 5261)\t1\n",
      "  (0, 6204)\t1\n",
      "  (0, 6222)\t1\n",
      "  (0, 7186)\t1\n",
      "  (0, 9554)\t2\n"
     ]
    }
   ],
   "source": [
    "print(bow4)"
   ]
  },
  {
   "cell_type": "markdown",
   "metadata": {},
   "source": [
    "We can see from the above that there are 7 different (unique-within-this-message) words in message 4;\n",
    "\n",
    "5 of them appear only once,\n",
    "\n",
    "2 of them appear twice (4068 & 9554)."
   ]
  },
  {
   "cell_type": "markdown",
   "metadata": {},
   "source": [
    "Let's look at the shape of this transformed message..."
   ]
  },
  {
   "cell_type": "code",
   "execution_count": 130,
   "metadata": {
    "collapsed": false
   },
   "outputs": [
    {
     "name": "stdout",
     "output_type": "stream",
     "text": [
      "(1, 11425)\n"
     ]
    }
   ],
   "source": [
    "print(bow4.shape)"
   ]
  },
  {
   "cell_type": "markdown",
   "metadata": {},
   "source": [
    "The token is 1 row (as we'd expect').\n",
    "\n",
    "It has the same number of columns as there are words in the corpus.  It is thus a sparse mapping of the message with respect to the corpus. Most of the values will be zero, indicating that particular corpus word is not present in the message.  The number of positive valued elements will be small.  \n",
    "\n",
    "Remember that the value of each elemnt can be 1 or more.  \n",
    "\n",
    "The _index_ corresponds to the word from the corpus which is being referred to.  The _value_ at the index indicates the frequency of that word in the message."
   ]
  },
  {
   "cell_type": "markdown",
   "metadata": {},
   "source": [
    "Let's satisfy ourselves that our vector for our 4th message corresponds to the original message.\n",
    "Here is the 4th message..."
   ]
  },
  {
   "cell_type": "code",
   "execution_count": 131,
   "metadata": {
    "collapsed": false
   },
   "outputs": [
    {
     "name": "stdout",
     "output_type": "stream",
     "text": [
      "U dun say so early hor... U c already then say...\n"
     ]
    }
   ],
   "source": [
    "print(message_4)"
   ]
  },
  {
   "cell_type": "markdown",
   "metadata": {},
   "source": [
    "Let's get the token values from our transformed message_4 and read the corresponding corpus words, using the transformer..."
   ]
  },
  {
   "cell_type": "code",
   "execution_count": 132,
   "metadata": {
    "collapsed": false
   },
   "outputs": [
    {
     "name": "stdout",
     "output_type": "stream",
     "text": [
      "U\n",
      "already\n",
      "c\n",
      "dun\n",
      "early\n",
      "hor\n",
      "say\n"
     ]
    }
   ],
   "source": [
    "print(bow_transformer.get_feature_names()[4068])\n",
    "print(bow_transformer.get_feature_names()[4629])\n",
    "print(bow_transformer.get_feature_names()[5261])\n",
    "print(bow_transformer.get_feature_names()[6204])\n",
    "print(bow_transformer.get_feature_names()[6222])\n",
    "print(bow_transformer.get_feature_names()[7186])\n",
    "print(bow_transformer.get_feature_names()[9554])"
   ]
  },
  {
   "cell_type": "markdown",
   "metadata": {},
   "source": [
    "These are as expected.  Let's now transform each and every message in our datset into tokens..."
   ]
  },
  {
   "cell_type": "code",
   "execution_count": 133,
   "metadata": {
    "collapsed": false
   },
   "outputs": [],
   "source": [
    "df_bow = bow_transformer.transform(df.message)"
   ]
  },
  {
   "cell_type": "code",
   "execution_count": 134,
   "metadata": {
    "collapsed": false
   },
   "outputs": [
    {
     "data": {
      "text/plain": [
       "<5572x11425 sparse matrix of type '<class 'numpy.int64'>'\n",
       "\twith 50548 stored elements in Compressed Sparse Row format>"
      ]
     },
     "execution_count": 134,
     "metadata": {},
     "output_type": "execute_result"
    }
   ],
   "source": [
    "df_bow"
   ]
  },
  {
   "cell_type": "markdown",
   "metadata": {},
   "source": [
    "We can get a better sense of what the above output means by looking at a single row"
   ]
  },
  {
   "cell_type": "code",
   "execution_count": 135,
   "metadata": {
    "collapsed": false
   },
   "outputs": [
    {
     "data": {
      "text/plain": [
       "<1x11425 sparse matrix of type '<class 'numpy.int64'>'\n",
       "\twith 7 stored elements in Compressed Sparse Row format>"
      ]
     },
     "execution_count": 135,
     "metadata": {},
     "output_type": "execute_result"
    }
   ],
   "source": [
    "df_bow[3]"
   ]
  },
  {
   "cell_type": "markdown",
   "metadata": {},
   "source": [
    "Each row is a sparse representation.  There are 11425 fields, one for each unique word in the corpus.  Our message has 9 words but only 7 unique hence the output above.  <br>\n",
    "\n",
    "The preceding line, referring to the entire dataset contains 5572 rows, one for each message"
   ]
  },
  {
   "cell_type": "markdown",
   "metadata": {},
   "source": [
    "So we have created what looks like an X matrix with rows = examples and col index = word_value"
   ]
  },
  {
   "cell_type": "markdown",
   "metadata": {
    "collapsed": true
   },
   "source": [
    "Let's recap what we have just done.\n",
    "\n",
    "When we *fit* using CountVectorizer object (bow\\_transformer) with our entire message corpus, we generate a dictionary (CountVectorizer.vocabulary\\_) where keys are words and values are word ID numbers.  We thus create a bag-of-words model for our corpus.\n",
    "\n",
    "When we *transform* using the CountVectorizer object (bow_transformer) we convert the messages into a sparse representation where indices refer to the word IDs in the bag-of-words and values at indices indicate frequency.  NB Word order is not preserved when the messages are tokenised to vector form. \n",
    "\n",
    "In transforming all our (text processed) messages, we effectively converted them into a matrix where row = message, col_index = word ID in bag-of-words dict and value at the index = freq of that word in the message. \n",
    "\n",
    "We thus have a (sparse) X matrix, where rows are examples and columns are features, so we are now back on familair machine learning territory!"
   ]
  },
  {
   "cell_type": "markdown",
   "metadata": {},
   "source": [
    "Now let's quickly check the shape of our matrix and briefly consider how our data is distributed within it (sparsity)."
   ]
  },
  {
   "cell_type": "code",
   "execution_count": 136,
   "metadata": {
    "collapsed": false
   },
   "outputs": [
    {
     "name": "stdout",
     "output_type": "stream",
     "text": [
      "Shape of sparse matrix:  (5572, 11425)\n"
     ]
    }
   ],
   "source": [
    "print('Shape of sparse matrix: ', df_bow.shape)"
   ]
  },
  {
   "cell_type": "markdown",
   "metadata": {},
   "source": [
    "And what is the size of our matrix (how many locations or fields are there in it)?"
   ]
  },
  {
   "cell_type": "code",
   "execution_count": 137,
   "metadata": {
    "collapsed": false
   },
   "outputs": [
    {
     "data": {
      "text/plain": [
       "63660100"
      ]
     },
     "execution_count": 137,
     "metadata": {},
     "output_type": "execute_result"
    }
   ],
   "source": [
    "size_matrix = df_bow.shape[0]*df_bow.shape[1]\n",
    "size_matrix"
   ]
  },
  {
   "cell_type": "markdown",
   "metadata": {},
   "source": [
    "And how many of those fields contain non zero elements?"
   ]
  },
  {
   "cell_type": "code",
   "execution_count": 138,
   "metadata": {
    "collapsed": false
   },
   "outputs": [
    {
     "data": {
      "text/plain": [
       "50548"
      ]
     },
     "execution_count": 138,
     "metadata": {},
     "output_type": "execute_result"
    }
   ],
   "source": [
    "df_bow.nnz #attribute not method"
   ]
  },
  {
   "cell_type": "markdown",
   "metadata": {},
   "source": [
    "How does this compare to the size of the matrix..."
   ]
  },
  {
   "cell_type": "code",
   "execution_count": 139,
   "metadata": {
    "collapsed": false
   },
   "outputs": [
    {
     "data": {
      "text/plain": [
       "0.0007940295412668218"
      ]
     },
     "execution_count": 139,
     "metadata": {},
     "output_type": "execute_result"
    }
   ],
   "source": [
    "df_bow.nnz/size_matrix"
   ]
  },
  {
   "cell_type": "markdown",
   "metadata": {
    "collapsed": false
   },
   "source": [
    "The above result can be thought of as approxaimtely 1 in every thousand locations has a positive value "
   ]
  },
  {
   "cell_type": "markdown",
   "metadata": {},
   "source": [
    "Let's formally calculate the sparsity (and density) of our matrix..."
   ]
  },
  {
   "cell_type": "code",
   "execution_count": 140,
   "metadata": {
    "collapsed": false
   },
   "outputs": [
    {
     "name": "stdout",
     "output_type": "stream",
     "text": [
      "Density of matrix = 0.00079 or 0.079%\n",
      "Sparsity of matrix = 0.9992 or 99.9%\n"
     ]
    }
   ],
   "source": [
    "density = (df_bow.nnz/size_matrix) \n",
    "sparsity = 1-density\n",
    "\n",
    "print('Density of matrix = {:.2} or {:.2}%'.format(density, density*100))\n",
    "\n",
    "print('Sparsity of matrix = {:.4f} or {:.1f}%'.format(sparsity, sparsity * 100))"
   ]
  },
  {
   "cell_type": "markdown",
   "metadata": {},
   "source": [
    "### iv) Term weighting and normalisation\n",
    "\n",
    "So we have created what looks like an X matrix where rows = examples and col index represents a word (token) and the value represents that word's frequency.  Does this mean we have useful features with which to build a spam classifier?\n",
    "\n",
    "Ultinately, we are building a spam classifier that will interpret word IDs and their frequencies in a message to decide if a message is spam or ham. If the  same word appears twice in a message, that could be tell you something...but this is only useful if it's a word that you wouldn't expect to appear twice.  If we saw multiple 'ands' in a message, that doesn't help us because 'and' naturally occurs in our language more than many other words do.\n",
    "\n",
    "We can account for this by deweighting more common words.  How do we know if a word is common? It will be present more than other words in the corpus.  \n",
    "\n",
    "How much should we de-weight a common term?  Well, the more common it is, the more we should de-weight it.\n",
    "\n",
    "We can use _inverse document frequency_ (_idf_) to de-weight common terms:  $$idf = ln{\\frac{n_d}{df}} ,$$\n",
    "\n",
    "where $n_d$ is number of documents in corpus and $df$ is number of documents containing that term.\n",
    "\n",
    "\n",
    "**An illustration:**\n",
    "\n",
    "**Example 1**:\n",
    "\n",
    "    Message_15 has 10 words in it, 2 of which are '_ands_'. The $tf$ = 2/10 = 0.2.\n",
    "    The word _and_ occurs in 99 out of our 100 documents so $$idf = ln{\\frac{100}{99}} = 0.01 .$$\n",
    "\n",
    "    We multiply the 2 terms to get our tf-idf value 0.2 * 0.01 = 0.02\n",
    "    We see that the small idf has _decreased_ the weight of this term.\n",
    "\n",
    "\n",
    "**Example 2**:\n",
    "\n",
    "    Message 16 has 10 words in it, 2 of which are '_eon_'.  The $tf$ = 2/10 = 0.2.\n",
    "    The word _eon_ occurs in 1 out our 100 documents so $idf = ln{\\frac{100}{1}} = 4.61$$\n",
    "\n",
    "    We multiply the 2 terms to get our tf-idf value 0.2 * 4.61 = 0.92\n",
    "    We see that the large idf has _increased_ the weight of the term.\n",
    "\n",
    "\n"
   ]
  },
  {
   "cell_type": "markdown",
   "metadata": {},
   "source": [
    "Remember: idf is a meaure of *rarity* in the corpus.  Rare words have high idf values\n",
    "\n",
    "Postscript: <br>There are variants of the basic idf equation.  It's not uncommon to add1 to the denominator to avoid division by zero. Scikit-learn also adds 1 to the numerator aswell."
   ]
  },
  {
   "cell_type": "markdown",
   "metadata": {},
   "source": [
    "**In summary then...**\n",
    "\n",
    "1. Count how many times a word occurs in each message (tf),\n",
    "\n",
    "2. Determine how many documents a word occurs in out of all documents (inverse document frequency),\n",
    "\n",
    "3. For each word in message generate tf\\*idf values\n",
    "\n",
    "4. Normalize each message vector so terms sum to 1\n",
    "\n"
   ]
  },
  {
   "cell_type": "markdown",
   "metadata": {},
   "source": [
    "Let's transform our *df\\_bow* matrix, which currently holds word counts, into tf-idf values..."
   ]
  },
  {
   "cell_type": "code",
   "execution_count": 141,
   "metadata": {
    "collapsed": false
   },
   "outputs": [],
   "source": [
    "from sklearn.feature_extraction.text import TfidfTransformer "
   ]
  },
  {
   "cell_type": "code",
   "execution_count": 142,
   "metadata": {
    "collapsed": false
   },
   "outputs": [
    {
     "data": {
      "text/plain": [
       "TfidfTransformer(norm='l2', smooth_idf=True, sublinear_tf=False, use_idf=True)"
      ]
     },
     "execution_count": 142,
     "metadata": {},
     "output_type": "execute_result"
    }
   ],
   "source": [
    "tfidf_transformer = TfidfTransformer()\n",
    "tfidf_transformer.fit(df_bow) "
   ]
  },
  {
   "cell_type": "code",
   "execution_count": 150,
   "metadata": {
    "collapsed": false
   },
   "outputs": [
    {
     "name": "stdout",
     "output_type": "stream",
     "text": [
      "  (0, 4068)\t2\n",
      "  (0, 4629)\t1\n",
      "  (0, 5261)\t1\n",
      "  (0, 6204)\t1\n",
      "  (0, 6222)\t1\n",
      "  (0, 7186)\t1\n",
      "  (0, 9554)\t2\n",
      "\n",
      "\n",
      "  (0, 9554)\t0.538562626293\n",
      "  (0, 7186)\t0.438936565338\n",
      "  (0, 6222)\t0.318721689295\n",
      "  (0, 6204)\t0.299537997237\n",
      "  (0, 5261)\t0.297299574059\n",
      "  (0, 4629)\t0.266198019061\n",
      "  (0, 4068)\t0.408325899334\n"
     ]
    }
   ],
   "source": [
    "# Let's just look at a single message (message_4 again) to see what happens when we use our tfidf transformer\n",
    "tfidf4 = tfidf_transformer.transform(bow4)\n",
    "print(bow4)\n",
    "print('\\n')\n",
    "print(tfidf4)"
   ]
  },
  {
   "cell_type": "markdown",
   "metadata": {},
   "source": [
    "It's easy to see what our document frequencies are.  For example bow4 contains 9 words.  The last word ('say') appears twice.  Its tf therefore is 2/9.\n",
    "\n",
    "But what about the idf values?  \n",
    "\n",
    "Let's look up 'say' in our bow vocabulary... "
   ]
  },
  {
   "cell_type": "code",
   "execution_count": 152,
   "metadata": {
    "collapsed": false
   },
   "outputs": [
    {
     "data": {
      "text/plain": [
       "5.2312396328970978"
      ]
     },
     "execution_count": 152,
     "metadata": {},
     "output_type": "execute_result"
    }
   ],
   "source": [
    "tfidf_transformer.idf_[bow_transformer.vocabulary_['say']]"
   ]
  },
  {
   "cell_type": "markdown",
   "metadata": {},
   "source": [
    "Let's manually calculate the tf-idf..."
   ]
  },
  {
   "cell_type": "code",
   "execution_count": 154,
   "metadata": {
    "collapsed": false
   },
   "outputs": [
    {
     "data": {
      "text/plain": [
       "1.3847199184215773"
      ]
     },
     "execution_count": 154,
     "metadata": {},
     "output_type": "execute_result"
    }
   ],
   "source": [
    "(tfidf_transformer.idf_[bow_transformer.vocabulary_['say']]+1) * 2/9"
   ]
  },
  {
   "cell_type": "markdown",
   "metadata": {},
   "source": [
    "The reason that this is not what we see above (0.4083) is because as a final step, the tfidftransformer carries out l2 normalisation.  \n",
    "\n",
    "Each of the values needs to be divided by the square root of the sum of all the squared tfidf values in the message. "
   ]
  },
  {
   "cell_type": "markdown",
   "metadata": {},
   "source": [
    "What is the idf of the word 'university'?"
   ]
  },
  {
   "cell_type": "code",
   "execution_count": 161,
   "metadata": {
    "collapsed": false
   },
   "outputs": [
    {
     "data": {
      "text/plain": [
       "8.527076498901426"
      ]
     },
     "execution_count": 161,
     "metadata": {},
     "output_type": "execute_result"
    }
   ],
   "source": [
    "tfidf_transformer.idf_[bow_transformer.vocabulary_['university']]"
   ]
  },
  {
   "cell_type": "markdown",
   "metadata": {},
   "source": [
    "What is the idf of the word 'hi'?"
   ]
  },
  {
   "cell_type": "code",
   "execution_count": 159,
   "metadata": {
    "collapsed": false
   },
   "outputs": [
    {
     "data": {
      "text/plain": [
       "6.5811663498461135"
      ]
     },
     "execution_count": 159,
     "metadata": {},
     "output_type": "execute_result"
    }
   ],
   "source": [
    "tfidf_transformer.idf_[bow_transformer.vocabulary_['hi']]"
   ]
  },
  {
   "cell_type": "markdown",
   "metadata": {},
   "source": [
    "'hi' (6.581) is less rare than 'university' (8.527)"
   ]
  },
  {
   "cell_type": "code",
   "execution_count": 157,
   "metadata": {
    "collapsed": false
   },
   "outputs": [
    {
     "ename": "KeyError",
     "evalue": "'pyridine'",
     "output_type": "error",
     "traceback": [
      "\u001b[0;31m---------------------------------------------------------------------------\u001b[0m",
      "\u001b[0;31mKeyError\u001b[0m                                  Traceback (most recent call last)",
      "\u001b[0;32m<ipython-input-157-7c77c5cf4c3f>\u001b[0m in \u001b[0;36m<module>\u001b[0;34m()\u001b[0m\n\u001b[0;32m----> 1\u001b[0;31m \u001b[0mtfidf_transformer\u001b[0m\u001b[0;34m.\u001b[0m\u001b[0midf_\u001b[0m\u001b[0;34m[\u001b[0m\u001b[0mbow_transformer\u001b[0m\u001b[0;34m.\u001b[0m\u001b[0mvocabulary_\u001b[0m\u001b[0;34m[\u001b[0m\u001b[0;34m'pyridine'\u001b[0m\u001b[0;34m]\u001b[0m\u001b[0;34m]\u001b[0m\u001b[0;34m\u001b[0m\u001b[0m\n\u001b[0m",
      "\u001b[0;31mKeyError\u001b[0m: 'pyridine'"
     ]
    }
   ],
   "source": [
    "tfidf_transformer.idf_[bow_transformer.vocabulary_['pyridine']]"
   ]
  },
  {
   "cell_type": "markdown",
   "metadata": {},
   "source": [
    "And finally, let's transform the entire bag-of-words dataframe..."
   ]
  },
  {
   "cell_type": "code",
   "execution_count": 158,
   "metadata": {
    "collapsed": true
   },
   "outputs": [],
   "source": [
    "messages_tfidf = tfidf_transformer.transform(df_bow)"
   ]
  },
  {
   "cell_type": "markdown",
   "metadata": {},
   "source": [
    "## 6) Build model"
   ]
  },
  {
   "cell_type": "markdown",
   "metadata": {},
   "source": [
    "Let's use Naive Bayes Classifier - this is usually a good option for text data..."
   ]
  },
  {
   "cell_type": "code",
   "execution_count": 162,
   "metadata": {
    "collapsed": true
   },
   "outputs": [],
   "source": [
    "from sklearn.naive_bayes import MultinomialNB"
   ]
  },
  {
   "cell_type": "code",
   "execution_count": 163,
   "metadata": {
    "collapsed": true
   },
   "outputs": [],
   "source": [
    "X = messages_tfidf\n",
    "y = df.label"
   ]
  },
  {
   "cell_type": "code",
   "execution_count": 164,
   "metadata": {
    "collapsed": true
   },
   "outputs": [],
   "source": [
    "spam_detect_model = MultinomialNB().fit(X, y) \n",
    "# Note we are training on entire dataset here !!!"
   ]
  },
  {
   "cell_type": "markdown",
   "metadata": {},
   "source": [
    "Let's use our trained model do a single prediction on the message we transformed to tfidf earlier... "
   ]
  },
  {
   "cell_type": "code",
   "execution_count": 165,
   "metadata": {
    "collapsed": false
   },
   "outputs": [
    {
     "data": {
      "text/plain": [
       "'ham'"
      ]
     },
     "execution_count": 165,
     "metadata": {},
     "output_type": "execute_result"
    }
   ],
   "source": [
    "spam_detect_model.predict(tfidf4)[0]"
   ]
  },
  {
   "cell_type": "markdown",
   "metadata": {},
   "source": [
    "Did we predict correctly?"
   ]
  },
  {
   "cell_type": "code",
   "execution_count": 166,
   "metadata": {
    "collapsed": false
   },
   "outputs": [
    {
     "data": {
      "text/plain": [
       "'ham'"
      ]
     },
     "execution_count": 166,
     "metadata": {},
     "output_type": "execute_result"
    }
   ],
   "source": [
    "df.iloc[3]['label']"
   ]
  },
  {
   "cell_type": "markdown",
   "metadata": {},
   "source": [
    "Note that whilst we were looking at one example above, we were predicting for data that the model had already been exposed to (i.e. trained on)\n",
    "\n",
    "Let's go ahead now and split the data into train and test before we go any further."
   ]
  },
  {
   "cell_type": "code",
   "execution_count": 169,
   "metadata": {
    "collapsed": true
   },
   "outputs": [],
   "source": [
    "from sklearn.model_selection import train_test_split"
   ]
  },
  {
   "cell_type": "code",
   "execution_count": 194,
   "metadata": {
    "collapsed": false
   },
   "outputs": [],
   "source": [
    "msg_train, msg_test, label_train, label_test = train_test_split(\n",
    "    df.message, df.label, test_size=0.3)"
   ]
  },
  {
   "cell_type": "markdown",
   "metadata": {},
   "source": [
    "So we've now created our separate train and test sets. Rather than rewriting/rerunning some of the above code on our newly created train set (before going on to make predictions on our test set), let's instead bundle the fit and transformation steps that we've previously defined above into a pipeline... "
   ]
  },
  {
   "cell_type": "code",
   "execution_count": 171,
   "metadata": {
    "collapsed": true
   },
   "outputs": [],
   "source": [
    "from sklearn.pipeline import Pipeline"
   ]
  },
  {
   "cell_type": "markdown",
   "metadata": {},
   "source": [
    "Create pipeline of our various transformers and a final estimator..."
   ]
  },
  {
   "cell_type": "code",
   "execution_count": 173,
   "metadata": {
    "collapsed": false
   },
   "outputs": [],
   "source": [
    "pipeline = Pipeline([\n",
    "        ('bow', CountVectorizer(analyzer=process_text)),\n",
    "        ('tfidf', TfidfTransformer()),\n",
    "        ('classifier', MultinomialNB())\n",
    "    ])"
   ]
  },
  {
   "cell_type": "code",
   "execution_count": 174,
   "metadata": {
    "collapsed": false
   },
   "outputs": [
    {
     "data": {
      "text/plain": [
       "Pipeline(steps=[('bow', CountVectorizer(analyzer=<function process_text at 0x7f0d42fd80d0>,\n",
       "        binary=False, decode_error='strict', dtype=<class 'numpy.int64'>,\n",
       "        encoding='utf-8', input='content', lowercase=True, max_df=1.0,\n",
       "        max_features=None, min_df=1, ngram_range=(1, 1), preprocessor=No...f=False, use_idf=True)), ('classifier', MultinomialNB(alpha=1.0, class_prior=None, fit_prior=True))])"
      ]
     },
     "execution_count": 174,
     "metadata": {},
     "output_type": "execute_result"
    }
   ],
   "source": [
    "pipeline.fit(msg_train, label_train)"
   ]
  },
  {
   "cell_type": "code",
   "execution_count": 175,
   "metadata": {
    "collapsed": false
   },
   "outputs": [],
   "source": [
    "y_pred = pipeline.predict(msg_test)"
   ]
  },
  {
   "cell_type": "code",
   "execution_count": 176,
   "metadata": {
    "collapsed": true
   },
   "outputs": [],
   "source": [
    "from sklearn.metrics import classification_report, confusion_matrix"
   ]
  },
  {
   "cell_type": "code",
   "execution_count": 177,
   "metadata": {
    "collapsed": false
   },
   "outputs": [
    {
     "name": "stdout",
     "output_type": "stream",
     "text": [
      "[[1443    0]\n",
      " [  72  157]]\n"
     ]
    }
   ],
   "source": [
    "print(confusion_matrix(label_test,y_pred))"
   ]
  },
  {
   "cell_type": "markdown",
   "metadata": {},
   "source": [
    "From the confusion matrix we see:\n",
    "    \n",
    "    There are 1443 actual ham (class 0)\n",
    "    There 199 actual spam (class 1)\n",
    "    \n",
    "Our Naive Bayes classifier has correctly classified all 1443 of the actual ham messages.  There are no ham classed as spam (false positives)- which is ideal for a spam classifier where it is better to let some spam slip through then for ham messages to be classed as spam. False positives in a spam classifier (where spam is positive class) are not ideal.\n",
    "\n",
    "When it comes to the actual spam messages, the classifier has correctly identified 157 spam messages, but it has also classified 72 spam as ham (false negatives), so recipients rae likely to be getting plenty of unfiltered spam messages.  \n",
    "\n",
    " \n"
   ]
  },
  {
   "cell_type": "code",
   "execution_count": 178,
   "metadata": {
    "collapsed": false
   },
   "outputs": [
    {
     "name": "stdout",
     "output_type": "stream",
     "text": [
      "             precision    recall  f1-score   support\n",
      "\n",
      "        ham       0.95      1.00      0.98      1443\n",
      "       spam       1.00      0.69      0.81       229\n",
      "\n",
      "avg / total       0.96      0.96      0.95      1672\n",
      "\n"
     ]
    }
   ],
   "source": [
    "print(classification_report(label_test, y_pred))"
   ]
  },
  {
   "cell_type": "markdown",
   "metadata": {},
   "source": [
    "Our recall for ham is perfect but the quality is slightly down - we are pulling in some spam messages as well (precision = 0.95)\n",
    "\n",
    "The classifier's ability to find all the spam messages is less impressive (recall = 0.69), however as discussed, the quality is perfect (precision =1) ...no ham messages are pulled in."
   ]
  },
  {
   "cell_type": "markdown",
   "metadata": {},
   "source": [
    "# 7) Build a different model by substituting classifier in pipeline"
   ]
  },
  {
   "cell_type": "code",
   "execution_count": 179,
   "metadata": {
    "collapsed": true
   },
   "outputs": [],
   "source": [
    "from sklearn.ensemble import RandomForestClassifier"
   ]
  },
  {
   "cell_type": "code",
   "execution_count": 188,
   "metadata": {
    "collapsed": false
   },
   "outputs": [],
   "source": [
    "pipeline_rfc = Pipeline([\n",
    "        ('bow', CountVectorizer(analyzer=process_text)),\n",
    "        ('tfidf', TfidfTransformer()),\n",
    "        ('classifier', RandomForestClassifier(50))\n",
    "    ])"
   ]
  },
  {
   "cell_type": "code",
   "execution_count": 189,
   "metadata": {
    "collapsed": false
   },
   "outputs": [],
   "source": [
    "pipeline_rfc.fit(msg_train, label_train)\n",
    "y_pred = pipeline_rfc.predict(msg_test)"
   ]
  },
  {
   "cell_type": "code",
   "execution_count": 190,
   "metadata": {
    "collapsed": false
   },
   "outputs": [
    {
     "name": "stdout",
     "output_type": "stream",
     "text": [
      "[[1443    0]\n",
      " [  57  172]]\n"
     ]
    }
   ],
   "source": [
    "print(confusion_matrix(label_test,y_pred))"
   ]
  },
  {
   "cell_type": "markdown",
   "metadata": {},
   "source": [
    "With the random forest, using 50 estimators, again we get all ham correctly classified and no false positives.\n",
    "\n",
    "We see an improvement in spam classification with less spam being classified as ham. "
   ]
  },
  {
   "cell_type": "code",
   "execution_count": 192,
   "metadata": {
    "collapsed": false
   },
   "outputs": [
    {
     "name": "stdout",
     "output_type": "stream",
     "text": [
      "             precision    recall  f1-score   support\n",
      "\n",
      "        ham       0.96      1.00      0.98      1443\n",
      "       spam       1.00      0.75      0.86       229\n",
      "\n",
      "avg / total       0.97      0.97      0.96      1672\n",
      "\n"
     ]
    }
   ],
   "source": [
    "print(classification_report(label_test, y_pred))"
   ]
  },
  {
   "cell_type": "markdown",
   "metadata": {},
   "source": [
    "As before, recall for ham is perfect.  The slight increase in precision shows less spam being pulled in to the ham classification.\n",
    "\n",
    "Recall for spam is improved with more spam messages being correctly identified and as before, the quality is perfect - no ham messages are pulled in. "
   ]
  }
 ],
 "metadata": {
  "anaconda-cloud": {},
  "kernelspec": {
   "display_name": "Python [default]",
   "language": "python",
   "name": "python3"
  },
  "language_info": {
   "codemirror_mode": {
    "name": "ipython",
    "version": 3
   },
   "file_extension": ".py",
   "mimetype": "text/x-python",
   "name": "python",
   "nbconvert_exporter": "python",
   "pygments_lexer": "ipython3",
   "version": "3.5.2"
  }
 },
 "nbformat": 4,
 "nbformat_minor": 0
}
